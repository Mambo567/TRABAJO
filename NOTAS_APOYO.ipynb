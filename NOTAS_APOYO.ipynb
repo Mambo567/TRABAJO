{
 "cells": [
  {
   "cell_type": "markdown",
   "metadata": {},
   "source": [
    "<img src=\"glosario_métodos.jfif\" alt=\"glosario\" style=\"width:30%;\"/>\n"
   ]
  },
  {
   "cell_type": "markdown",
   "metadata": {},
   "source": [
    "# Strings\n",
    " Recordar que los strings son prácticamente arrays (Colecciones) de caracteres, por ello, muchas funciones los tratan como tales."
   ]
  },
  {
   "cell_type": "markdown",
   "metadata": {},
   "source": [
    "## Funciones útiles"
   ]
  },
  {
   "cell_type": "code",
   "execution_count": 2,
   "metadata": {},
   "outputs": [
    {
     "name": "stdout",
     "output_type": "stream",
     "text": [
      "buen dia\n"
     ]
    }
   ],
   "source": [
    "#Concatenar: Simplemente se \"suman\" los textos o variables de texto. Sirve cuando quiero simplemente juntar 2 o mas strings.\n",
    "\n",
    "saludo = \"buen \" + \"dia\"\n",
    "print(saludo)"
   ]
  },
  {
   "cell_type": "code",
   "execution_count": 1,
   "metadata": {},
   "outputs": [
    {
     "name": "stdout",
     "output_type": "stream",
     "text": [
      "True\n"
     ]
    }
   ],
   "source": [
    "# Presencia (Esta?): Para saber si un texto esta contenido dentro de otro simplemente tenemos que usar \"in\"1-Ramp_up\n",
    "\n",
    "print(\"ala\" in \"alamo\")"
   ]
  },
  {
   "cell_type": "code",
   "execution_count": 11,
   "metadata": {},
   "outputs": [
    {
     "name": "stdout",
     "output_type": "stream",
     "text": [
      "52\n"
     ]
    },
    {
     "data": {
      "text/plain": [
       "0"
      ]
     },
     "execution_count": 11,
     "metadata": {},
     "output_type": "execute_result"
    }
   ],
   "source": [
    "# Tamaño: alcular el número de caracteres de un string = len(). Sirve cuando quiero saber el tamaño de una palabra o frase. \n",
    "# OJO: Si queremos posiciones, tenemos que restar uno. \n",
    "# OJO: También incluye espacios\n",
    "\n",
    "print(len(\"La programación con Python es intuitiva y fascinante\"))\n",
    "\n",
    "#Es muy útil también cuando se quiere saber si un texto o lista (la veremos despues), esta vacía, aunque el elemento exista. \n",
    "\n",
    "print(len(\"\"))"
   ]
  },
  {
   "cell_type": "code",
   "execution_count": 12,
   "metadata": {},
   "outputs": [
    {
     "name": "stdout",
     "output_type": "stream",
     "text": [
      "h\n",
      "o\n",
      "l\n",
      "a\n"
     ]
    }
   ],
   "source": [
    "# Indexación: Al igual que en las listas, al colocar el formato string[x], podemos localizar una letra en especifico \n",
    "\n",
    "ejemplo = \"hola\"\n",
    "\n",
    "print(ejemplo[0])\n",
    "print(ejemplo[1])\n",
    "print(ejemplo[2])\n",
    "print(ejemplo[3])"
   ]
  },
  {
   "cell_type": "code",
   "execution_count": 18,
   "metadata": {},
   "outputs": [
    {
     "name": "stdout",
     "output_type": "stream",
     "text": [
      "23/02/1996\n",
      "True\n"
     ]
    }
   ],
   "source": [
    "# SLICING: Al igual que en las listas, podemos obtener un rango de caracteres de un texto. Sirve especialmente si queremos obtener ciertos caracteres de un texto y sabemos que siempre van a estar en ciertas posiciones.\n",
    "# NOTA: Al igual que en la función de range, el último valor no esta incluido. Por eso abajo pusimos 10 en lugar de 9 para que nos incluya el 96.\n",
    "\n",
    "#Ejemplo\n",
    "# Tenemos una fecha escrita en texto pero solo queremos las posiciones que incliuyen dia, mes y año, y no la hora.\n",
    "\n",
    "fecha = \"23/02/1996:10:45:23\"\n",
    "fecha_arreglada = fecha[0:10]\n",
    "print(fecha_arreglada)\n",
    "\n",
    "# Re-ordenar/Invertir las letras de una palabra/frase. Podemos invertir una palabra con la indexación/slicing. Es la mejor forma ya que otras funciones re-ordenan los caracteres de formas que no tienen sentido. Asi nos aseguramos que simplemente se invierten. \n",
    "# Ejemplo: Si queremos saber si una palabra es palíndroma. \n",
    "\n",
    "palabra = \"ala\"\n",
    "print(palabra[::-1] == palabra)\n",
    "\n",
    "\n"
   ]
  },
  {
   "cell_type": "markdown",
   "metadata": {},
   "source": [
    "## Métodos"
   ]
  },
  {
   "cell_type": "code",
   "execution_count": 40,
   "metadata": {},
   "outputs": [
    {
     "name": "stdout",
     "output_type": "stream",
     "text": [
      "23\n"
     ]
    }
   ],
   "source": [
    "# index(): Sirve para saber la posición de un elemento.\n",
    "# NOTA: Se pueden ingresar 3 elementos: index(str,int,int), un texto y dos enteros para señalar donde empezar la búsqueda y donde terminarla.\n",
    "# Return: Si\n",
    "# Cambia detrás del telón: No\n",
    "\n",
    "#Ejemplo: Si queremos hacer slicing de un valor sin incluir lo que hay después del punto \"Decimales\"\n",
    "\n",
    "sitio = \"23.489589458749896895\"\n",
    "punto = sitio.index(\".\")\n",
    "valor_sin_decimales = sitio[0:punto]\n",
    "print(valor_sin_decimales)\n"
   ]
  },
  {
   "cell_type": "code",
   "execution_count": 45,
   "metadata": {},
   "outputs": [
    {
     "name": "stdout",
     "output_type": "stream",
     "text": [
      "-1\n",
      "23489589458749896895\n"
     ]
    }
   ],
   "source": [
    "# find(): Hace lo mismo que index(), pero si no encuentra el valor devuelve \"-1\" y no se rompe.\n",
    "# NOTA: Devuelve \"-1\", por lo que hay que usar un if o una validación si se van a hacer operaciones con el valor luego.\n",
    "# NOTA: Se pueden ingresar 3 elementos: index(str,int,int), un texto y dos enteros para señalar donde empezar la búsqueda y donde terminarla.\n",
    "# Return: Si\n",
    "# Cambia detrás del telón: No\n",
    "\n",
    "#Ejemplo: Si queremos hacer slicing de un valor sin incluir lo que hay después del punto \"Decimales\" PERO no estamos seguros si todos los valores tendran punto\n",
    "sitio = \"23489589458749896895\"\n",
    "punto = sitio.find(\".\")\n",
    "print(punto)\n"
   ]
  },
  {
   "cell_type": "code",
   "execution_count": 21,
   "metadata": {},
   "outputs": [
    {
     "data": {
      "text/plain": [
       "'luis'"
      ]
     },
     "execution_count": 21,
     "metadata": {},
     "output_type": "execute_result"
    }
   ],
   "source": [
    "# capitalize: Poner la primera letra como mayúscula.\n",
    "# Return: Si\n",
    "# Cambia detrás del telón: No\n",
    "\n",
    "# Ejemplo: Tenemos una lista de nombres pero estan en minusculas todas las letras y queremos los nombres en mayúsculas.\n",
    "\n",
    "nombre = \"luis\"\n",
    "print(nombre.capitalize())\n"
   ]
  },
  {
   "cell_type": "code",
   "execution_count": 25,
   "metadata": {},
   "outputs": [
    {
     "name": "stdout",
     "output_type": "stream",
     "text": [
      "False\n",
      "True\n"
     ]
    },
    {
     "data": {
      "text/plain": [
       "'jajaja'"
      ]
     },
     "execution_count": 25,
     "metadata": {},
     "output_type": "execute_result"
    }
   ],
   "source": [
    "# upper() y lower(): convierten todo el texto del string a mayusculas o minusculas. ambas son especialmente útiles si queremos validar un texto introducido.\n",
    "# Return: Si\n",
    "# Cambia detrás del telón: No\n",
    "\n",
    "# Ejemplo: Si queremos \"igualar\" strings para asegurarnos de que un texto introducido sea una palabra que esperamos.\n",
    "palabra1 = \"jajaja\"\n",
    "palabra2 = \"JAJAJA\"\n",
    "print(palabra1 == palabra2)\n",
    "print(palabra1.lower() == palabra2.lower())"
   ]
  },
  {
   "cell_type": "code",
   "execution_count": 26,
   "metadata": {},
   "outputs": [
    {
     "name": "stdout",
     "output_type": "stream",
     "text": [
      "Luis Rene Vasquez Ordoñez\n"
     ]
    }
   ],
   "source": [
    "# title(): Convierte la primera letra de cada palabra a mayúsculas y las demas a minusculas.\n",
    "# Return: Si\n",
    "# Cambia detrás del telón: No\n",
    "\n",
    "#Ejemplo: Tenemos un campo con nombre y apellidos y queremos arreglar la escritura.\n",
    "\n",
    "nombre = \"lUIs renE VasqueZ ordoñEZ\"\n",
    "print(nombre.title())"
   ]
  },
  {
   "cell_type": "code",
   "execution_count": 29,
   "metadata": {},
   "outputs": [
    {
     "data": {
      "text/plain": [
       "8"
      ]
     },
     "execution_count": 29,
     "metadata": {},
     "output_type": "execute_result"
    }
   ],
   "source": [
    "# count(): cuenta las veces que aparece un caracter en el texto.\n",
    "# Return: Si\n",
    "# Cambia detrás del telón: No\n",
    "\n",
    "# Ejemplo: Queremos saber cuantos \"error\" hay en un campo para saber cuantos errores hubieron.\n",
    "confirmaciones = \"error error error error error error error error\"\n",
    "confirmaciones.count(\"error\")"
   ]
  },
  {
   "cell_type": "code",
   "execution_count": 31,
   "metadata": {},
   "outputs": [
    {
     "data": {
      "text/plain": [
       "True"
      ]
     },
     "execution_count": 31,
     "metadata": {},
     "output_type": "execute_result"
    }
   ],
   "source": [
    "# startswith(): Devuelve un booleano validando si el elemento empieza con los caracteres seleccionados.\n",
    "# Return: Si\n",
    "# Cambia detrás del telón: No\n",
    "\n",
    "# Ejemplo: Queremos validar si un elemento de texto es un sitio web.\n",
    "texto = \"www.chingatumadre.com\"\n",
    "texto.startswith(\"www.\")\n"
   ]
  },
  {
   "cell_type": "code",
   "execution_count": 33,
   "metadata": {},
   "outputs": [
    {
     "data": {
      "text/plain": [
       "True"
      ]
     },
     "execution_count": 33,
     "metadata": {},
     "output_type": "execute_result"
    }
   ],
   "source": [
    "# startswith(): Devuelve un booleano validando si el elemento termina con los caracteres seleccionados.\n",
    "# Return: Si\n",
    "# Cambia detrás del telón: No\n",
    "\n",
    "# Ejemplo: Queremos validar si un elemento de texto es un correo electrónico.\n",
    "texto = \"chingatumadre@gmail.com\"\n",
    "texto.endswith(\"@gmail.com\")"
   ]
  },
  {
   "cell_type": "code",
   "execution_count": 49,
   "metadata": {},
   "outputs": [
    {
     "name": "stdout",
     "output_type": "stream",
     "text": [
      "Hoy es hermoso\n",
      "El día de hoy hermoso\n",
      "0RLAND0\n",
      "ORLANDO\n"
     ]
    }
   ],
   "source": [
    "# replace(): Reemplaza el primer texto por el segundo\n",
    "# Return: Si\n",
    "# Cambia detrás del telón: No\n",
    "\n",
    "# Ejemplo: Queremos cambiar la frase predeterminada de un campo.\n",
    "\n",
    "texto = \"Hoy es hermoso\"\n",
    "texto2 = texto.replace(\"Hoy es\",\"El día de hoy\")\n",
    "print(texto)\n",
    "print(texto2)\n",
    "\n",
    "# Ejemplo 2: Queremos corregir un error y sustituir \"0\" por letras \"O\"\n",
    "texto = \"0RLAND0\"\n",
    "texto2 = texto.replace(\"0\",\"O\")\n",
    "print(texto)\n",
    "print(texto2)\n"
   ]
  },
  {
   "cell_type": "code",
   "execution_count": 50,
   "metadata": {},
   "outputs": [
    {
     "name": "stdout",
     "output_type": "stream",
     "text": [
      "True\n"
     ]
    }
   ],
   "source": [
    "# isdigit(): Valida si un texto es un entero positivo.\n",
    "# Return: Si\n",
    "# Cambia detrás del telón: No\n",
    "\n",
    "# Ejemplo: Queremos saber que elementos tienen un número por texto.\n",
    "\n",
    "es_numero = \"23\"\n",
    "print(es_numero.isdigit())"
   ]
  },
  {
   "cell_type": "code",
   "execution_count": 51,
   "metadata": {},
   "outputs": [
    {
     "name": "stdout",
     "output_type": "stream",
     "text": [
      "False\n"
     ]
    }
   ],
   "source": [
    "# isalpha(): Valida si un texto solo contiene letras.\n",
    "# Return: Si\n",
    "# Cambia detrás del telón: No\n",
    "\n",
    "# Ejemplo: Si queremos validar que un elemento no contenga ningún número\n",
    "solo_texto = \"tengo23\"\n",
    "print(solo_texto.isalpha())"
   ]
  },
  {
   "cell_type": "markdown",
   "metadata": {},
   "source": [
    "# Listas "
   ]
  },
  {
   "cell_type": "markdown",
   "metadata": {},
   "source": [
    "## MÉTODOS\n",
    "\n",
    "`append()`  \n",
    "Adds an element at the end of the list  \n",
    "\n",
    "`clear()`  \n",
    "Removes all the elements from the list  \n",
    "\n",
    "`copy()`  \n",
    "Returns a copy of the list  \n",
    "\n",
    "`count()`  \n",
    "Returns the number of elements with the specified value  \n",
    "\n",
    "`extend()`  \n",
    "Add the elements of a list (or any iterable), to the end of the current list  \n",
    "\n",
    "`index()`  \n",
    "Returns the index of the first element with the specified value  \n",
    "\n",
    "`insert()`  \n",
    "Adds an element at the specified position  \n",
    "\n",
    "`pop()`  \n",
    "Removes the element at the specified position  \n",
    "\n",
    "`remove()`  \n",
    "Removes the first item with the specified value  \n",
    "\n",
    "`reverse()`  \n",
    "Reverses the order of the list  \n",
    "\n",
    "`sort()`  \n",
    "Sorts the list  \n"
   ]
  },
  {
   "cell_type": "code",
   "execution_count": 54,
   "metadata": {},
   "outputs": [
    {
     "name": "stdout",
     "output_type": "stream",
     "text": [
      "True\n"
     ]
    }
   ],
   "source": [
    "# in: Validación rápida que devuelve un bolleano si un elemento esta en una lista\n",
    "# Return: Si\n",
    "# Cambia detrás del telón: No \n",
    "\n",
    "##  Ejemplo:\n",
    "\n",
    "lista = [1,2,\"hola\"]\n",
    "\n",
    "print(\"hola\" in lista)"
   ]
  },
  {
   "cell_type": "code",
   "execution_count": 57,
   "metadata": {},
   "outputs": [
    {
     "name": "stdout",
     "output_type": "stream",
     "text": [
      "* \n",
      "* * \n",
      "* * * \n",
      "* * * * \n",
      "* * * * * \n",
      "* * * * * * \n",
      "* * * * * * * \n",
      "* * * * * * * * \n",
      "* * * * * * * * * \n",
      "* * * * * * * * * * \n",
      "* * * * * * * * * * * \n",
      "* * * * * * * * * * * * \n",
      "* * * * * * * * * * * * * \n",
      "* * * * * * * * * * * * * * \n",
      "* * * * * * * * * * * * * * * \n",
      "* * * * * * * * * * * * * * * * \n",
      "* * * * * * * * * * * * * * * * * \n",
      "* * * * * * * * * * * * * * * * * * \n",
      "* * * * * * * * * * * * * * * * * * * \n",
      "* * * * * * * * * * * * * * * * * * * * \n"
     ]
    }
   ],
   "source": [
    "# range() + list(): combincación excelente para hacer iteraciones cuando el número de la iteración es importante y queremos usarlo\n",
    "# Return: Si\n",
    "# Cambia detrás del telón: No \n",
    "\n",
    "##  Ejemplo: Crear una pirámide donde necesitamos saber y usar constantemente los valores de las iteraciones (Escalon y estrella)\n",
    "\n",
    "def piramide(altura):\n",
    "    for escalon in list(range(1,altura+1)):\n",
    "        for estrella in list(range(1,altura+1)):\n",
    "            if estrella <= escalon:\n",
    "                print(\"*\", end = \" \")\n",
    "        print()\n",
    "    return None\n",
    "\n",
    "piramide(20)\n"
   ]
  },
  {
   "cell_type": "markdown",
   "metadata": {},
   "source": [
    "# Diccionarios\n",
    "## Siempre que iteremos en diccionarios, usar .items()"
   ]
  },
  {
   "cell_type": "markdown",
   "metadata": {},
   "source": [
    "## MÉTODOS\n",
    "\n",
    "`clear()`  \n",
    "Removes all the elements from the dictionary  \n",
    "\n",
    "`copy()`  \n",
    "Returns a copy of the dictionary  \n",
    "\n",
    "`fromkeys()`  \n",
    "Returns a dictionary with the specified keys and value -> Útil para poner un diccionario con varias keys con el mismo valor inicial.\n",
    "\n",
    "`get()`  \n",
    "Returns the value of the specified key  \n",
    "\n",
    "`items()`  \n",
    "Returns a list containing a tuple for each key-value pair  \n",
    "\n",
    "`keys()`  \n",
    "Returns a list containing the dictionary's keys  \n",
    "\n",
    "`pop()`  \n",
    "Removes the element with the specified key  \n",
    "\n",
    "`popitem()`  \n",
    "Removes the last inserted key-value pair  \n",
    "\n",
    "`setdefault()`  \n",
    "Returns the value of the specified key. If the key does not exist: insert the key, with the specified value  \n",
    "\n",
    "`update()`  \n",
    "Updates the dictionary with the specified key-value pairs  \n",
    "\n",
    "`values()`  \n",
    "Returns a list of all the values in the dictionary  \n"
   ]
  },
  {
   "cell_type": "code",
   "execution_count": 17,
   "metadata": {},
   "outputs": [
    {
     "name": "stdout",
     "output_type": "stream",
     "text": [
      "1\n",
      "2\n",
      "{'uno': 1, 'dos': 2, 'tres': 3, 'cuatro': 4}\n",
      "{'uno': [1, 2], 'dos': [1, 2]}\n"
     ]
    }
   ],
   "source": [
    "dic = {\"uno\":1,\"dos\":2,\"tres\":3}\n",
    "\n",
    "print(dic[\"uno\"])\n",
    "print(dic.get(\"dos\"))\n",
    "\n",
    "dic.update({\"cuatro\":4})\n",
    "print(dic)\n",
    "\n",
    "\n",
    "dic_cortado = dic.fromkeys([\"uno\",\"dos\"],[1,2])\n",
    "print(dic_cortado)"
   ]
  },
  {
   "cell_type": "markdown",
   "metadata": {},
   "source": [
    "# RECURSIVIDAD"
   ]
  },
  {
   "cell_type": "code",
   "execution_count": 3,
   "metadata": {},
   "outputs": [
    {
     "name": "stdout",
     "output_type": "stream",
     "text": [
      "aqui!\n",
      "izquierda\n",
      "aqui!\n",
      "izquierda\n",
      "aqui!\n",
      "izquierda\n",
      "aqui!\n",
      "Encontrado\n"
     ]
    },
    {
     "data": {
      "text/plain": [
       "0"
      ]
     },
     "execution_count": 3,
     "metadata": {},
     "output_type": "execute_result"
    }
   ],
   "source": [
    "arr = [1,4,3,6,7,9,5,0]\n",
    "num_a_buscar = 0\n",
    "\n",
    "\n",
    "def binary_search(arr, num_a_buscar):\n",
    "    print(\"aqui!\")\n",
    "    arr = sorted(arr)\n",
    "    \n",
    "    if arr == []:\n",
    "        print(\"No encontrado\")\n",
    "        return None\n",
    "    else:\n",
    "        punto_medio = len(arr)//2\n",
    "        numero_a_comparar = arr[punto_medio]\n",
    "        # print(punto_medio)\n",
    "        # print(num_a_buscar)\n",
    "        # print(arr)\n",
    "        if num_a_buscar == numero_a_comparar:\n",
    "            print(\"Encontrado\")\n",
    "            return num_a_buscar\n",
    "        else:\n",
    "            if num_a_buscar > numero_a_comparar:\n",
    "                print(\"derecha\")\n",
    "                return binary_search(arr[punto_medio+1:], num_a_buscar)\n",
    "            else:\n",
    "                print(\"izquierda\")\n",
    "                return binary_search(arr[:punto_medio], num_a_buscar)\n",
    "            \n",
    "binary_search(arr, num_a_buscar)"
   ]
  },
  {
   "cell_type": "code",
   "execution_count": 7,
   "metadata": {},
   "outputs": [
    {
     "name": "stdout",
     "output_type": "stream",
     "text": [
      "dict_keys(['juan', 'pepe'])\n",
      "[1, 2]\n"
     ]
    }
   ],
   "source": [
    "diccionario = {\"juan\":1,\"pepe\":2}\n",
    "len(diccionario)\n",
    "print(diccionario.keys())\n",
    "lista = [1,2]\n",
    "print(lista)"
   ]
  },
  {
   "cell_type": "markdown",
   "metadata": {},
   "source": [
    "## COMO CREAR UNA MATRIZ DE VALORES ALEATORIOS Y BUSCAR UN VALOR EN ELLA"
   ]
  },
  {
   "cell_type": "code",
   "execution_count": 78,
   "metadata": {},
   "outputs": [
    {
     "name": "stdout",
     "output_type": "stream",
     "text": [
      "[[3, 2, 8], [3, 8, 2], [1, 7, 8]]\n",
      "[(0, 0), (1, 0)]\n"
     ]
    }
   ],
   "source": [
    "def matriz_buscar(ancho,valor_a_buscar):\n",
    "    matriz = []\n",
    "    indices = []\n",
    "    import random\n",
    "\n",
    "\n",
    "    for columna in list(range(0,ancho)):\n",
    "        matriz.append([])\n",
    "        for fila in list(range(0,ancho)):\n",
    "            matriz[columna].append(random.randint(1,10))\n",
    "        \n",
    "    print(matriz)\n",
    "\n",
    "    for fila in list(range(0,ancho)):\n",
    "        for columna in list(range(0,ancho)):\n",
    "            if matriz[fila][columna] == valor_a_buscar:\n",
    "                indices.append((fila,columna))\n",
    "        \n",
    "    return indices\n",
    "\n",
    "print(matriz_buscar(3,3))\n",
    "\n"
   ]
  },
  {
   "cell_type": "code",
   "execution_count": 38,
   "metadata": {},
   "outputs": [
    {
     "data": {
      "text/plain": [
       "[0, 1, 2]"
      ]
     },
     "execution_count": 38,
     "metadata": {},
     "output_type": "execute_result"
    }
   ],
   "source": [
    "ancho = 3\n",
    "list(range(0,ancho))"
   ]
  },
  {
   "cell_type": "code",
   "execution_count": 8,
   "metadata": {},
   "outputs": [
    {
     "name": "stdout",
     "output_type": "stream",
     "text": [
      "[1, 2, 3]\n"
     ]
    }
   ],
   "source": [
    "ancho = 3\n",
    "print(list(range(1,ancho+1)))"
   ]
  },
  {
   "cell_type": "code",
   "execution_count": null,
   "metadata": {},
   "outputs": [],
   "source": []
  }
 ],
 "metadata": {
  "kernelspec": {
   "display_name": "fundamentals_env",
   "language": "python",
   "name": "python3"
  },
  "language_info": {
   "codemirror_mode": {
    "name": "ipython",
    "version": 3
   },
   "file_extension": ".py",
   "mimetype": "text/x-python",
   "name": "python",
   "nbconvert_exporter": "python",
   "pygments_lexer": "ipython3",
   "version": "3.11.9"
  }
 },
 "nbformat": 4,
 "nbformat_minor": 2
}
