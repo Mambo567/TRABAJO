{
 "cells": [
  {
   "cell_type": "markdown",
   "metadata": {},
   "source": [
    "# Strings\n",
    " Recordar que los strings son prácticamente arrays (Colecciones) de caracteres, por ello, muchas funciones los tratan como tales."
   ]
  },
  {
   "cell_type": "markdown",
   "metadata": {},
   "source": [
    "## Funciones útiles"
   ]
  },
  {
   "cell_type": "code",
   "execution_count": 2,
   "metadata": {},
   "outputs": [
    {
     "name": "stdout",
     "output_type": "stream",
     "text": [
      "buen dia\n"
     ]
    }
   ],
   "source": [
    "#Concatenar: Simplemente se \"suman\" los textos o variables de texto. Sirve cuando quiero simplemente juntar 2 o mas strings.\n",
    "\n",
    "saludo = \"buen \" + \"dia\"\n",
    "print(saludo)"
   ]
  },
  {
   "cell_type": "code",
   "execution_count": 11,
   "metadata": {},
   "outputs": [
    {
     "name": "stdout",
     "output_type": "stream",
     "text": [
      "52\n"
     ]
    },
    {
     "data": {
      "text/plain": [
       "0"
      ]
     },
     "execution_count": 11,
     "metadata": {},
     "output_type": "execute_result"
    }
   ],
   "source": [
    "# Tamaño: alcular el número de caracteres de un string = len(). Sirve cuando quiero saber el tamaño de una palabra o frase. \n",
    "# OJO: Si queremos posiciones, tenemos que restar uno. \n",
    "# OJO: También incluye espacios\n",
    "\n",
    "print(len(\"La programación con Python es intuitiva y fascinante\"))\n",
    "\n",
    "#Es muy útil también cuando se quiere saber si un texto o lista (la veremos despues), esta vacía, aunque el elemento exista. \n",
    "\n",
    "print(len(\"\"))"
   ]
  },
  {
   "cell_type": "code",
   "execution_count": 12,
   "metadata": {},
   "outputs": [
    {
     "name": "stdout",
     "output_type": "stream",
     "text": [
      "h\n",
      "o\n",
      "l\n",
      "a\n"
     ]
    }
   ],
   "source": [
    "# Indexación: Al igual que en las listas, al colocar el formato string[x], podemos localizar una letra en especifico \n",
    "\n",
    "ejemplo = \"hola\"\n",
    "\n",
    "print(ejemplo[0])\n",
    "print(ejemplo[1])\n",
    "print(ejemplo[2])\n",
    "print(ejemplo[3])"
   ]
  },
  {
   "cell_type": "code",
   "execution_count": 18,
   "metadata": {},
   "outputs": [
    {
     "name": "stdout",
     "output_type": "stream",
     "text": [
      "23/02/1996\n",
      "True\n"
     ]
    }
   ],
   "source": [
    "# SLICING: Al igual que en las listas, podemos obtener un rango de caracteres de un texto. Sirve especialmente si queremos obtener ciertos caracteres de un texto y sabemos que siempre van a estar en ciertas posiciones.\n",
    "# NOTA: Al igual que en la función de range, el último valor no esta incluido. Por eso abajo pusimos 10 en lugar de 9 para que nos incluya el 96.\n",
    "\n",
    "#Ejemplo\n",
    "# Tenemos una fecha escrita en texto pero solo queremos las posiciones que incliuyen dia, mes y año, y no la hora.\n",
    "\n",
    "fecha = \"23/02/1996:10:45:23\"\n",
    "fecha_arreglada = fecha[0:10]\n",
    "print(fecha_arreglada)\n",
    "\n",
    "# Re-ordenar/Invertir las letras de una palabra/frase. Podemos invertir una palabra con la indexación/slicing. Es la mejor forma ya que otras funciones re-ordenan los caracteres de formas que no tienen sentido. Asi nos aseguramos que simplemente se invierten. \n",
    "# Ejemplo: Si queremos saber si una palabra es palíndroma. \n",
    "\n",
    "palabra = \"ala\"\n",
    "print(palabra[::-1] == palabra)\n",
    "\n",
    "\n"
   ]
  },
  {
   "cell_type": "markdown",
   "metadata": {},
   "source": [
    "## Métodos"
   ]
  },
  {
   "cell_type": "code",
   "execution_count": 40,
   "metadata": {},
   "outputs": [
    {
     "name": "stdout",
     "output_type": "stream",
     "text": [
      "23\n"
     ]
    }
   ],
   "source": [
    "# index(): Sirve para saber la posición de un elemento.\n",
    "# NOTA: Se pueden ingresar 3 elementos: index(str,int,int), un texto y dos enteros para señalar donde empezar la búsqueda y donde terminarla.\n",
    "# Return: Si\n",
    "# Cambia detrás del telón: No\n",
    "\n",
    "#Ejemplo: Si queremos hacer slicing de un valor sin incluir lo que hay después del punto \"Decimales\"\n",
    "\n",
    "sitio = \"23.489589458749896895\"\n",
    "punto = sitio.index(\".\")\n",
    "valor_sin_decimales = sitio[0:punto]\n",
    "print(valor_sin_decimales)\n"
   ]
  },
  {
   "cell_type": "code",
   "execution_count": 45,
   "metadata": {},
   "outputs": [
    {
     "name": "stdout",
     "output_type": "stream",
     "text": [
      "-1\n",
      "23489589458749896895\n"
     ]
    }
   ],
   "source": [
    "# find(): Hace lo mismo que index(), pero si no encuentra el valor devuelve \"-1\" y no se rompe.\n",
    "# NOTA: Devuelve \"-1\", por lo que hay que usar un if o una validación si se van a hacer operaciones con el valor luego.\n",
    "# NOTA: Se pueden ingresar 3 elementos: index(str,int,int), un texto y dos enteros para señalar donde empezar la búsqueda y donde terminarla.\n",
    "# Return: Si\n",
    "# Cambia detrás del telón: No\n",
    "\n",
    "#Ejemplo: Si queremos hacer slicing de un valor sin incluir lo que hay después del punto \"Decimales\" PERO no estamos seguros si todos los valores tendran punto\n",
    "sitio = \"23489589458749896895\"\n",
    "punto = sitio.find(\".\")\n",
    "print(punto)\n"
   ]
  },
  {
   "cell_type": "code",
   "execution_count": 21,
   "metadata": {},
   "outputs": [
    {
     "data": {
      "text/plain": [
       "'luis'"
      ]
     },
     "execution_count": 21,
     "metadata": {},
     "output_type": "execute_result"
    }
   ],
   "source": [
    "# capitalize: Poner la primera letra como mayúscula.\n",
    "# Return: Si\n",
    "# Cambia detrás del telón: No\n",
    "\n",
    "# Ejemplo: Tenemos una lista de nombres pero estan en minusculas todas las letras y queremos los nombres en mayúsculas.\n",
    "\n",
    "nombre = \"luis\"\n",
    "print(nombre.capitalize())\n"
   ]
  },
  {
   "cell_type": "code",
   "execution_count": 25,
   "metadata": {},
   "outputs": [
    {
     "name": "stdout",
     "output_type": "stream",
     "text": [
      "False\n",
      "True\n"
     ]
    },
    {
     "data": {
      "text/plain": [
       "'jajaja'"
      ]
     },
     "execution_count": 25,
     "metadata": {},
     "output_type": "execute_result"
    }
   ],
   "source": [
    "# upper() y lower(): convierten todo el texto del string a mayusculas o minusculas. ambas son especialmente útiles si queremos validar un texto introducido.\n",
    "# Return: Si\n",
    "# Cambia detrás del telón: No\n",
    "\n",
    "# Ejemplo: Si queremos \"igualar\" strings para asegurarnos de que un texto introducido sea una palabra que esperamos.\n",
    "palabra1 = \"jajaja\"\n",
    "palabra2 = \"JAJAJA\"\n",
    "print(palabra1 == palabra2)\n",
    "print(palabra1.lower() == palabra2.lower())"
   ]
  },
  {
   "cell_type": "code",
   "execution_count": 26,
   "metadata": {},
   "outputs": [
    {
     "name": "stdout",
     "output_type": "stream",
     "text": [
      "Luis Rene Vasquez Ordoñez\n"
     ]
    }
   ],
   "source": [
    "# title(): Convierte la primera letra de cada palabra a mayúsculas y las demas a minusculas.\n",
    "# Return: Si\n",
    "# Cambia detrás del telón: No\n",
    "\n",
    "#Ejemplo: Tenemos un campo con nombre y apellidos y queremos arreglar la escritura.\n",
    "\n",
    "nombre = \"lUIs renE VasqueZ ordoñEZ\"\n",
    "print(nombre.title())"
   ]
  },
  {
   "cell_type": "code",
   "execution_count": 29,
   "metadata": {},
   "outputs": [
    {
     "data": {
      "text/plain": [
       "8"
      ]
     },
     "execution_count": 29,
     "metadata": {},
     "output_type": "execute_result"
    }
   ],
   "source": [
    "# count(): cuenta las veces que aparece un caracter en el texto.\n",
    "# Return: Si\n",
    "# Cambia detrás del telón: No\n",
    "\n",
    "# Ejemplo: Queremos saber cuantos \"error\" hay en un campo para saber cuantos errores hubieron.\n",
    "confirmaciones = \"error error error error error error error error\"\n",
    "confirmaciones.count(\"error\")"
   ]
  },
  {
   "cell_type": "code",
   "execution_count": 31,
   "metadata": {},
   "outputs": [
    {
     "data": {
      "text/plain": [
       "True"
      ]
     },
     "execution_count": 31,
     "metadata": {},
     "output_type": "execute_result"
    }
   ],
   "source": [
    "# startswith(): Devuelve un booleano validando si el elemento empieza con los caracteres seleccionados.\n",
    "# Return: Si\n",
    "# Cambia detrás del telón: No\n",
    "\n",
    "# Ejemplo: Queremos validar si un elemento de texto es un sitio web.\n",
    "texto = \"www.chingatumadre.com\"\n",
    "texto.startswith(\"www.\")\n"
   ]
  },
  {
   "cell_type": "code",
   "execution_count": 33,
   "metadata": {},
   "outputs": [
    {
     "data": {
      "text/plain": [
       "True"
      ]
     },
     "execution_count": 33,
     "metadata": {},
     "output_type": "execute_result"
    }
   ],
   "source": [
    "# startswith(): Devuelve un booleano validando si el elemento termina con los caracteres seleccionados.\n",
    "# Return: Si\n",
    "# Cambia detrás del telón: No\n",
    "\n",
    "# Ejemplo: Queremos validar si un elemento de texto es un correo electrónico.\n",
    "texto = \"chingatumadre@gmail.com\"\n",
    "texto.endswith(\"@gmail.com\")"
   ]
  },
  {
   "cell_type": "code",
   "execution_count": 49,
   "metadata": {},
   "outputs": [
    {
     "name": "stdout",
     "output_type": "stream",
     "text": [
      "Hoy es hermoso\n",
      "El día de hoy hermoso\n",
      "0RLAND0\n",
      "ORLANDO\n"
     ]
    }
   ],
   "source": [
    "# replace(): Reemplaza el primer texto por el segundo\n",
    "# Return: Si\n",
    "# Cambia detrás del telón: No\n",
    "\n",
    "# Ejemplo: Queremos cambiar la frase predeterminada de un campo.\n",
    "\n",
    "texto = \"Hoy es hermoso\"\n",
    "texto2 = texto.replace(\"Hoy es\",\"El día de hoy\")\n",
    "print(texto)\n",
    "print(texto2)\n",
    "\n",
    "# Ejemplo 2: Queremos corregir un error y sustituir \"0\" por letras \"O\"\n",
    "texto = \"0RLAND0\"\n",
    "texto2 = texto.replace(\"0\",\"O\")\n",
    "print(texto)\n",
    "print(texto2)\n"
   ]
  },
  {
   "cell_type": "code",
   "execution_count": 50,
   "metadata": {},
   "outputs": [
    {
     "name": "stdout",
     "output_type": "stream",
     "text": [
      "True\n"
     ]
    }
   ],
   "source": [
    "# isdigit(): Valida si un texto es un entero positivo.\n",
    "# Return: Si\n",
    "# Cambia detrás del telón: No\n",
    "\n",
    "# Ejemplo: Queremos saber que elementos tienen un número por texto.\n",
    "\n",
    "es_numero = \"23\"\n",
    "print(es_numero.isdigit())"
   ]
  },
  {
   "cell_type": "code",
   "execution_count": 51,
   "metadata": {},
   "outputs": [
    {
     "name": "stdout",
     "output_type": "stream",
     "text": [
      "False\n"
     ]
    }
   ],
   "source": [
    "# isalpha(): Valida si un texto solo contiene letras.\n",
    "# Return: Si\n",
    "# Cambia detrás del telón: No\n",
    "\n",
    "# Ejemplo: Si queremos validar que un elemento no contenga ningún número\n",
    "solo_texto = \"tengo23\"\n",
    "print(solo_texto.isalpha())"
   ]
  },
  {
   "cell_type": "markdown",
   "metadata": {},
   "source": [
    "# Listas "
   ]
  },
  {
   "cell_type": "code",
   "execution_count": 54,
   "metadata": {},
   "outputs": [
    {
     "name": "stdout",
     "output_type": "stream",
     "text": [
      "True\n"
     ]
    }
   ],
   "source": [
    "# in: Validación rápida que devuelve un bolleano si un elemento esta en una lista\n",
    "# Return: Si\n",
    "# Cambia detrás del telón: No \n",
    "\n",
    "##  Ejemplo:\n",
    "\n",
    "lista = [1,2,\"hola\"]\n",
    "\n",
    "print(\"hola\" in lista)"
   ]
  },
  {
   "cell_type": "code",
   "execution_count": 57,
   "metadata": {},
   "outputs": [
    {
     "name": "stdout",
     "output_type": "stream",
     "text": [
      "* \n",
      "* * \n",
      "* * * \n",
      "* * * * \n",
      "* * * * * \n",
      "* * * * * * \n",
      "* * * * * * * \n",
      "* * * * * * * * \n",
      "* * * * * * * * * \n",
      "* * * * * * * * * * \n",
      "* * * * * * * * * * * \n",
      "* * * * * * * * * * * * \n",
      "* * * * * * * * * * * * * \n",
      "* * * * * * * * * * * * * * \n",
      "* * * * * * * * * * * * * * * \n",
      "* * * * * * * * * * * * * * * * \n",
      "* * * * * * * * * * * * * * * * * \n",
      "* * * * * * * * * * * * * * * * * * \n",
      "* * * * * * * * * * * * * * * * * * * \n",
      "* * * * * * * * * * * * * * * * * * * * \n"
     ]
    }
   ],
   "source": [
    "# range() + list(): combincación excelente para hacer iteraciones cuando el número de la iteración es importante y queremos usarlo\n",
    "# Return: Si\n",
    "# Cambia detrás del telón: No \n",
    "\n",
    "##  Ejemplo: Crear una pirámide donde necesitamos saber y usar constantemente los valores de las iteraciones (Escalon y estrella)\n",
    "\n",
    "def piramide(altura):\n",
    "    for escalon in list(range(1,altura+1)):\n",
    "        for estrella in list(range(1,altura+1)):\n",
    "            if estrella <= escalon:\n",
    "                print(\"*\", end = \" \")\n",
    "        print()\n",
    "    return None\n",
    "\n",
    "piramide(20)\n"
   ]
  },
  {
   "cell_type": "code",
   "execution_count": null,
   "metadata": {},
   "outputs": [],
   "source": []
  }
 ],
 "metadata": {
  "kernelspec": {
   "display_name": "fundamentals_env",
   "language": "python",
   "name": "python3"
  },
  "language_info": {
   "codemirror_mode": {
    "name": "ipython",
    "version": 3
   },
   "file_extension": ".py",
   "mimetype": "text/x-python",
   "name": "python",
   "nbconvert_exporter": "python",
   "pygments_lexer": "ipython3",
   "version": "3.11.9"
  }
 },
 "nbformat": 4,
 "nbformat_minor": 2
}
