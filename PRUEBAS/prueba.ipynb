{
 "cells": [
  {
   "cell_type": "code",
   "execution_count": 5,
   "metadata": {},
   "outputs": [
    {
     "name": "stdout",
     "output_type": "stream",
     "text": [
      "[2.0, 4.0, 6.0, 8.0, 10.0, 12.0, 14.0]\n"
     ]
    }
   ],
   "source": [
    "def multiples(integer,limit):\n",
    "    times = limit/integer\n",
    "    i = times/times\n",
    "    num_list = []\n",
    "    while i <= times:\n",
    "        add_value = integer * i\n",
    "        num_list.append(add_value)\n",
    "        i = i + 1 \n",
    "\n",
    "    print(num_list)\n",
    "    \n",
    "multiples(2,14)\n"
   ]
  }
 ],
 "metadata": {
  "kernelspec": {
   "display_name": "fundamentals_env",
   "language": "python",
   "name": "python3"
  },
  "language_info": {
   "codemirror_mode": {
    "name": "ipython",
    "version": 3
   },
   "file_extension": ".py",
   "mimetype": "text/x-python",
   "name": "python",
   "nbconvert_exporter": "python",
   "pygments_lexer": "ipython3",
   "version": "3.11.9"
  }
 },
 "nbformat": 4,
 "nbformat_minor": 2
}
