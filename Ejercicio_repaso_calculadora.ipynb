{
 "cells": [
  {
   "cell_type": "markdown",
   "metadata": {},
   "source": [
    "Ejercicio 7: Calculadora\n",
    "\n",
    "Vamos a modelar una calculadora que pueda realizar operaciones matemáticas básicas.\n",
    "\n",
    "    Nombre de la clase: \"Calculadora\"\n",
    "    Atributos comunes:\n",
    "        Marca - String\n",
    "        memoria - lista\n",
    "    Métodos:\n",
    "        Sumar: recibe dos números y devuelve su suma.\n",
    "        Restar: recibe dos números y devuelve su diferencia.\n",
    "        Multiplicar: recibe dos números y devuelve su producto.\n",
    "        Dividir: recibe dos números y devuelve su cociente. Si el divisor es 0, devuelve un mensaje de error.\n",
    "        Elevar al cuadrado: recibe un número y devuelve su cuadrado.\n",
    "        Raíz cuadrada: recibe un número y devuelve su raíz cuadrada. Si el número es negativo, devuelve un mensaje de error.\n",
    "\n",
    "        Siempre que se hace una operacion se almacena en memoria\n",
    "\n",
    "\n",
    "Se pide:\n",
    "\n",
    "    Implementar la clase \"Calculadora\".\n",
    "    Crear una instancia de calculadora con una marca inventada.\n",
    "    Probar todas las operaciones con ejemplos.\n",
    "    Imprimir los resultados de las operaciones."
   ]
  },
  {
   "cell_type": "code",
   "execution_count": 65,
   "metadata": {},
   "outputs": [],
   "source": [
    "# Con Diccionario\n",
    "class Calculadora(object):\n",
    "    marca = \"Casio\"\n",
    "    memoria = []    \n",
    "\n",
    "    def sumar(self,valor1,valor2):\n",
    "        resultado = valor1 + valor2\n",
    "        self.memoria.append({\"Operacion\":\"Sumar\",\"Valor 1\": valor1, \"Valor 2\": valor2,\"Resultado\" : resultado})\n",
    "        if len(self.memoria) > 5:\n",
    "            self.memoria.remove(self.memoria[0])\n",
    "        return resultado\n",
    "    \n",
    "    def restar(self,valor1,valor2):\n",
    "        resultado = valor1 - valor2\n",
    "        self.memoria.append({\"Operacion\":\"Restar\",\"Valor 1\": valor1, \"Valor 2\": valor2,\"Resultado\" : resultado})\n",
    "        if len(self.memoria) > 5:\n",
    "            self.memoria.remove(self.memoria[0])\n",
    "        return resultado\n",
    "    \n",
    "    def multiplicar(self,valor1,valor2):\n",
    "        resultado = valor1 * valor2\n",
    "        self.memoria.append({\"Operacion\":\"Multiplicar\",\"Valor 1\": valor1, \"Valor 2\": valor2,\"Resultado\" : resultado})\n",
    "        if len(self.memoria) > 5:\n",
    "            self.memoria.remove(self.memoria[0])\n",
    "        return resultado   \n",
    "    \n",
    "    \n",
    "    def dividir(self,valor1,valor2):\n",
    "        if valor2 == 0:\n",
    "            return \"El divisor no puede ser 0\"\n",
    "        else:\n",
    "            resultado = valor1 / valor2\n",
    "            self.memoria.append({\"Operacion\":\"Dividir\",\"Valor 1\": valor1, \"Valor 2\": valor2,\"Resultado\" : resultado})\n",
    "            if len(self.memoria) > 5:\n",
    "                self.memoria.remove(self.memoria[0])\n",
    "            return resultado\n",
    "            \n",
    "        \n",
    "    def elevar_cuadrado(self,valor):\n",
    "        resultado = valor ** 2\n",
    "        self.memoria.append({\"Operacion\":\"Elevar al cuadrado\",\"Valor\": valor,\"Resultado\" : resultado})\n",
    "        if len(self.memoria) > 5:\n",
    "            self.memoria.remove(self.memoria[0])\n",
    "        return resultado\n",
    "    \n",
    "    def raiz_cuadrada(self,valor):\n",
    "        if valor < 0:\n",
    "            return \"El valor no puede ser negativo\"\n",
    "        else:\n",
    "            resultado = valor ** (1/2)\n",
    "            self.memoria.append({\"Operacion\":\"Raíz cuadrada\",\"Valor\": valor,\"Resultado\" : resultado})\n",
    "            if len(self.memoria) > 5:\n",
    "                self.memoria.remove(self.memoria[0])\n",
    "            return resultado\n"
   ]
  },
  {
   "cell_type": "code",
   "execution_count": 66,
   "metadata": {},
   "outputs": [],
   "source": [
    "calculadora = Calculadora()"
   ]
  },
  {
   "cell_type": "code",
   "execution_count": 58,
   "metadata": {},
   "outputs": [
    {
     "name": "stdout",
     "output_type": "stream",
     "text": [
      "5\n",
      "[{'Operacion': 'Sumar', 'Valor 1': 2, 'Valor 2': 3, 'Resultado': 5}, {'Operacion': 'Sumar', 'Valor 1': 2, 'Valor 2': 3, 'Resultado': 5}, {'Operacion': 'Sumar', 'Valor 1': 2, 'Valor 2': 3, 'Resultado': 5}, {'Operacion': 'Sumar', 'Valor 1': 2, 'Valor 2': 3, 'Resultado': 5}, {'Operacion': 'Sumar', 'Valor 1': 2, 'Valor 2': 3, 'Resultado': 5}]\n"
     ]
    }
   ],
   "source": [
    "print(calculadora.sumar(2,3))\n",
    "print(calculadora.memoria)"
   ]
  },
  {
   "cell_type": "code",
   "execution_count": 67,
   "metadata": {},
   "outputs": [
    {
     "name": "stdout",
     "output_type": "stream",
     "text": [
      "3\n",
      "1\n",
      "2\n",
      "2.0\n",
      "4\n",
      "3.0\n",
      "[{'Operacion': 'Restar', 'Valor 1': 2, 'Valor 2': 1, 'Resultado': 1}, {'Operacion': 'Multiplicar', 'Valor 1': 1, 'Valor 2': 2, 'Resultado': 2}, {'Operacion': 'Dividir', 'Valor 1': 2, 'Valor 2': 1, 'Resultado': 2.0}, {'Operacion': 'Elevar al cuadrado', 'Valor': 2, 'Resultado': 4}, {'Operacion': 'Raíz cuadrada', 'Valor': 9, 'Resultado': 3.0}]\n"
     ]
    }
   ],
   "source": [
    "print(calculadora.sumar(1,2))\n",
    "print(calculadora.restar(2,1))\n",
    "print(calculadora.multiplicar(1,2))\n",
    "print(calculadora.dividir(2,1))\n",
    "print(calculadora.elevar_cuadrado(2))\n",
    "print(calculadora.raiz_cuadrada(9))\n",
    "print(calculadora.memoria)"
   ]
  },
  {
   "cell_type": "code",
   "execution_count": null,
   "metadata": {},
   "outputs": [],
   "source": []
  }
 ],
 "metadata": {
  "kernelspec": {
   "display_name": "fundamentals_env",
   "language": "python",
   "name": "python3"
  },
  "language_info": {
   "codemirror_mode": {
    "name": "ipython",
    "version": 3
   },
   "file_extension": ".py",
   "mimetype": "text/x-python",
   "name": "python",
   "nbconvert_exporter": "python",
   "pygments_lexer": "ipython3",
   "version": "3.11.9"
  }
 },
 "nbformat": 4,
 "nbformat_minor": 2
}
