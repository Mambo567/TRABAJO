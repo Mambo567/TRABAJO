{
 "cells": [
  {
   "cell_type": "markdown",
   "metadata": {},
   "source": [
    "# PASOS REDUCCIÓN DE DIMENSIONALIDAD"
   ]
  },
  {
   "cell_type": "code",
   "execution_count": 2,
   "metadata": {},
   "outputs": [],
   "source": [
    "# Tratamiento de datos\n",
    "# ==============================================================================\n",
    "import numpy as np\n",
    "import pandas as pd\n",
    "import statsmodels.api as sm\n",
    "\n",
    "# Gráficos\n",
    "# ==============================================================================\n",
    "import matplotlib.pyplot as plt\n",
    "import matplotlib.font_manager\n",
    "from matplotlib import style\n",
    "style.use('ggplot') or plt.style.use('ggplot')\n",
    "\n",
    "# Preprocesado y modelado\n",
    "# ==============================================================================\n",
    "from sklearn.decomposition import PCA\n",
    "from sklearn.pipeline import make_pipeline\n",
    "from sklearn.preprocessing import StandardScaler\n",
    "from sklearn.preprocessing import scale\n",
    "from sklearn.pipeline import Pipeline\n",
    "\n",
    "# Configuración warnings\n",
    "# ==============================================================================\n",
    "import warnings\n",
    "warnings.filterwarnings('ignore')"
   ]
  },
  {
   "cell_type": "code",
   "execution_count": null,
   "metadata": {},
   "outputs": [],
   "source": [
    "# Entrenamiento modelo PCA con escalado de los datos. Nota: Es muy importante hacer regularización antes.\n",
    "# ==============================================================================\n",
    "pca_pipe = Pipeline([(\"scaler\",StandardScaler()),(\"pca\", PCA(n_components=X))])\n",
    "pca_pipe.fit(df)\n",
    "\n",
    "# Para acceder a un elemento del Pipe podemos hacerlo asi. Aprovechamos e instanciamos el modelo\n",
    "modelo_pca = pca_pipe['pca']"
   ]
  },
  {
   "cell_type": "code",
   "execution_count": null,
   "metadata": {},
   "outputs": [
    {
     "data": {
      "text/plain": [
       "array([[ 0.53589947,  0.58318363,  0.27819087,  0.54343209],\n",
       "       [ 0.41818087,  0.1879856 , -0.87280619, -0.16731864],\n",
       "       [-0.34123273, -0.26814843, -0.37801579,  0.81777791],\n",
       "       [ 0.6492278 , -0.74340748,  0.13387773,  0.08902432]])"
      ]
     },
     "metadata": {},
     "output_type": "display_data"
    }
   ],
   "source": [
    "# Podemos observar que el modelo contiene los \"pesos\" de cada PC (PC1, PC2, PC3 y PC4 en este caso). \n",
    "# Esos se multiplican por cada variable respectivamente y se obtiene un conjunto de números totalmente aparte.\n",
    "modelo_pca.components_"
   ]
  },
  {
   "cell_type": "markdown",
   "metadata": {},
   "source": [
    "# Por ejemplo, asi se obtenia en el ejemplo PC1\n",
    "PC1=0.535899 Murder+0.583184 Assault+0.278191 UrbanPop+0.543432 Rape"
   ]
  },
  {
   "cell_type": "code",
   "execution_count": null,
   "metadata": {},
   "outputs": [
    {
     "data": {
      "text/plain": [
       "array([0.62006039, 0.24744129, 0.0891408 , 0.04335752])"
      ]
     },
     "metadata": {},
     "output_type": "display_data"
    }
   ],
   "source": [
    "# Con esto se obtiene cuanto de la varianza explicada por cada PC. NOTA: Las primeras siempre explican mas. \n",
    "modelo_pca.explained_variance_ratio_"
   ]
  },
  {
   "cell_type": "code",
   "execution_count": null,
   "metadata": {},
   "outputs": [
    {
     "data": {
      "text/plain": [
       "array([0.62006039, 0.86750168, 0.95664248, 1.        ])"
      ]
     },
     "metadata": {},
     "output_type": "display_data"
    }
   ],
   "source": [
    "# Con esto se obtiene cuanto de la varianza explicada por cada PC adicional acumulada. \n",
    "modelo_pca.explained_variance_ratio_.cumsum()"
   ]
  },
  {
   "cell_type": "code",
   "execution_count": null,
   "metadata": {},
   "outputs": [],
   "source": [
    "# Una vez decidimos cuantas PC's incluir, volvemos a ejecutar el Pipe.\n",
    "pca_pipe = Pipeline([(\"scaler\",StandardScaler()),(\"pca\", PCA(n_components=2))])\n",
    "modelo_pca = pca_pipe['pca']\n",
    "# Fit con los datos de entrenamiento\n",
    "pca_pipe.fit(df)\n",
    "\n",
    "# Transformar tanto los datos de entrenamiento como los de prueba (Si tenemos)\n",
    "# Nota: Transform se usa cuando hay un cambio matemático del dataframe.\n",
    "# En este caso PCA lo necesita porque no es realmente una predicción, es una transformación.\n",
    "X_train_transformed = pca_pipe.transform(df)\n",
    "X_test_transformed = pca_pipe.transform(df_a_probar)  # Esto si se quisiera aplicar a otro conjunto de datos.\n"
   ]
  },
  {
   "cell_type": "code",
   "execution_count": null,
   "metadata": {},
   "outputs": [
    {
     "name": "stdout",
     "output_type": "stream",
     "text": [
      "------------------\n",
      "Valores reconstruidos\n",
      "------------------\n"
     ]
    },
    {
     "data": {
      "text/html": [
       "<div>\n",
       "<style scoped>\n",
       "    .dataframe tbody tr th:only-of-type {\n",
       "        vertical-align: middle;\n",
       "    }\n",
       "\n",
       "    .dataframe tbody tr th {\n",
       "        vertical-align: top;\n",
       "    }\n",
       "\n",
       "    .dataframe thead th {\n",
       "        text-align: right;\n",
       "    }\n",
       "</style>\n",
       "<table border=\"1\" class=\"dataframe\">\n",
       "  <thead>\n",
       "    <tr style=\"text-align: right;\">\n",
       "      <th></th>\n",
       "      <th>Murder</th>\n",
       "      <th>Assault</th>\n",
       "      <th>UrbanPop</th>\n",
       "      <th>Rape</th>\n",
       "    </tr>\n",
       "  </thead>\n",
       "  <tbody>\n",
       "    <tr>\n",
       "      <th>Alabama</th>\n",
       "      <td>12.108907</td>\n",
       "      <td>235.755815</td>\n",
       "      <td>55.293753</td>\n",
       "      <td>24.439738</td>\n",
       "    </tr>\n",
       "    <tr>\n",
       "      <th>Alaska</th>\n",
       "      <td>14.229193</td>\n",
       "      <td>281.230658</td>\n",
       "      <td>59.891444</td>\n",
       "      <td>29.393422</td>\n",
       "    </tr>\n",
       "    <tr>\n",
       "      <th>Arizona</th>\n",
       "      <td>10.517042</td>\n",
       "      <td>244.021633</td>\n",
       "      <td>81.897906</td>\n",
       "      <td>31.273586</td>\n",
       "    </tr>\n",
       "    <tr>\n",
       "      <th>Arkansas</th>\n",
       "      <td>9.480315</td>\n",
       "      <td>181.322623</td>\n",
       "      <td>50.971310</td>\n",
       "      <td>18.782131</td>\n",
       "    </tr>\n",
       "    <tr>\n",
       "      <th>California</th>\n",
       "      <td>10.838010</td>\n",
       "      <td>268.266387</td>\n",
       "      <td>94.898277</td>\n",
       "      <td>36.343663</td>\n",
       "    </tr>\n",
       "  </tbody>\n",
       "</table>\n",
       "</div>"
      ],
      "text/plain": [
       "               Murder     Assault   UrbanPop       Rape\n",
       "Alabama     12.108907  235.755815  55.293753  24.439738\n",
       "Alaska      14.229193  281.230658  59.891444  29.393422\n",
       "Arizona     10.517042  244.021633  81.897906  31.273586\n",
       "Arkansas     9.480315  181.322623  50.971310  18.782131\n",
       "California  10.838010  268.266387  94.898277  36.343663"
      ]
     },
     "metadata": {},
     "output_type": "display_data"
    },
    {
     "name": "stdout",
     "output_type": "stream",
     "text": [
      "---------------------\n",
      "Valores originales\n",
      "---------------------\n"
     ]
    },
    {
     "data": {
      "text/html": [
       "<div>\n",
       "<style scoped>\n",
       "    .dataframe tbody tr th:only-of-type {\n",
       "        vertical-align: middle;\n",
       "    }\n",
       "\n",
       "    .dataframe tbody tr th {\n",
       "        vertical-align: top;\n",
       "    }\n",
       "\n",
       "    .dataframe thead th {\n",
       "        text-align: right;\n",
       "    }\n",
       "</style>\n",
       "<table border=\"1\" class=\"dataframe\">\n",
       "  <thead>\n",
       "    <tr style=\"text-align: right;\">\n",
       "      <th></th>\n",
       "      <th>Murder</th>\n",
       "      <th>Assault</th>\n",
       "      <th>UrbanPop</th>\n",
       "      <th>Rape</th>\n",
       "    </tr>\n",
       "  </thead>\n",
       "  <tbody>\n",
       "    <tr>\n",
       "      <th>Alabama</th>\n",
       "      <td>13.2</td>\n",
       "      <td>236</td>\n",
       "      <td>58</td>\n",
       "      <td>21.2</td>\n",
       "    </tr>\n",
       "    <tr>\n",
       "      <th>Alaska</th>\n",
       "      <td>10.0</td>\n",
       "      <td>263</td>\n",
       "      <td>48</td>\n",
       "      <td>44.5</td>\n",
       "    </tr>\n",
       "    <tr>\n",
       "      <th>Arizona</th>\n",
       "      <td>8.1</td>\n",
       "      <td>294</td>\n",
       "      <td>80</td>\n",
       "      <td>31.0</td>\n",
       "    </tr>\n",
       "    <tr>\n",
       "      <th>Arkansas</th>\n",
       "      <td>8.8</td>\n",
       "      <td>190</td>\n",
       "      <td>50</td>\n",
       "      <td>19.5</td>\n",
       "    </tr>\n",
       "    <tr>\n",
       "      <th>California</th>\n",
       "      <td>9.0</td>\n",
       "      <td>276</td>\n",
       "      <td>91</td>\n",
       "      <td>40.6</td>\n",
       "    </tr>\n",
       "  </tbody>\n",
       "</table>\n",
       "</div>"
      ],
      "text/plain": [
       "            Murder  Assault  UrbanPop  Rape\n",
       "Alabama       13.2      236        58  21.2\n",
       "Alaska        10.0      263        48  44.5\n",
       "Arizona        8.1      294        80  31.0\n",
       "Arkansas       8.8      190        50  19.5\n",
       "California     9.0      276        91  40.6"
      ]
     },
     "metadata": {},
     "output_type": "display_data"
    }
   ],
   "source": [
    "# Recostruccion de las proyecciones. Esto lo podemos comparar con los originales para ver que tan bien reconstruye.\n",
    "# Nota: Recordar analogía de cuando comprimes y descomprimes una imagen, evalúas que tanta calidad se perdió.\n",
    "# ==============================================================================\n",
    "reconstruccion = pca_pipe.inverse_transform(proyecciones)\n",
    "reconstruccion = pd.DataFrame(\n",
    "    reconstruccion,\n",
    "    columns = datos.columns,\n",
    "    index = datos.index\n",
    ")\n",
    "\n",
    "print('------------------')\n",
    "print('Valores reconstruidos')\n",
    "print('------------------')\n",
    "display(reconstruccion.head())\n",
    "\n",
    "print('---------------------')\n",
    "print('Valores originales')\n",
    "print('---------------------')\n",
    "display(datos.head())"
   ]
  },
  {
   "cell_type": "markdown",
   "metadata": {},
   "source": []
  }
 ],
 "metadata": {
  "kernelspec": {
   "display_name": "data_analysis_env",
   "language": "python",
   "name": "python3"
  },
  "language_info": {
   "codemirror_mode": {
    "name": "ipython",
    "version": 3
   },
   "file_extension": ".py",
   "mimetype": "text/x-python",
   "name": "python",
   "nbconvert_exporter": "python",
   "pygments_lexer": "ipython3",
   "version": "3.10.15"
  }
 },
 "nbformat": 4,
 "nbformat_minor": 2
}
