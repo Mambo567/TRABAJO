{
 "cells": [
  {
   "cell_type": "markdown",
   "metadata": {},
   "source": [
    "# Ejercicios ensembling\n",
    "En este ejercicio vas a realizar prediciones sobre un dataset de ciudadanos indios diabéticos. Se trata de un problema de clasificación en el que intentaremos predecir 1 (diabético) 0 (no diabético). Todas las variables son numércias."
   ]
  },
  {
   "cell_type": "markdown",
   "metadata": {},
   "source": [
    "### 1. Carga las librerias que consideres comunes al notebook"
   ]
  },
  {
   "cell_type": "code",
   "execution_count": 1,
   "metadata": {},
   "outputs": [],
   "source": [
    "import pandas as pd\n",
    "import numpy as np\n",
    "import matplotlib.pyplot as plt\n",
    "import seaborn as sns"
   ]
  },
  {
   "cell_type": "markdown",
   "metadata": {},
   "source": [
    "### 2. Lee los datos de [esta direccion](https://raw.githubusercontent.com/jbrownlee/Datasets/master/pima-indians-diabetes.data.csv)\n",
    "Los nombres de columnas son:\n",
    "```Python\n",
    "names = ['preg', 'plas', 'pres', 'skin', 'test', 'mass', 'pedi', 'age', 'class']\n",
    "```"
   ]
  },
  {
   "cell_type": "code",
   "execution_count": 2,
   "metadata": {},
   "outputs": [
    {
     "data": {
      "text/html": [
       "<div>\n",
       "<style scoped>\n",
       "    .dataframe tbody tr th:only-of-type {\n",
       "        vertical-align: middle;\n",
       "    }\n",
       "\n",
       "    .dataframe tbody tr th {\n",
       "        vertical-align: top;\n",
       "    }\n",
       "\n",
       "    .dataframe thead th {\n",
       "        text-align: right;\n",
       "    }\n",
       "</style>\n",
       "<table border=\"1\" class=\"dataframe\">\n",
       "  <thead>\n",
       "    <tr style=\"text-align: right;\">\n",
       "      <th></th>\n",
       "      <th>preg</th>\n",
       "      <th>plas</th>\n",
       "      <th>pres</th>\n",
       "      <th>skin</th>\n",
       "      <th>test</th>\n",
       "      <th>mass</th>\n",
       "      <th>pedi</th>\n",
       "      <th>age</th>\n",
       "      <th>class</th>\n",
       "    </tr>\n",
       "  </thead>\n",
       "  <tbody>\n",
       "    <tr>\n",
       "      <th>0</th>\n",
       "      <td>6</td>\n",
       "      <td>148</td>\n",
       "      <td>72</td>\n",
       "      <td>35</td>\n",
       "      <td>0</td>\n",
       "      <td>33.6</td>\n",
       "      <td>0.627</td>\n",
       "      <td>50</td>\n",
       "      <td>1</td>\n",
       "    </tr>\n",
       "    <tr>\n",
       "      <th>1</th>\n",
       "      <td>1</td>\n",
       "      <td>85</td>\n",
       "      <td>66</td>\n",
       "      <td>29</td>\n",
       "      <td>0</td>\n",
       "      <td>26.6</td>\n",
       "      <td>0.351</td>\n",
       "      <td>31</td>\n",
       "      <td>0</td>\n",
       "    </tr>\n",
       "    <tr>\n",
       "      <th>2</th>\n",
       "      <td>8</td>\n",
       "      <td>183</td>\n",
       "      <td>64</td>\n",
       "      <td>0</td>\n",
       "      <td>0</td>\n",
       "      <td>23.3</td>\n",
       "      <td>0.672</td>\n",
       "      <td>32</td>\n",
       "      <td>1</td>\n",
       "    </tr>\n",
       "    <tr>\n",
       "      <th>3</th>\n",
       "      <td>1</td>\n",
       "      <td>89</td>\n",
       "      <td>66</td>\n",
       "      <td>23</td>\n",
       "      <td>94</td>\n",
       "      <td>28.1</td>\n",
       "      <td>0.167</td>\n",
       "      <td>21</td>\n",
       "      <td>0</td>\n",
       "    </tr>\n",
       "    <tr>\n",
       "      <th>4</th>\n",
       "      <td>0</td>\n",
       "      <td>137</td>\n",
       "      <td>40</td>\n",
       "      <td>35</td>\n",
       "      <td>168</td>\n",
       "      <td>43.1</td>\n",
       "      <td>2.288</td>\n",
       "      <td>33</td>\n",
       "      <td>1</td>\n",
       "    </tr>\n",
       "    <tr>\n",
       "      <th>...</th>\n",
       "      <td>...</td>\n",
       "      <td>...</td>\n",
       "      <td>...</td>\n",
       "      <td>...</td>\n",
       "      <td>...</td>\n",
       "      <td>...</td>\n",
       "      <td>...</td>\n",
       "      <td>...</td>\n",
       "      <td>...</td>\n",
       "    </tr>\n",
       "    <tr>\n",
       "      <th>763</th>\n",
       "      <td>10</td>\n",
       "      <td>101</td>\n",
       "      <td>76</td>\n",
       "      <td>48</td>\n",
       "      <td>180</td>\n",
       "      <td>32.9</td>\n",
       "      <td>0.171</td>\n",
       "      <td>63</td>\n",
       "      <td>0</td>\n",
       "    </tr>\n",
       "    <tr>\n",
       "      <th>764</th>\n",
       "      <td>2</td>\n",
       "      <td>122</td>\n",
       "      <td>70</td>\n",
       "      <td>27</td>\n",
       "      <td>0</td>\n",
       "      <td>36.8</td>\n",
       "      <td>0.340</td>\n",
       "      <td>27</td>\n",
       "      <td>0</td>\n",
       "    </tr>\n",
       "    <tr>\n",
       "      <th>765</th>\n",
       "      <td>5</td>\n",
       "      <td>121</td>\n",
       "      <td>72</td>\n",
       "      <td>23</td>\n",
       "      <td>112</td>\n",
       "      <td>26.2</td>\n",
       "      <td>0.245</td>\n",
       "      <td>30</td>\n",
       "      <td>0</td>\n",
       "    </tr>\n",
       "    <tr>\n",
       "      <th>766</th>\n",
       "      <td>1</td>\n",
       "      <td>126</td>\n",
       "      <td>60</td>\n",
       "      <td>0</td>\n",
       "      <td>0</td>\n",
       "      <td>30.1</td>\n",
       "      <td>0.349</td>\n",
       "      <td>47</td>\n",
       "      <td>1</td>\n",
       "    </tr>\n",
       "    <tr>\n",
       "      <th>767</th>\n",
       "      <td>1</td>\n",
       "      <td>93</td>\n",
       "      <td>70</td>\n",
       "      <td>31</td>\n",
       "      <td>0</td>\n",
       "      <td>30.4</td>\n",
       "      <td>0.315</td>\n",
       "      <td>23</td>\n",
       "      <td>0</td>\n",
       "    </tr>\n",
       "  </tbody>\n",
       "</table>\n",
       "<p>768 rows × 9 columns</p>\n",
       "</div>"
      ],
      "text/plain": [
       "     preg  plas  pres  skin  test  mass   pedi  age  class\n",
       "0       6   148    72    35     0  33.6  0.627   50      1\n",
       "1       1    85    66    29     0  26.6  0.351   31      0\n",
       "2       8   183    64     0     0  23.3  0.672   32      1\n",
       "3       1    89    66    23    94  28.1  0.167   21      0\n",
       "4       0   137    40    35   168  43.1  2.288   33      1\n",
       "..    ...   ...   ...   ...   ...   ...    ...  ...    ...\n",
       "763    10   101    76    48   180  32.9  0.171   63      0\n",
       "764     2   122    70    27     0  36.8  0.340   27      0\n",
       "765     5   121    72    23   112  26.2  0.245   30      0\n",
       "766     1   126    60     0     0  30.1  0.349   47      1\n",
       "767     1    93    70    31     0  30.4  0.315   23      0\n",
       "\n",
       "[768 rows x 9 columns]"
      ]
     },
     "execution_count": 2,
     "metadata": {},
     "output_type": "execute_result"
    }
   ],
   "source": [
    "diabetes_data = pd.read_csv(\"https://raw.githubusercontent.com/jbrownlee/Datasets/master/pima-indians-diabetes.data.csv\",header=None)\n",
    "diabetes_data.columns = ['preg', 'plas', 'pres', 'skin', 'test', 'mass', 'pedi', 'age', 'class']\n",
    "diabetes_data"
   ]
  },
  {
   "cell_type": "code",
   "execution_count": 29,
   "metadata": {},
   "outputs": [
    {
     "data": {
      "text/plain": [
       "preg\n",
       "1     135\n",
       "0     111\n",
       "2     103\n",
       "3      75\n",
       "4      68\n",
       "5      57\n",
       "6      50\n",
       "7      45\n",
       "8      38\n",
       "9      28\n",
       "10     24\n",
       "11     11\n",
       "13     10\n",
       "12      9\n",
       "14      2\n",
       "17      1\n",
       "15      1\n",
       "Name: count, dtype: int64"
      ]
     },
     "execution_count": 29,
     "metadata": {},
     "output_type": "execute_result"
    }
   ],
   "source": [
    "diabetes_data.loc[:,\"preg\"].value_counts()"
   ]
  },
  {
   "cell_type": "code",
   "execution_count": 37,
   "metadata": {},
   "outputs": [
    {
     "data": {
      "text/plain": [
       "class\n",
       "0    0.651042\n",
       "1    0.348958\n",
       "Name: proportion, dtype: float64"
      ]
     },
     "execution_count": 37,
     "metadata": {},
     "output_type": "execute_result"
    }
   ],
   "source": [
    "diabetes_data.loc[:,\"class\"].value_counts(normalize=True)"
   ]
  },
  {
   "cell_type": "code",
   "execution_count": null,
   "metadata": {},
   "outputs": [
    {
     "data": {
      "text/html": [
       "<div>\n",
       "<style scoped>\n",
       "    .dataframe tbody tr th:only-of-type {\n",
       "        vertical-align: middle;\n",
       "    }\n",
       "\n",
       "    .dataframe tbody tr th {\n",
       "        vertical-align: top;\n",
       "    }\n",
       "\n",
       "    .dataframe thead th {\n",
       "        text-align: right;\n",
       "    }\n",
       "</style>\n",
       "<table border=\"1\" class=\"dataframe\">\n",
       "  <thead>\n",
       "    <tr style=\"text-align: right;\">\n",
       "      <th></th>\n",
       "      <th>preg</th>\n",
       "      <th>plas</th>\n",
       "      <th>pres</th>\n",
       "      <th>skin</th>\n",
       "      <th>test</th>\n",
       "      <th>mass</th>\n",
       "      <th>pedi</th>\n",
       "      <th>age</th>\n",
       "      <th>class</th>\n",
       "    </tr>\n",
       "  </thead>\n",
       "  <tbody>\n",
       "    <tr>\n",
       "      <th>0</th>\n",
       "      <td>6</td>\n",
       "      <td>148</td>\n",
       "      <td>72</td>\n",
       "      <td>35</td>\n",
       "      <td>0</td>\n",
       "      <td>33.6</td>\n",
       "      <td>0.627</td>\n",
       "      <td>50</td>\n",
       "      <td>1</td>\n",
       "    </tr>\n",
       "    <tr>\n",
       "      <th>1</th>\n",
       "      <td>1</td>\n",
       "      <td>85</td>\n",
       "      <td>66</td>\n",
       "      <td>29</td>\n",
       "      <td>0</td>\n",
       "      <td>26.6</td>\n",
       "      <td>0.351</td>\n",
       "      <td>31</td>\n",
       "      <td>0</td>\n",
       "    </tr>\n",
       "    <tr>\n",
       "      <th>2</th>\n",
       "      <td>8</td>\n",
       "      <td>183</td>\n",
       "      <td>64</td>\n",
       "      <td>0</td>\n",
       "      <td>0</td>\n",
       "      <td>23.3</td>\n",
       "      <td>0.672</td>\n",
       "      <td>32</td>\n",
       "      <td>1</td>\n",
       "    </tr>\n",
       "    <tr>\n",
       "      <th>3</th>\n",
       "      <td>1</td>\n",
       "      <td>89</td>\n",
       "      <td>66</td>\n",
       "      <td>23</td>\n",
       "      <td>94</td>\n",
       "      <td>28.1</td>\n",
       "      <td>0.167</td>\n",
       "      <td>21</td>\n",
       "      <td>0</td>\n",
       "    </tr>\n",
       "    <tr>\n",
       "      <th>4</th>\n",
       "      <td>0</td>\n",
       "      <td>137</td>\n",
       "      <td>40</td>\n",
       "      <td>35</td>\n",
       "      <td>168</td>\n",
       "      <td>43.1</td>\n",
       "      <td>2.288</td>\n",
       "      <td>33</td>\n",
       "      <td>1</td>\n",
       "    </tr>\n",
       "    <tr>\n",
       "      <th>...</th>\n",
       "      <td>...</td>\n",
       "      <td>...</td>\n",
       "      <td>...</td>\n",
       "      <td>...</td>\n",
       "      <td>...</td>\n",
       "      <td>...</td>\n",
       "      <td>...</td>\n",
       "      <td>...</td>\n",
       "      <td>...</td>\n",
       "    </tr>\n",
       "    <tr>\n",
       "      <th>763</th>\n",
       "      <td>10</td>\n",
       "      <td>101</td>\n",
       "      <td>76</td>\n",
       "      <td>48</td>\n",
       "      <td>180</td>\n",
       "      <td>32.9</td>\n",
       "      <td>0.171</td>\n",
       "      <td>63</td>\n",
       "      <td>0</td>\n",
       "    </tr>\n",
       "    <tr>\n",
       "      <th>764</th>\n",
       "      <td>2</td>\n",
       "      <td>122</td>\n",
       "      <td>70</td>\n",
       "      <td>27</td>\n",
       "      <td>0</td>\n",
       "      <td>36.8</td>\n",
       "      <td>0.340</td>\n",
       "      <td>27</td>\n",
       "      <td>0</td>\n",
       "    </tr>\n",
       "    <tr>\n",
       "      <th>765</th>\n",
       "      <td>5</td>\n",
       "      <td>121</td>\n",
       "      <td>72</td>\n",
       "      <td>23</td>\n",
       "      <td>112</td>\n",
       "      <td>26.2</td>\n",
       "      <td>0.245</td>\n",
       "      <td>30</td>\n",
       "      <td>0</td>\n",
       "    </tr>\n",
       "    <tr>\n",
       "      <th>766</th>\n",
       "      <td>1</td>\n",
       "      <td>126</td>\n",
       "      <td>60</td>\n",
       "      <td>0</td>\n",
       "      <td>0</td>\n",
       "      <td>30.1</td>\n",
       "      <td>0.349</td>\n",
       "      <td>47</td>\n",
       "      <td>1</td>\n",
       "    </tr>\n",
       "    <tr>\n",
       "      <th>767</th>\n",
       "      <td>1</td>\n",
       "      <td>93</td>\n",
       "      <td>70</td>\n",
       "      <td>31</td>\n",
       "      <td>0</td>\n",
       "      <td>30.4</td>\n",
       "      <td>0.315</td>\n",
       "      <td>23</td>\n",
       "      <td>0</td>\n",
       "    </tr>\n",
       "  </tbody>\n",
       "</table>\n",
       "<p>768 rows × 9 columns</p>\n",
       "</div>"
      ],
      "text/plain": [
       "     preg  plas  pres  skin  test  mass   pedi  age  class\n",
       "0       6   148    72    35     0  33.6  0.627   50      1\n",
       "1       1    85    66    29     0  26.6  0.351   31      0\n",
       "2       8   183    64     0     0  23.3  0.672   32      1\n",
       "3       1    89    66    23    94  28.1  0.167   21      0\n",
       "4       0   137    40    35   168  43.1  2.288   33      1\n",
       "..    ...   ...   ...   ...   ...   ...    ...  ...    ...\n",
       "763    10   101    76    48   180  32.9  0.171   63      0\n",
       "764     2   122    70    27     0  36.8  0.340   27      0\n",
       "765     5   121    72    23   112  26.2  0.245   30      0\n",
       "766     1   126    60     0     0  30.1  0.349   47      1\n",
       "767     1    93    70    31     0  30.4  0.315   23      0\n",
       "\n",
       "[768 rows x 9 columns]"
      ]
     },
     "execution_count": 2,
     "metadata": {},
     "output_type": "execute_result"
    }
   ],
   "source": [
    "# Ejemplo"
   ]
  },
  {
   "cell_type": "code",
   "execution_count": 30,
   "metadata": {},
   "outputs": [
    {
     "name": "stdout",
     "output_type": "stream",
     "text": [
      "<class 'pandas.core.frame.DataFrame'>\n",
      "RangeIndex: 768 entries, 0 to 767\n",
      "Data columns (total 9 columns):\n",
      " #   Column  Non-Null Count  Dtype  \n",
      "---  ------  --------------  -----  \n",
      " 0   preg    768 non-null    int64  \n",
      " 1   plas    768 non-null    int64  \n",
      " 2   pres    768 non-null    int64  \n",
      " 3   skin    768 non-null    int64  \n",
      " 4   test    768 non-null    int64  \n",
      " 5   mass    768 non-null    float64\n",
      " 6   pedi    768 non-null    float64\n",
      " 7   age     768 non-null    int64  \n",
      " 8   class   768 non-null    int64  \n",
      "dtypes: float64(2), int64(7)\n",
      "memory usage: 54.1 KB\n"
     ]
    }
   ],
   "source": [
    "diabetes_data.info()"
   ]
  },
  {
   "cell_type": "code",
   "execution_count": 3,
   "metadata": {},
   "outputs": [
    {
     "name": "stdout",
     "output_type": "stream",
     "text": [
      "<class 'pandas.core.frame.DataFrame'>\n",
      "RangeIndex: 768 entries, 0 to 767\n",
      "Data columns (total 9 columns):\n",
      " #   Column  Non-Null Count  Dtype  \n",
      "---  ------  --------------  -----  \n",
      " 0   preg    768 non-null    int64  \n",
      " 1   plas    768 non-null    int64  \n",
      " 2   pres    768 non-null    int64  \n",
      " 3   skin    768 non-null    int64  \n",
      " 4   test    768 non-null    int64  \n",
      " 5   mass    768 non-null    float64\n",
      " 6   pedi    768 non-null    float64\n",
      " 7   age     768 non-null    int64  \n",
      " 8   class   768 non-null    int64  \n",
      "dtypes: float64(2), int64(7)\n",
      "memory usage: 54.1 KB\n"
     ]
    }
   ],
   "source": []
  },
  {
   "cell_type": "code",
   "execution_count": 11,
   "metadata": {},
   "outputs": [
    {
     "data": {
      "text/html": [
       "<div>\n",
       "<style scoped>\n",
       "    .dataframe tbody tr th:only-of-type {\n",
       "        vertical-align: middle;\n",
       "    }\n",
       "\n",
       "    .dataframe tbody tr th {\n",
       "        vertical-align: top;\n",
       "    }\n",
       "\n",
       "    .dataframe thead th {\n",
       "        text-align: right;\n",
       "    }\n",
       "</style>\n",
       "<table border=\"1\" class=\"dataframe\">\n",
       "  <thead>\n",
       "    <tr style=\"text-align: right;\">\n",
       "      <th></th>\n",
       "      <th>preg</th>\n",
       "      <th>plas</th>\n",
       "      <th>pres</th>\n",
       "      <th>skin</th>\n",
       "      <th>test</th>\n",
       "      <th>mass</th>\n",
       "      <th>pedi</th>\n",
       "      <th>age</th>\n",
       "      <th>class</th>\n",
       "    </tr>\n",
       "  </thead>\n",
       "  <tbody>\n",
       "    <tr>\n",
       "      <th>count</th>\n",
       "      <td>767.000000</td>\n",
       "      <td>767.000000</td>\n",
       "      <td>767.000000</td>\n",
       "      <td>767.000000</td>\n",
       "      <td>767.000000</td>\n",
       "      <td>767.000000</td>\n",
       "      <td>767.000000</td>\n",
       "      <td>767.000000</td>\n",
       "      <td>767.000000</td>\n",
       "    </tr>\n",
       "    <tr>\n",
       "      <th>mean</th>\n",
       "      <td>3.842243</td>\n",
       "      <td>120.859192</td>\n",
       "      <td>69.101695</td>\n",
       "      <td>20.517601</td>\n",
       "      <td>79.903520</td>\n",
       "      <td>31.990482</td>\n",
       "      <td>0.471674</td>\n",
       "      <td>33.219035</td>\n",
       "      <td>0.348110</td>\n",
       "    </tr>\n",
       "    <tr>\n",
       "      <th>std</th>\n",
       "      <td>3.370877</td>\n",
       "      <td>31.978468</td>\n",
       "      <td>19.368155</td>\n",
       "      <td>15.954059</td>\n",
       "      <td>115.283105</td>\n",
       "      <td>7.889091</td>\n",
       "      <td>0.331497</td>\n",
       "      <td>11.752296</td>\n",
       "      <td>0.476682</td>\n",
       "    </tr>\n",
       "    <tr>\n",
       "      <th>min</th>\n",
       "      <td>0.000000</td>\n",
       "      <td>0.000000</td>\n",
       "      <td>0.000000</td>\n",
       "      <td>0.000000</td>\n",
       "      <td>0.000000</td>\n",
       "      <td>0.000000</td>\n",
       "      <td>0.078000</td>\n",
       "      <td>21.000000</td>\n",
       "      <td>0.000000</td>\n",
       "    </tr>\n",
       "    <tr>\n",
       "      <th>25%</th>\n",
       "      <td>1.000000</td>\n",
       "      <td>99.000000</td>\n",
       "      <td>62.000000</td>\n",
       "      <td>0.000000</td>\n",
       "      <td>0.000000</td>\n",
       "      <td>27.300000</td>\n",
       "      <td>0.243500</td>\n",
       "      <td>24.000000</td>\n",
       "      <td>0.000000</td>\n",
       "    </tr>\n",
       "    <tr>\n",
       "      <th>50%</th>\n",
       "      <td>3.000000</td>\n",
       "      <td>117.000000</td>\n",
       "      <td>72.000000</td>\n",
       "      <td>23.000000</td>\n",
       "      <td>32.000000</td>\n",
       "      <td>32.000000</td>\n",
       "      <td>0.371000</td>\n",
       "      <td>29.000000</td>\n",
       "      <td>0.000000</td>\n",
       "    </tr>\n",
       "    <tr>\n",
       "      <th>75%</th>\n",
       "      <td>6.000000</td>\n",
       "      <td>140.000000</td>\n",
       "      <td>80.000000</td>\n",
       "      <td>32.000000</td>\n",
       "      <td>127.500000</td>\n",
       "      <td>36.600000</td>\n",
       "      <td>0.625000</td>\n",
       "      <td>41.000000</td>\n",
       "      <td>1.000000</td>\n",
       "    </tr>\n",
       "    <tr>\n",
       "      <th>max</th>\n",
       "      <td>17.000000</td>\n",
       "      <td>199.000000</td>\n",
       "      <td>122.000000</td>\n",
       "      <td>99.000000</td>\n",
       "      <td>846.000000</td>\n",
       "      <td>67.100000</td>\n",
       "      <td>2.420000</td>\n",
       "      <td>81.000000</td>\n",
       "      <td>1.000000</td>\n",
       "    </tr>\n",
       "  </tbody>\n",
       "</table>\n",
       "</div>"
      ],
      "text/plain": [
       "             preg        plas        pres        skin        test        mass  \\\n",
       "count  767.000000  767.000000  767.000000  767.000000  767.000000  767.000000   \n",
       "mean     3.842243  120.859192   69.101695   20.517601   79.903520   31.990482   \n",
       "std      3.370877   31.978468   19.368155   15.954059  115.283105    7.889091   \n",
       "min      0.000000    0.000000    0.000000    0.000000    0.000000    0.000000   \n",
       "25%      1.000000   99.000000   62.000000    0.000000    0.000000   27.300000   \n",
       "50%      3.000000  117.000000   72.000000   23.000000   32.000000   32.000000   \n",
       "75%      6.000000  140.000000   80.000000   32.000000  127.500000   36.600000   \n",
       "max     17.000000  199.000000  122.000000   99.000000  846.000000   67.100000   \n",
       "\n",
       "             pedi         age       class  \n",
       "count  767.000000  767.000000  767.000000  \n",
       "mean     0.471674   33.219035    0.348110  \n",
       "std      0.331497   11.752296    0.476682  \n",
       "min      0.078000   21.000000    0.000000  \n",
       "25%      0.243500   24.000000    0.000000  \n",
       "50%      0.371000   29.000000    0.000000  \n",
       "75%      0.625000   41.000000    1.000000  \n",
       "max      2.420000   81.000000    1.000000  "
      ]
     },
     "execution_count": 11,
     "metadata": {},
     "output_type": "execute_result"
    }
   ],
   "source": [
    "diabetes_data.describe()"
   ]
  },
  {
   "cell_type": "code",
   "execution_count": 4,
   "metadata": {},
   "outputs": [
    {
     "data": {
      "text/html": [
       "<div>\n",
       "<style scoped>\n",
       "    .dataframe tbody tr th:only-of-type {\n",
       "        vertical-align: middle;\n",
       "    }\n",
       "\n",
       "    .dataframe tbody tr th {\n",
       "        vertical-align: top;\n",
       "    }\n",
       "\n",
       "    .dataframe thead th {\n",
       "        text-align: right;\n",
       "    }\n",
       "</style>\n",
       "<table border=\"1\" class=\"dataframe\">\n",
       "  <thead>\n",
       "    <tr style=\"text-align: right;\">\n",
       "      <th></th>\n",
       "      <th>preg</th>\n",
       "      <th>plas</th>\n",
       "      <th>pres</th>\n",
       "      <th>skin</th>\n",
       "      <th>test</th>\n",
       "      <th>mass</th>\n",
       "      <th>pedi</th>\n",
       "      <th>age</th>\n",
       "      <th>class</th>\n",
       "    </tr>\n",
       "  </thead>\n",
       "  <tbody>\n",
       "    <tr>\n",
       "      <th>count</th>\n",
       "      <td>768.000000</td>\n",
       "      <td>768.000000</td>\n",
       "      <td>768.000000</td>\n",
       "      <td>768.000000</td>\n",
       "      <td>768.000000</td>\n",
       "      <td>768.000000</td>\n",
       "      <td>768.000000</td>\n",
       "      <td>768.000000</td>\n",
       "      <td>768.000000</td>\n",
       "    </tr>\n",
       "    <tr>\n",
       "      <th>mean</th>\n",
       "      <td>3.845052</td>\n",
       "      <td>120.894531</td>\n",
       "      <td>69.105469</td>\n",
       "      <td>20.536458</td>\n",
       "      <td>79.799479</td>\n",
       "      <td>31.992578</td>\n",
       "      <td>0.471876</td>\n",
       "      <td>33.240885</td>\n",
       "      <td>0.348958</td>\n",
       "    </tr>\n",
       "    <tr>\n",
       "      <th>std</th>\n",
       "      <td>3.369578</td>\n",
       "      <td>31.972618</td>\n",
       "      <td>19.355807</td>\n",
       "      <td>15.952218</td>\n",
       "      <td>115.244002</td>\n",
       "      <td>7.884160</td>\n",
       "      <td>0.331329</td>\n",
       "      <td>11.760232</td>\n",
       "      <td>0.476951</td>\n",
       "    </tr>\n",
       "    <tr>\n",
       "      <th>min</th>\n",
       "      <td>0.000000</td>\n",
       "      <td>0.000000</td>\n",
       "      <td>0.000000</td>\n",
       "      <td>0.000000</td>\n",
       "      <td>0.000000</td>\n",
       "      <td>0.000000</td>\n",
       "      <td>0.078000</td>\n",
       "      <td>21.000000</td>\n",
       "      <td>0.000000</td>\n",
       "    </tr>\n",
       "    <tr>\n",
       "      <th>25%</th>\n",
       "      <td>1.000000</td>\n",
       "      <td>99.000000</td>\n",
       "      <td>62.000000</td>\n",
       "      <td>0.000000</td>\n",
       "      <td>0.000000</td>\n",
       "      <td>27.300000</td>\n",
       "      <td>0.243750</td>\n",
       "      <td>24.000000</td>\n",
       "      <td>0.000000</td>\n",
       "    </tr>\n",
       "    <tr>\n",
       "      <th>50%</th>\n",
       "      <td>3.000000</td>\n",
       "      <td>117.000000</td>\n",
       "      <td>72.000000</td>\n",
       "      <td>23.000000</td>\n",
       "      <td>30.500000</td>\n",
       "      <td>32.000000</td>\n",
       "      <td>0.372500</td>\n",
       "      <td>29.000000</td>\n",
       "      <td>0.000000</td>\n",
       "    </tr>\n",
       "    <tr>\n",
       "      <th>75%</th>\n",
       "      <td>6.000000</td>\n",
       "      <td>140.250000</td>\n",
       "      <td>80.000000</td>\n",
       "      <td>32.000000</td>\n",
       "      <td>127.250000</td>\n",
       "      <td>36.600000</td>\n",
       "      <td>0.626250</td>\n",
       "      <td>41.000000</td>\n",
       "      <td>1.000000</td>\n",
       "    </tr>\n",
       "    <tr>\n",
       "      <th>max</th>\n",
       "      <td>17.000000</td>\n",
       "      <td>199.000000</td>\n",
       "      <td>122.000000</td>\n",
       "      <td>99.000000</td>\n",
       "      <td>846.000000</td>\n",
       "      <td>67.100000</td>\n",
       "      <td>2.420000</td>\n",
       "      <td>81.000000</td>\n",
       "      <td>1.000000</td>\n",
       "    </tr>\n",
       "  </tbody>\n",
       "</table>\n",
       "</div>"
      ],
      "text/plain": [
       "             preg        plas        pres        skin        test        mass  \\\n",
       "count  768.000000  768.000000  768.000000  768.000000  768.000000  768.000000   \n",
       "mean     3.845052  120.894531   69.105469   20.536458   79.799479   31.992578   \n",
       "std      3.369578   31.972618   19.355807   15.952218  115.244002    7.884160   \n",
       "min      0.000000    0.000000    0.000000    0.000000    0.000000    0.000000   \n",
       "25%      1.000000   99.000000   62.000000    0.000000    0.000000   27.300000   \n",
       "50%      3.000000  117.000000   72.000000   23.000000   30.500000   32.000000   \n",
       "75%      6.000000  140.250000   80.000000   32.000000  127.250000   36.600000   \n",
       "max     17.000000  199.000000  122.000000   99.000000  846.000000   67.100000   \n",
       "\n",
       "             pedi         age       class  \n",
       "count  768.000000  768.000000  768.000000  \n",
       "mean     0.471876   33.240885    0.348958  \n",
       "std      0.331329   11.760232    0.476951  \n",
       "min      0.078000   21.000000    0.000000  \n",
       "25%      0.243750   24.000000    0.000000  \n",
       "50%      0.372500   29.000000    0.000000  \n",
       "75%      0.626250   41.000000    1.000000  \n",
       "max      2.420000   81.000000    1.000000  "
      ]
     },
     "execution_count": 4,
     "metadata": {},
     "output_type": "execute_result"
    }
   ],
   "source": []
  },
  {
   "cell_type": "code",
   "execution_count": 31,
   "metadata": {},
   "outputs": [
    {
     "data": {
      "text/plain": [
       "<Axes: >"
      ]
     },
     "execution_count": 31,
     "metadata": {},
     "output_type": "execute_result"
    },
    {
     "data": {
      "image/png": "[encoded data removed]",
      "text/plain": [
       "<Figure size 1200x1200 with 2 Axes>"
      ]
     },
     "metadata": {},
     "output_type": "display_data"
    }
   ],
   "source": [
    "import matplotlib.pyplot as plt\n",
    "plt.figure(figsize=(12, 12))\n",
    "sns.heatmap(diabetes_data.corr(),annot=True)"
   ]
  },
  {
   "cell_type": "code",
   "execution_count": 6,
   "metadata": {},
   "outputs": [
    {
     "data": {
      "text/plain": [
       "<AxesSubplot:>"
      ]
     },
     "execution_count": 6,
     "metadata": {},
     "output_type": "execute_result"
    },
    {
     "data": {
      "image/png": "[encoded data removed]",
      "text/plain": [
       "<Figure size 432x288 with 2 Axes>"
      ]
     },
     "metadata": {
      "needs_background": "light"
     },
     "output_type": "display_data"
    }
   ],
   "source": []
  },
  {
   "cell_type": "markdown",
   "metadata": {},
   "source": [
    "### 3. Bagging\n",
    "Para este apartado tendrás que crear un ensemble utilizando la técnica de bagging ([BaggingClassifier](https://scikit-learn.org/stable/modules/generated/sklearn.ensemble.BaggingClassifier.html)), mediante la cual combinarás 100 [DecisionTreeClassifier](https://scikit-learn.org/stable/modules/generated/sklearn.tree.DecisionTreeClassifier.html). Recuerda utilizar también [cross validation](https://scikit-learn.org/stable/modules/generated/sklearn.model_selection.KFold.html) con 10 kfolds.\n",
    "\n",
    "**Para este apartado y siguientes, no hace falta que dividas en train/test**, por hacerlo más sencillo. Simplemente divide tus datos en features y target.\n",
    "\n",
    "Establece una semilla"
   ]
  },
  {
   "cell_type": "code",
   "execution_count": 3,
   "metadata": {},
   "outputs": [],
   "source": [
    "# Separa los datos en features (X) y target (y)\n",
    "# Nuestro target es df[\"class\"]\n",
    "# Muestra el shape de ambos conjuntos\n",
    "\n",
    "X = diabetes_data.iloc[:,:8]\n",
    "y = diabetes_data.loc[:,\"class\"]"
   ]
  },
  {
   "cell_type": "code",
   "execution_count": null,
   "metadata": {},
   "outputs": [
    {
     "name": "stdout",
     "output_type": "stream",
     "text": [
      "(768, 8)\n",
      "(768,)\n"
     ]
    }
   ],
   "source": []
  },
  {
   "cell_type": "code",
   "execution_count": 4,
   "metadata": {},
   "outputs": [
    {
     "name": "stdout",
     "output_type": "stream",
     "text": [
      "(768, 8)\n",
      "(768,)\n"
     ]
    }
   ],
   "source": [
    "print(X.shape)\n",
    "print(y.shape)"
   ]
  },
  {
   "cell_type": "code",
   "execution_count": null,
   "metadata": {},
   "outputs": [],
   "source": [
    "# Vamos a grabar la semilla 7 para todos los modelos en la variable seed"
   ]
  },
  {
   "cell_type": "code",
   "execution_count": 6,
   "metadata": {},
   "outputs": [],
   "source": [
    "seed = 7"
   ]
  },
  {
   "cell_type": "code",
   "execution_count": 7,
   "metadata": {},
   "outputs": [],
   "source": [
    "from sklearn.model_selection import KFold, cross_val_score"
   ]
  },
  {
   "cell_type": "code",
   "execution_count": 8,
   "metadata": {},
   "outputs": [],
   "source": [
    "from sklearn.ensemble import BaggingClassifier\n",
    "from sklearn.tree import DecisionTreeClassifier\n",
    "from sklearn.model_selection import KFold, cross_val_score\n",
    "# Instancia un Decision Tree Classifier\n",
    "estimator = DecisionTreeClassifier(max_depth=3,random_state=seed,class_weight=\"balanced\")\n",
    "# Instancia un Bagging Classifier cuyo base estimator sea el DecisionTreeClassifier() , el número de estimadores sea 100 y el random state sea la semilla seed que hemos creado\n",
    "bag_clf = BaggingClassifier(\n",
    "    estimator = estimator,\n",
    "    n_estimators=100, # Cantidad de árboles\n",
    "    max_samples=0.8, # Muestras utilizadas en boostrapping\n",
    "    bootstrap=True, # Usamos boostrapping\n",
    "    max_features = 3, # Features que utiliza en el boostrapping. Cuanto más bajo, mejor generalizará y menos overfitting\n",
    "    random_state = seed,\n",
    "    n_jobs=-1)\n",
    "\n",
    "# Instancia 10 KFolds en la variable kfold\n",
    "kfold = KFold(n_splits = 10)\n",
    "\n",
    "# Cálcula el cross validation score del Bagging Classifier con X e y, el cv sea igual a kfold y el scoring sea 'accuracy'\n",
    "# scores = cross_val_score(logisticRegr, X_train, y_train, cv=kfold, scoring='accuracy')\n",
    "scores_bag_clf = cross_val_score(bag_clf, X, y, cv=kfold, scoring='accuracy',n_jobs=-1)\n",
    "# Recuerda que el cross validation score se graba en una nueva variable, dale un nombre adecuado y no la borres, la necesitarás al final del ejercicio"
   ]
  },
  {
   "cell_type": "code",
   "execution_count": 9,
   "metadata": {},
   "outputs": [
    {
     "name": "stdout",
     "output_type": "stream",
     "text": [
      "Promedio de accuracy: 0.7369617224880383\n"
     ]
    }
   ],
   "source": [
    "# Obtén la media del cross validation score para el Bagging Classifier\n",
    "print(\"Promedio de accuracy:\", scores_bag_clf.mean())\n",
    "# Simplemente en la variable en la que guardaste el CV usa el método < .mean() >"
   ]
  },
  {
   "cell_type": "code",
   "execution_count": 11,
   "metadata": {},
   "outputs": [
    {
     "data": {
      "text/plain": [
       "array([0.71428571, 0.74025974, 0.74025974, 0.62337662, 0.71428571,\n",
       "       0.76623377, 0.79220779, 0.81818182, 0.73684211, 0.72368421])"
      ]
     },
     "execution_count": 11,
     "metadata": {},
     "output_type": "execute_result"
    }
   ],
   "source": [
    "scores_bag_clf"
   ]
  },
  {
   "cell_type": "code",
   "execution_count": 27,
   "metadata": {},
   "outputs": [
    {
     "data": {
      "text/plain": [
       "0.7720437457279563"
      ]
     },
     "execution_count": 27,
     "metadata": {},
     "output_type": "execute_result"
    }
   ],
   "source": []
  },
  {
   "cell_type": "markdown",
   "metadata": {},
   "source": [
    "### 4. Random Forest\n",
    "En este caso entrena un [RandomForestClassifier](https://scikit-learn.org/stable/modules/generated/sklearn.ensemble.RandomForestClassifier.html) con 100 árboles y un `max_features` de 3. También con validación cruzada"
   ]
  },
  {
   "cell_type": "code",
   "execution_count": 12,
   "metadata": {},
   "outputs": [],
   "source": [
    "from sklearn.ensemble import RandomForestClassifier\n",
    "from sklearn.metrics import mean_absolute_error"
   ]
  },
  {
   "cell_type": "code",
   "execution_count": 15,
   "metadata": {},
   "outputs": [],
   "source": [
    "# Instancia un Random Forest Classifier con 100 árboles, max features de 3 y que el random state sea la seed que hemos creado\n",
    "rnd_clf = RandomForestClassifier(n_estimators=200,\n",
    "                                 max_features=3,\n",
    "                                 max_leaf_nodes=16,\n",
    "                                 random_state=seed)\n",
    "\n",
    "# Cálcula el cross validation score del Random Forest Classifier con X e y, y que el cv sea igual a kfold\n",
    "scores_rnd_clf = cross_val_score(rnd_clf, X, y, cv=kfold, scoring='accuracy')\n",
    "\n",
    "# Recuerda que el cross validation score se graba en una nueva variable, dale un nombre adecuado y no la borres, la necesitarás al final del ejercicio"
   ]
  },
  {
   "cell_type": "code",
   "execution_count": 16,
   "metadata": {},
   "outputs": [
    {
     "name": "stdout",
     "output_type": "stream",
     "text": [
      "Promedio de accuracy: 0.770762132604238\n"
     ]
    }
   ],
   "source": [
    "# Obtén la media del cross validation score para el Random Forest Classifier\n",
    "print(\"Promedio de accuracy:\", scores_rnd_clf.mean())"
   ]
  },
  {
   "cell_type": "code",
   "execution_count": null,
   "metadata": {},
   "outputs": [],
   "source": [
    "# Obtén la media del cross validation score para el Random Forest Classifier"
   ]
  },
  {
   "cell_type": "code",
   "execution_count": 35,
   "metadata": {},
   "outputs": [
    {
     "data": {
      "text/plain": [
       "0.7733766233766234"
      ]
     },
     "execution_count": 35,
     "metadata": {},
     "output_type": "execute_result"
    }
   ],
   "source": []
  },
  {
   "cell_type": "markdown",
   "metadata": {},
   "source": [
    "### 5. AdaBoost\n",
    "Implementa un [AdaBoostClassifier](https://scikit-learn.org/stable/modules/generated/sklearn.ensemble.AdaBoostClassifier.html) con 30 árboles."
   ]
  },
  {
   "cell_type": "code",
   "execution_count": 18,
   "metadata": {},
   "outputs": [],
   "source": [
    "from sklearn.ensemble import AdaBoostClassifier"
   ]
  },
  {
   "cell_type": "code",
   "execution_count": 20,
   "metadata": {},
   "outputs": [
    {
     "name": "stderr",
     "output_type": "stream",
     "text": [
      "c:\\Users\\Usuario\\miniconda3\\envs\\data_analysis_env\\lib\\site-packages\\sklearn\\ensemble\\_weight_boosting.py:527: FutureWarning: The SAMME.R algorithm (the default) is deprecated and will be removed in 1.6. Use the SAMME algorithm to circumvent this warning.\n",
      "  warnings.warn(\n",
      "c:\\Users\\Usuario\\miniconda3\\envs\\data_analysis_env\\lib\\site-packages\\sklearn\\ensemble\\_weight_boosting.py:527: FutureWarning: The SAMME.R algorithm (the default) is deprecated and will be removed in 1.6. Use the SAMME algorithm to circumvent this warning.\n",
      "  warnings.warn(\n",
      "c:\\Users\\Usuario\\miniconda3\\envs\\data_analysis_env\\lib\\site-packages\\sklearn\\ensemble\\_weight_boosting.py:527: FutureWarning: The SAMME.R algorithm (the default) is deprecated and will be removed in 1.6. Use the SAMME algorithm to circumvent this warning.\n",
      "  warnings.warn(\n",
      "c:\\Users\\Usuario\\miniconda3\\envs\\data_analysis_env\\lib\\site-packages\\sklearn\\ensemble\\_weight_boosting.py:527: FutureWarning: The SAMME.R algorithm (the default) is deprecated and will be removed in 1.6. Use the SAMME algorithm to circumvent this warning.\n",
      "  warnings.warn(\n",
      "c:\\Users\\Usuario\\miniconda3\\envs\\data_analysis_env\\lib\\site-packages\\sklearn\\ensemble\\_weight_boosting.py:527: FutureWarning: The SAMME.R algorithm (the default) is deprecated and will be removed in 1.6. Use the SAMME algorithm to circumvent this warning.\n",
      "  warnings.warn(\n",
      "c:\\Users\\Usuario\\miniconda3\\envs\\data_analysis_env\\lib\\site-packages\\sklearn\\ensemble\\_weight_boosting.py:527: FutureWarning: The SAMME.R algorithm (the default) is deprecated and will be removed in 1.6. Use the SAMME algorithm to circumvent this warning.\n",
      "  warnings.warn(\n",
      "c:\\Users\\Usuario\\miniconda3\\envs\\data_analysis_env\\lib\\site-packages\\sklearn\\ensemble\\_weight_boosting.py:527: FutureWarning: The SAMME.R algorithm (the default) is deprecated and will be removed in 1.6. Use the SAMME algorithm to circumvent this warning.\n",
      "  warnings.warn(\n",
      "c:\\Users\\Usuario\\miniconda3\\envs\\data_analysis_env\\lib\\site-packages\\sklearn\\ensemble\\_weight_boosting.py:527: FutureWarning: The SAMME.R algorithm (the default) is deprecated and will be removed in 1.6. Use the SAMME algorithm to circumvent this warning.\n",
      "  warnings.warn(\n",
      "c:\\Users\\Usuario\\miniconda3\\envs\\data_analysis_env\\lib\\site-packages\\sklearn\\ensemble\\_weight_boosting.py:527: FutureWarning: The SAMME.R algorithm (the default) is deprecated and will be removed in 1.6. Use the SAMME algorithm to circumvent this warning.\n",
      "  warnings.warn(\n",
      "c:\\Users\\Usuario\\miniconda3\\envs\\data_analysis_env\\lib\\site-packages\\sklearn\\ensemble\\_weight_boosting.py:527: FutureWarning: The SAMME.R algorithm (the default) is deprecated and will be removed in 1.6. Use the SAMME algorithm to circumvent this warning.\n",
      "  warnings.warn(\n"
     ]
    }
   ],
   "source": [
    "# Instancia un AdaBoost Classifier con 30 árboles y que el random state sea la seed que hemos creado\n",
    "estimator_adaboost = DecisionTreeClassifier(max_depth=3,random_state=seed)\n",
    "\n",
    "ada_clf = AdaBoostClassifier(estimator = estimator_adaboost,\n",
    "                             n_estimators=30,\n",
    "                             learning_rate=0.01,\n",
    "                             random_state=seed)\n",
    "\n",
    "# Cálcula el cross validation score del AdaBoost Classifier con X e y, y que el cv sea igual a kfold\n",
    "scores_ada_clf = cross_val_score(ada_clf, X, y, cv=kfold, scoring='accuracy')\n",
    "\n",
    "# Recuerda que el cross validation score se graba en una nueva variable, dale un nombre adecuado y no la borres, la necesitarás al final del ejercicio"
   ]
  },
  {
   "cell_type": "code",
   "execution_count": 21,
   "metadata": {},
   "outputs": [
    {
     "name": "stdout",
     "output_type": "stream",
     "text": [
      "Promedio de accuracy: 0.7485304169514697\n"
     ]
    }
   ],
   "source": [
    "# Obtén la media del cross validation score para el AdaBoost Classifier\n",
    "print(\"Promedio de accuracy:\", scores_ada_clf.mean())"
   ]
  },
  {
   "cell_type": "code",
   "execution_count": 38,
   "metadata": {},
   "outputs": [
    {
     "data": {
      "text/plain": [
       "0.760457963089542"
      ]
     },
     "execution_count": 38,
     "metadata": {},
     "output_type": "execute_result"
    }
   ],
   "source": []
  },
  {
   "cell_type": "markdown",
   "metadata": {},
   "source": [
    "### 6. GradientBoosting\n",
    "Implementa un [GradientBoostingClassifier](https://scikit-learn.org/stable/modules/generated/sklearn.ensemble.GradientBoostingClassifier.html) con 100 estimadores"
   ]
  },
  {
   "cell_type": "code",
   "execution_count": 23,
   "metadata": {},
   "outputs": [],
   "source": [
    "from sklearn.ensemble import GradientBoostingClassifier"
   ]
  },
  {
   "cell_type": "code",
   "execution_count": 24,
   "metadata": {},
   "outputs": [],
   "source": [
    "# Instancia un GradientBoosting Classifier con 100 estimadores y que el random state sea la seed que hemos creado\n",
    "\n",
    "gbct = GradientBoostingClassifier(max_depth=3,random_state=seed,n_estimators=100)\n",
    "\n",
    "# Cálcula el cross validation score del GradientBoosting Classifier con X e y, y que el cv sea igual a kfold\n",
    "scores_gbct = cross_val_score(gbct, X, y, cv=kfold, scoring='accuracy')\n",
    "\n",
    "# Recuerda que el cross validation score se graba en una nueva variable, dale un nombre adecuado y no la borres, la necesitarás al final del ejercicio"
   ]
  },
  {
   "cell_type": "code",
   "execution_count": 25,
   "metadata": {},
   "outputs": [
    {
     "name": "stdout",
     "output_type": "stream",
     "text": [
      "Promedio de accuracy: 0.7681989063568012\n"
     ]
    }
   ],
   "source": [
    "# La misma vaina que estamos haciendo, saca el mean() de la variable del cross_validation\n",
    "print(\"Promedio de accuracy:\", scores_gbct.mean())"
   ]
  },
  {
   "cell_type": "code",
   "execution_count": null,
   "metadata": {},
   "outputs": [],
   "source": [
    "# La misma vaina que estamos haciendo, saca el mean() de la variable del cross_validation"
   ]
  },
  {
   "cell_type": "code",
   "execution_count": 40,
   "metadata": {},
   "outputs": [
    {
     "data": {
      "text/plain": [
       "0.7681989063568012"
      ]
     },
     "execution_count": 40,
     "metadata": {},
     "output_type": "execute_result"
    }
   ],
   "source": []
  },
  {
   "cell_type": "markdown",
   "metadata": {},
   "source": [
    "### 7. XGBoost\n",
    "Para este apartado utiliza un [XGBoostClassifier](https://docs.getml.com/latest/api/getml.predictors.XGBoostClassifier.html) con 100 estimadores. XGBoost no forma parte de la suite de modelos de sklearn, por lo que tendrás que instalarlo con pip install"
   ]
  },
  {
   "cell_type": "code",
   "execution_count": null,
   "metadata": {},
   "outputs": [],
   "source": [
    "# Descomenta la siguiente wea (palabra chilena, no es ningun termino de Machine Learning) para instalar el XGBoost"
   ]
  },
  {
   "cell_type": "code",
   "execution_count": 73,
   "metadata": {},
   "outputs": [
    {
     "name": "stdout",
     "output_type": "stream",
     "text": [
      "Collecting xgboost\n",
      "  Downloading xgboost-2.1.2-py3-none-win_amd64.whl.metadata (2.1 kB)\n",
      "Requirement already satisfied: numpy in c:\\users\\usuario\\miniconda3\\envs\\data_analysis_env\\lib\\site-packages (from xgboost) (2.1.2)\n",
      "Requirement already satisfied: scipy in c:\\users\\usuario\\miniconda3\\envs\\data_analysis_env\\lib\\site-packages (from xgboost) (1.14.1)\n",
      "Downloading xgboost-2.1.2-py3-none-win_amd64.whl (124.9 MB)\n",
      "   ---------------------------------------- 0.0/124.9 MB ? eta -:--:--\n",
      "   ---------------------------------------- 0.5/124.9 MB 2.1 MB/s eta 0:01:00\n",
      "   ---------------------------------------- 1.0/124.9 MB 2.8 MB/s eta 0:00:45\n",
      "    --------------------------------------- 1.8/124.9 MB 2.8 MB/s eta 0:00:45\n",
      "    --------------------------------------- 2.4/124.9 MB 2.7 MB/s eta 0:00:45\n",
      "    --------------------------------------- 2.9/124.9 MB 2.7 MB/s eta 0:00:46\n",
      "   - -------------------------------------- 3.1/124.9 MB 2.4 MB/s eta 0:00:51\n",
      "   - -------------------------------------- 3.1/124.9 MB 2.4 MB/s eta 0:00:51\n",
      "   - -------------------------------------- 3.4/124.9 MB 1.9 MB/s eta 0:01:04\n",
      "   - -------------------------------------- 3.4/124.9 MB 1.9 MB/s eta 0:01:04\n",
      "   - -------------------------------------- 3.7/124.9 MB 1.7 MB/s eta 0:01:14\n",
      "   - -------------------------------------- 3.7/124.9 MB 1.7 MB/s eta 0:01:14\n",
      "   - -------------------------------------- 3.9/124.9 MB 1.5 MB/s eta 0:01:19\n",
      "   - -------------------------------------- 3.9/124.9 MB 1.5 MB/s eta 0:01:19\n",
      "   - -------------------------------------- 3.9/124.9 MB 1.5 MB/s eta 0:01:19\n",
      "   - -------------------------------------- 4.2/124.9 MB 1.3 MB/s eta 0:01:34\n",
      "   - -------------------------------------- 4.2/124.9 MB 1.3 MB/s eta 0:01:34\n",
      "   - -------------------------------------- 4.2/124.9 MB 1.3 MB/s eta 0:01:34\n",
      "   - -------------------------------------- 4.5/124.9 MB 1.1 MB/s eta 0:01:46\n",
      "   - -------------------------------------- 4.7/124.9 MB 1.1 MB/s eta 0:01:48\n",
      "   - -------------------------------------- 4.7/124.9 MB 1.1 MB/s eta 0:01:48\n",
      "   - -------------------------------------- 5.0/124.9 MB 1.1 MB/s eta 0:01:50\n",
      "   - -------------------------------------- 5.2/124.9 MB 1.1 MB/s eta 0:01:52\n",
      "   - -------------------------------------- 5.2/124.9 MB 1.1 MB/s eta 0:01:52\n",
      "   - -------------------------------------- 5.5/124.9 MB 1.1 MB/s eta 0:01:52\n",
      "   - -------------------------------------- 5.8/124.9 MB 1.1 MB/s eta 0:01:51\n",
      "   -- ------------------------------------- 6.3/124.9 MB 1.1 MB/s eta 0:01:48\n",
      "   -- ------------------------------------- 6.8/124.9 MB 1.1 MB/s eta 0:01:43\n",
      "   -- ------------------------------------- 7.1/124.9 MB 1.2 MB/s eta 0:01:42\n",
      "   -- ------------------------------------- 7.6/124.9 MB 1.2 MB/s eta 0:01:38\n",
      "   -- ------------------------------------- 7.9/124.9 MB 1.2 MB/s eta 0:01:39\n",
      "   -- ------------------------------------- 8.1/124.9 MB 1.2 MB/s eta 0:01:37\n",
      "   -- ------------------------------------- 8.4/124.9 MB 1.2 MB/s eta 0:01:37\n",
      "   -- ------------------------------------- 8.7/124.9 MB 1.2 MB/s eta 0:01:36\n",
      "   -- ------------------------------------- 9.2/124.9 MB 1.2 MB/s eta 0:01:33\n",
      "   --- ------------------------------------ 9.4/124.9 MB 1.3 MB/s eta 0:01:33\n",
      "   --- ------------------------------------ 9.7/124.9 MB 1.2 MB/s eta 0:01:33\n",
      "   --- ------------------------------------ 10.0/124.9 MB 1.2 MB/s eta 0:01:33\n",
      "   --- ------------------------------------ 10.0/124.9 MB 1.2 MB/s eta 0:01:33\n",
      "   --- ------------------------------------ 10.2/124.9 MB 1.2 MB/s eta 0:01:34\n",
      "   --- ------------------------------------ 10.5/124.9 MB 1.2 MB/s eta 0:01:34\n",
      "   --- ------------------------------------ 11.0/124.9 MB 1.2 MB/s eta 0:01:32\n",
      "   --- ------------------------------------ 11.3/124.9 MB 1.2 MB/s eta 0:01:31\n",
      "   --- ------------------------------------ 11.5/124.9 MB 1.3 MB/s eta 0:01:31\n",
      "   --- ------------------------------------ 11.5/124.9 MB 1.3 MB/s eta 0:01:31\n",
      "   --- ------------------------------------ 11.8/124.9 MB 1.2 MB/s eta 0:01:33\n",
      "   --- ------------------------------------ 12.3/124.9 MB 1.2 MB/s eta 0:01:32\n",
      "   ---- ----------------------------------- 12.6/124.9 MB 1.2 MB/s eta 0:01:31\n",
      "   ---- ----------------------------------- 12.8/124.9 MB 1.2 MB/s eta 0:01:31\n",
      "   ---- ----------------------------------- 12.8/124.9 MB 1.2 MB/s eta 0:01:31\n",
      "   ---- ----------------------------------- 13.1/124.9 MB 1.2 MB/s eta 0:01:32\n",
      "   ---- ----------------------------------- 13.4/124.9 MB 1.2 MB/s eta 0:01:33\n",
      "   ---- ----------------------------------- 13.6/124.9 MB 1.2 MB/s eta 0:01:32\n",
      "   ---- ----------------------------------- 13.9/124.9 MB 1.2 MB/s eta 0:01:32\n",
      "   ---- ----------------------------------- 13.9/124.9 MB 1.2 MB/s eta 0:01:32\n",
      "   ---- ----------------------------------- 14.2/124.9 MB 1.2 MB/s eta 0:01:33\n",
      "   ---- ----------------------------------- 14.7/124.9 MB 1.2 MB/s eta 0:01:32\n",
      "   ---- ----------------------------------- 14.9/124.9 MB 1.2 MB/s eta 0:01:31\n",
      "   ---- ----------------------------------- 15.5/124.9 MB 1.2 MB/s eta 0:01:30\n",
      "   ----- ---------------------------------- 15.7/124.9 MB 1.2 MB/s eta 0:01:29\n",
      "   ----- ---------------------------------- 15.7/124.9 MB 1.2 MB/s eta 0:01:29\n",
      "   ----- ---------------------------------- 15.7/124.9 MB 1.2 MB/s eta 0:01:29\n",
      "   ----- ---------------------------------- 15.7/124.9 MB 1.2 MB/s eta 0:01:29\n",
      "   ----- ---------------------------------- 16.0/124.9 MB 1.2 MB/s eta 0:01:33\n",
      "   ----- ---------------------------------- 16.5/124.9 MB 1.2 MB/s eta 0:01:32\n",
      "   ----- ---------------------------------- 16.5/124.9 MB 1.2 MB/s eta 0:01:32\n",
      "   ----- ---------------------------------- 16.8/124.9 MB 1.2 MB/s eta 0:01:32\n",
      "   ----- ---------------------------------- 16.8/124.9 MB 1.2 MB/s eta 0:01:32\n",
      "   ----- ---------------------------------- 17.0/124.9 MB 1.2 MB/s eta 0:01:33\n",
      "   ----- ---------------------------------- 17.3/124.9 MB 1.2 MB/s eta 0:01:33\n",
      "   ----- ---------------------------------- 17.6/124.9 MB 1.2 MB/s eta 0:01:33\n",
      "   ----- ---------------------------------- 17.8/124.9 MB 1.2 MB/s eta 0:01:33\n",
      "   ----- ---------------------------------- 18.1/124.9 MB 1.2 MB/s eta 0:01:33\n",
      "   ----- ---------------------------------- 18.1/124.9 MB 1.2 MB/s eta 0:01:33\n",
      "   ----- ---------------------------------- 18.6/124.9 MB 1.2 MB/s eta 0:01:32\n",
      "   ------ --------------------------------- 18.9/124.9 MB 1.2 MB/s eta 0:01:32\n",
      "   ------ --------------------------------- 19.1/124.9 MB 1.2 MB/s eta 0:01:31\n",
      "   ------ --------------------------------- 19.4/124.9 MB 1.2 MB/s eta 0:01:31\n",
      "   ------ --------------------------------- 19.4/124.9 MB 1.2 MB/s eta 0:01:31\n",
      "   ------ --------------------------------- 19.9/124.9 MB 1.2 MB/s eta 0:01:31\n",
      "   ------ --------------------------------- 20.4/124.9 MB 1.2 MB/s eta 0:01:29\n",
      "   ------ --------------------------------- 20.7/124.9 MB 1.2 MB/s eta 0:01:28\n",
      "   ------ --------------------------------- 21.2/124.9 MB 1.2 MB/s eta 0:01:27\n",
      "   ------ --------------------------------- 21.5/124.9 MB 1.2 MB/s eta 0:01:26\n",
      "   ------- -------------------------------- 22.0/124.9 MB 1.2 MB/s eta 0:01:26\n",
      "   ------- -------------------------------- 22.3/124.9 MB 1.2 MB/s eta 0:01:25\n",
      "   ------- -------------------------------- 22.5/124.9 MB 1.2 MB/s eta 0:01:25\n",
      "   ------- -------------------------------- 23.1/124.9 MB 1.2 MB/s eta 0:01:24\n",
      "   ------- -------------------------------- 23.3/124.9 MB 1.2 MB/s eta 0:01:23\n",
      "   ------- -------------------------------- 23.6/124.9 MB 1.2 MB/s eta 0:01:23\n",
      "   ------- -------------------------------- 23.9/124.9 MB 1.2 MB/s eta 0:01:23\n",
      "   ------- -------------------------------- 24.4/124.9 MB 1.2 MB/s eta 0:01:22\n",
      "   ------- -------------------------------- 24.6/124.9 MB 1.2 MB/s eta 0:01:22\n",
      "   ------- -------------------------------- 24.9/124.9 MB 1.2 MB/s eta 0:01:21\n",
      "   -------- ------------------------------- 25.2/124.9 MB 1.2 MB/s eta 0:01:21\n",
      "   -------- ------------------------------- 25.4/124.9 MB 1.2 MB/s eta 0:01:21\n",
      "   -------- ------------------------------- 25.7/124.9 MB 1.2 MB/s eta 0:01:21\n",
      "   -------- ------------------------------- 26.2/124.9 MB 1.2 MB/s eta 0:01:20\n",
      "   -------- ------------------------------- 26.5/124.9 MB 1.3 MB/s eta 0:01:19\n",
      "   -------- ------------------------------- 26.7/124.9 MB 1.3 MB/s eta 0:01:19\n",
      "   -------- ------------------------------- 27.0/124.9 MB 1.3 MB/s eta 0:01:18\n",
      "   -------- ------------------------------- 27.3/124.9 MB 1.3 MB/s eta 0:01:18\n",
      "   -------- ------------------------------- 27.5/124.9 MB 1.2 MB/s eta 0:01:18\n",
      "   -------- ------------------------------- 27.8/124.9 MB 1.3 MB/s eta 0:01:18\n",
      "   -------- ------------------------------- 28.0/124.9 MB 1.3 MB/s eta 0:01:18\n",
      "   --------- ------------------------------ 28.6/124.9 MB 1.3 MB/s eta 0:01:17\n",
      "   --------- ------------------------------ 29.4/124.9 MB 1.3 MB/s eta 0:01:15\n",
      "   --------- ------------------------------ 29.9/124.9 MB 1.3 MB/s eta 0:01:14\n",
      "   --------- ------------------------------ 30.7/124.9 MB 1.3 MB/s eta 0:01:12\n",
      "   --------- ------------------------------ 30.9/124.9 MB 1.3 MB/s eta 0:01:12\n",
      "   ---------- ----------------------------- 31.5/124.9 MB 1.3 MB/s eta 0:01:11\n",
      "   ---------- ----------------------------- 32.0/124.9 MB 1.3 MB/s eta 0:01:10\n",
      "   ---------- ----------------------------- 32.2/124.9 MB 1.3 MB/s eta 0:01:10\n",
      "   ---------- ----------------------------- 32.5/124.9 MB 1.3 MB/s eta 0:01:10\n",
      "   ---------- ----------------------------- 33.0/124.9 MB 1.3 MB/s eta 0:01:09\n",
      "   ---------- ----------------------------- 33.6/124.9 MB 1.3 MB/s eta 0:01:08\n",
      "   ---------- ----------------------------- 33.8/124.9 MB 1.4 MB/s eta 0:01:08\n",
      "   ---------- ----------------------------- 34.1/124.9 MB 1.4 MB/s eta 0:01:08\n",
      "   ---------- ----------------------------- 34.1/124.9 MB 1.4 MB/s eta 0:01:08\n",
      "   ---------- ----------------------------- 34.3/124.9 MB 1.3 MB/s eta 0:01:08\n",
      "   ----------- ---------------------------- 34.6/124.9 MB 1.3 MB/s eta 0:01:08\n",
      "   ----------- ---------------------------- 35.1/124.9 MB 1.3 MB/s eta 0:01:07\n",
      "   ----------- ---------------------------- 35.4/124.9 MB 1.3 MB/s eta 0:01:07\n",
      "   ----------- ---------------------------- 35.9/124.9 MB 1.4 MB/s eta 0:01:06\n",
      "   ----------- ---------------------------- 36.2/124.9 MB 1.4 MB/s eta 0:01:06\n",
      "   ----------- ---------------------------- 36.4/124.9 MB 1.3 MB/s eta 0:01:06\n",
      "   ----------- ---------------------------- 36.7/124.9 MB 1.3 MB/s eta 0:01:06\n",
      "   ----------- ---------------------------- 37.2/124.9 MB 1.4 MB/s eta 0:01:05\n",
      "   ------------ --------------------------- 37.7/124.9 MB 1.4 MB/s eta 0:01:04\n",
      "   ------------ --------------------------- 38.0/124.9 MB 1.4 MB/s eta 0:01:04\n",
      "   ------------ --------------------------- 38.5/124.9 MB 1.4 MB/s eta 0:01:03\n",
      "   ------------ --------------------------- 39.1/124.9 MB 1.4 MB/s eta 0:01:03\n",
      "   ------------ --------------------------- 39.3/124.9 MB 1.4 MB/s eta 0:01:02\n",
      "   ------------ --------------------------- 39.8/124.9 MB 1.4 MB/s eta 0:01:02\n",
      "   ------------ --------------------------- 40.4/124.9 MB 1.4 MB/s eta 0:01:01\n",
      "   ------------- -------------------------- 40.6/124.9 MB 1.4 MB/s eta 0:01:01\n",
      "   ------------- -------------------------- 40.6/124.9 MB 1.4 MB/s eta 0:01:01\n",
      "   ------------- -------------------------- 41.2/124.9 MB 1.4 MB/s eta 0:01:01\n",
      "   ------------- -------------------------- 41.4/124.9 MB 1.4 MB/s eta 0:01:01\n",
      "   ------------- -------------------------- 41.9/124.9 MB 1.4 MB/s eta 0:01:00\n",
      "   ------------- -------------------------- 42.2/124.9 MB 1.4 MB/s eta 0:01:00\n",
      "   ------------- -------------------------- 42.2/124.9 MB 1.4 MB/s eta 0:01:00\n",
      "   ------------- -------------------------- 42.5/124.9 MB 1.4 MB/s eta 0:01:01\n",
      "   ------------- -------------------------- 42.5/124.9 MB 1.4 MB/s eta 0:01:01\n",
      "   ------------- -------------------------- 42.7/124.9 MB 1.3 MB/s eta 0:01:02\n",
      "   ------------- -------------------------- 43.0/124.9 MB 1.3 MB/s eta 0:01:02\n",
      "   ------------- -------------------------- 43.3/124.9 MB 1.3 MB/s eta 0:01:01\n",
      "   ------------- -------------------------- 43.5/124.9 MB 1.3 MB/s eta 0:01:01\n",
      "   -------------- ------------------------- 43.8/124.9 MB 1.4 MB/s eta 0:01:00\n",
      "   -------------- ------------------------- 43.8/124.9 MB 1.4 MB/s eta 0:01:00\n",
      "   -------------- ------------------------- 44.0/124.9 MB 1.4 MB/s eta 0:01:00\n",
      "   -------------- ------------------------- 44.6/124.9 MB 1.4 MB/s eta 0:00:59\n",
      "   -------------- ------------------------- 44.8/124.9 MB 1.4 MB/s eta 0:00:59\n",
      "   -------------- ------------------------- 45.4/124.9 MB 1.4 MB/s eta 0:00:58\n",
      "   -------------- ------------------------- 45.4/124.9 MB 1.4 MB/s eta 0:00:58\n",
      "   -------------- ------------------------- 45.9/124.9 MB 1.4 MB/s eta 0:00:57\n",
      "   -------------- ------------------------- 46.1/124.9 MB 1.4 MB/s eta 0:00:57\n",
      "   -------------- ------------------------- 46.4/124.9 MB 1.4 MB/s eta 0:00:57\n",
      "   --------------- ------------------------ 46.9/124.9 MB 1.4 MB/s eta 0:00:56\n",
      "   --------------- ------------------------ 47.2/124.9 MB 1.4 MB/s eta 0:00:55\n",
      "   --------------- ------------------------ 47.7/124.9 MB 1.4 MB/s eta 0:00:55\n",
      "   --------------- ------------------------ 48.0/124.9 MB 1.4 MB/s eta 0:00:54\n",
      "   --------------- ------------------------ 48.2/124.9 MB 1.4 MB/s eta 0:00:54\n",
      "   --------------- ------------------------ 48.8/124.9 MB 1.4 MB/s eta 0:00:53\n",
      "   --------------- ------------------------ 49.3/124.9 MB 1.4 MB/s eta 0:00:53\n",
      "   --------------- ------------------------ 49.8/124.9 MB 1.5 MB/s eta 0:00:52\n",
      "   ---------------- ----------------------- 50.3/124.9 MB 1.5 MB/s eta 0:00:52\n",
      "   ---------------- ----------------------- 50.6/124.9 MB 1.5 MB/s eta 0:00:52\n",
      "   ---------------- ----------------------- 51.4/124.9 MB 1.5 MB/s eta 0:00:51\n",
      "   ---------------- ----------------------- 51.9/124.9 MB 1.5 MB/s eta 0:00:50\n",
      "   ---------------- ----------------------- 52.4/124.9 MB 1.5 MB/s eta 0:00:50\n",
      "   ---------------- ----------------------- 52.7/124.9 MB 1.5 MB/s eta 0:00:49\n",
      "   ----------------- ---------------------- 53.2/124.9 MB 1.5 MB/s eta 0:00:49\n",
      "   ----------------- ---------------------- 53.5/124.9 MB 1.5 MB/s eta 0:00:49\n",
      "   ----------------- ---------------------- 54.0/124.9 MB 1.5 MB/s eta 0:00:48\n",
      "   ----------------- ---------------------- 54.5/124.9 MB 1.5 MB/s eta 0:00:48\n",
      "   ----------------- ---------------------- 55.1/124.9 MB 1.5 MB/s eta 0:00:47\n",
      "   ----------------- ---------------------- 55.6/124.9 MB 1.5 MB/s eta 0:00:46\n",
      "   ----------------- ---------------------- 55.8/124.9 MB 1.5 MB/s eta 0:00:46\n",
      "   ------------------ --------------------- 56.6/124.9 MB 1.5 MB/s eta 0:00:45\n",
      "   ------------------ --------------------- 57.1/124.9 MB 1.5 MB/s eta 0:00:45\n",
      "   ------------------ --------------------- 57.7/124.9 MB 1.5 MB/s eta 0:00:44\n",
      "   ------------------ --------------------- 58.2/124.9 MB 1.6 MB/s eta 0:00:43\n",
      "   ------------------ --------------------- 59.0/124.9 MB 1.6 MB/s eta 0:00:42\n",
      "   ------------------ --------------------- 59.2/124.9 MB 1.6 MB/s eta 0:00:42\n",
      "   ------------------- -------------------- 59.5/124.9 MB 1.6 MB/s eta 0:00:42\n",
      "   ------------------- -------------------- 59.8/124.9 MB 1.6 MB/s eta 0:00:42\n",
      "   ------------------- -------------------- 60.0/124.9 MB 1.6 MB/s eta 0:00:42\n",
      "   ------------------- -------------------- 60.3/124.9 MB 1.6 MB/s eta 0:00:41\n",
      "   ------------------- -------------------- 60.6/124.9 MB 1.6 MB/s eta 0:00:41\n",
      "   ------------------- -------------------- 60.8/124.9 MB 1.6 MB/s eta 0:00:41\n",
      "   ------------------- -------------------- 61.1/124.9 MB 1.6 MB/s eta 0:00:41\n",
      "   ------------------- -------------------- 61.3/124.9 MB 1.6 MB/s eta 0:00:41\n",
      "   ------------------- -------------------- 61.6/124.9 MB 1.6 MB/s eta 0:00:40\n",
      "   ------------------- -------------------- 61.9/124.9 MB 1.6 MB/s eta 0:00:40\n",
      "   ------------------- -------------------- 62.1/124.9 MB 1.6 MB/s eta 0:00:40\n",
      "   ------------------- -------------------- 62.1/124.9 MB 1.6 MB/s eta 0:00:40\n",
      "   ------------------- -------------------- 62.1/124.9 MB 1.6 MB/s eta 0:00:40\n",
      "   ------------------- -------------------- 62.4/124.9 MB 1.6 MB/s eta 0:00:41\n",
      "   ------------------- -------------------- 62.4/124.9 MB 1.6 MB/s eta 0:00:41\n",
      "   -------------------- ------------------- 62.7/124.9 MB 1.6 MB/s eta 0:00:40\n",
      "   -------------------- ------------------- 62.7/124.9 MB 1.6 MB/s eta 0:00:40\n",
      "   -------------------- ------------------- 62.9/124.9 MB 1.6 MB/s eta 0:00:40\n",
      "   -------------------- ------------------- 62.9/124.9 MB 1.6 MB/s eta 0:00:40\n",
      "   -------------------- ------------------- 63.2/124.9 MB 1.6 MB/s eta 0:00:40\n",
      "   -------------------- ------------------- 63.4/124.9 MB 1.6 MB/s eta 0:00:40\n",
      "   -------------------- ------------------- 63.7/124.9 MB 1.6 MB/s eta 0:00:40\n",
      "   -------------------- ------------------- 64.0/124.9 MB 1.6 MB/s eta 0:00:39\n",
      "   -------------------- ------------------- 64.2/124.9 MB 1.6 MB/s eta 0:00:39\n",
      "   -------------------- ------------------- 64.2/124.9 MB 1.6 MB/s eta 0:00:39\n",
      "   -------------------- ------------------- 64.5/124.9 MB 1.6 MB/s eta 0:00:39\n",
      "   -------------------- ------------------- 64.7/124.9 MB 1.6 MB/s eta 0:00:39\n",
      "   -------------------- ------------------- 65.3/124.9 MB 1.6 MB/s eta 0:00:38\n",
      "   -------------------- ------------------- 65.5/124.9 MB 1.6 MB/s eta 0:00:38\n",
      "   --------------------- ------------------ 66.1/124.9 MB 1.6 MB/s eta 0:00:38\n",
      "   --------------------- ------------------ 66.6/124.9 MB 1.6 MB/s eta 0:00:37\n",
      "   --------------------- ------------------ 67.1/124.9 MB 1.6 MB/s eta 0:00:37\n",
      "   --------------------- ------------------ 67.1/124.9 MB 1.6 MB/s eta 0:00:37\n",
      "   --------------------- ------------------ 67.4/124.9 MB 1.6 MB/s eta 0:00:37\n",
      "   --------------------- ------------------ 67.6/124.9 MB 1.6 MB/s eta 0:00:36\n",
      "   --------------------- ------------------ 67.9/124.9 MB 1.6 MB/s eta 0:00:36\n",
      "   --------------------- ------------------ 68.2/124.9 MB 1.6 MB/s eta 0:00:36\n",
      "   --------------------- ------------------ 68.4/124.9 MB 1.6 MB/s eta 0:00:37\n",
      "   --------------------- ------------------ 68.4/124.9 MB 1.6 MB/s eta 0:00:37\n",
      "   --------------------- ------------------ 68.7/124.9 MB 1.6 MB/s eta 0:00:37\n",
      "   --------------------- ------------------ 68.7/124.9 MB 1.6 MB/s eta 0:00:37\n",
      "   ---------------------- ----------------- 68.9/124.9 MB 1.5 MB/s eta 0:00:37\n",
      "   ---------------------- ----------------- 69.2/124.9 MB 1.5 MB/s eta 0:00:37\n",
      "   ---------------------- ----------------- 69.5/124.9 MB 1.5 MB/s eta 0:00:37\n",
      "   ---------------------- ----------------- 69.7/124.9 MB 1.5 MB/s eta 0:00:36\n",
      "   ---------------------- ----------------- 70.0/124.9 MB 1.5 MB/s eta 0:00:36\n",
      "   ---------------------- ----------------- 70.5/124.9 MB 1.5 MB/s eta 0:00:36\n",
      "   ---------------------- ----------------- 70.8/124.9 MB 1.5 MB/s eta 0:00:36\n",
      "   ---------------------- ----------------- 71.3/124.9 MB 1.5 MB/s eta 0:00:35\n",
      "   ----------------------- ---------------- 72.1/124.9 MB 1.6 MB/s eta 0:00:34\n",
      "   ----------------------- ---------------- 72.6/124.9 MB 1.6 MB/s eta 0:00:34\n",
      "   ----------------------- ---------------- 73.4/124.9 MB 1.6 MB/s eta 0:00:33\n",
      "   ----------------------- ---------------- 73.9/124.9 MB 1.6 MB/s eta 0:00:33\n",
      "   ----------------------- ---------------- 74.4/124.9 MB 1.6 MB/s eta 0:00:32\n",
      "   ------------------------ --------------- 75.2/124.9 MB 1.6 MB/s eta 0:00:31\n",
      "   ------------------------ --------------- 75.8/124.9 MB 1.6 MB/s eta 0:00:31\n",
      "   ------------------------ --------------- 76.3/124.9 MB 1.6 MB/s eta 0:00:30\n",
      "   ------------------------ --------------- 76.8/124.9 MB 1.6 MB/s eta 0:00:30\n",
      "   ------------------------ --------------- 77.3/124.9 MB 1.7 MB/s eta 0:00:29\n",
      "   ------------------------ --------------- 77.6/124.9 MB 1.7 MB/s eta 0:00:29\n",
      "   ------------------------ --------------- 77.9/124.9 MB 1.6 MB/s eta 0:00:29\n",
      "   ------------------------- -------------- 78.1/124.9 MB 1.6 MB/s eta 0:00:29\n",
      "   ------------------------- -------------- 78.1/124.9 MB 1.6 MB/s eta 0:00:29\n",
      "   ------------------------- -------------- 78.4/124.9 MB 1.6 MB/s eta 0:00:30\n",
      "   ------------------------- -------------- 78.6/124.9 MB 1.6 MB/s eta 0:00:30\n",
      "   ------------------------- -------------- 78.9/124.9 MB 1.6 MB/s eta 0:00:30\n",
      "   ------------------------- -------------- 79.2/124.9 MB 1.6 MB/s eta 0:00:30\n",
      "   ------------------------- -------------- 79.4/124.9 MB 1.6 MB/s eta 0:00:29\n",
      "   ------------------------- -------------- 80.0/124.9 MB 1.6 MB/s eta 0:00:29\n",
      "   ------------------------- -------------- 80.2/124.9 MB 1.6 MB/s eta 0:00:29\n",
      "   ------------------------- -------------- 80.2/124.9 MB 1.6 MB/s eta 0:00:29\n",
      "   ------------------------- -------------- 80.5/124.9 MB 1.6 MB/s eta 0:00:29\n",
      "   ------------------------- -------------- 80.7/124.9 MB 1.6 MB/s eta 0:00:29\n",
      "   ------------------------- -------------- 80.7/124.9 MB 1.6 MB/s eta 0:00:29\n",
      "   ------------------------- -------------- 80.7/124.9 MB 1.6 MB/s eta 0:00:29\n",
      "   ------------------------- -------------- 81.0/124.9 MB 1.6 MB/s eta 0:00:29\n",
      "   -------------------------- ------------- 81.3/124.9 MB 1.5 MB/s eta 0:00:29\n",
      "   -------------------------- ------------- 81.5/124.9 MB 1.5 MB/s eta 0:00:29\n",
      "   -------------------------- ------------- 81.8/124.9 MB 1.5 MB/s eta 0:00:29\n",
      "   -------------------------- ------------- 82.1/124.9 MB 1.5 MB/s eta 0:00:28\n",
      "   -------------------------- ------------- 82.3/124.9 MB 1.5 MB/s eta 0:00:28\n",
      "   -------------------------- ------------- 82.6/124.9 MB 1.5 MB/s eta 0:00:28\n",
      "   -------------------------- ------------- 83.1/124.9 MB 1.5 MB/s eta 0:00:28\n",
      "   -------------------------- ------------- 83.4/124.9 MB 1.5 MB/s eta 0:00:28\n",
      "   -------------------------- ------------- 83.9/124.9 MB 1.5 MB/s eta 0:00:27\n",
      "   --------------------------- ------------ 84.4/124.9 MB 1.5 MB/s eta 0:00:27\n",
      "   --------------------------- ------------ 84.9/124.9 MB 1.5 MB/s eta 0:00:27\n",
      "   --------------------------- ------------ 85.5/124.9 MB 1.5 MB/s eta 0:00:26\n",
      "   --------------------------- ------------ 85.7/124.9 MB 1.5 MB/s eta 0:00:26\n",
      "   --------------------------- ------------ 85.7/124.9 MB 1.5 MB/s eta 0:00:26\n",
      "   --------------------------- ------------ 85.7/124.9 MB 1.5 MB/s eta 0:00:26\n",
      "   --------------------------- ------------ 85.7/124.9 MB 1.5 MB/s eta 0:00:26\n",
      "   --------------------------- ------------ 86.0/124.9 MB 1.5 MB/s eta 0:00:26\n",
      "   --------------------------- ------------ 86.2/124.9 MB 1.5 MB/s eta 0:00:26\n",
      "   --------------------------- ------------ 86.5/124.9 MB 1.5 MB/s eta 0:00:26\n",
      "   --------------------------- ------------ 86.5/124.9 MB 1.5 MB/s eta 0:00:26\n",
      "   --------------------------- ------------ 87.0/124.9 MB 1.5 MB/s eta 0:00:26\n",
      "   --------------------------- ------------ 87.0/124.9 MB 1.5 MB/s eta 0:00:26\n",
      "   --------------------------- ------------ 87.3/124.9 MB 1.5 MB/s eta 0:00:26\n",
      "   --------------------------- ------------ 87.3/124.9 MB 1.5 MB/s eta 0:00:26\n",
      "   ---------------------------- ----------- 87.6/124.9 MB 1.5 MB/s eta 0:00:25\n",
      "   ---------------------------- ----------- 87.8/124.9 MB 1.5 MB/s eta 0:00:25\n",
      "   ---------------------------- ----------- 87.8/124.9 MB 1.5 MB/s eta 0:00:25\n",
      "   ---------------------------- ----------- 88.1/124.9 MB 1.5 MB/s eta 0:00:25\n",
      "   ---------------------------- ----------- 88.3/124.9 MB 1.5 MB/s eta 0:00:25\n",
      "   ---------------------------- ----------- 88.6/124.9 MB 1.5 MB/s eta 0:00:25\n",
      "   ---------------------------- ----------- 89.1/124.9 MB 1.5 MB/s eta 0:00:25\n",
      "   ---------------------------- ----------- 89.4/124.9 MB 1.5 MB/s eta 0:00:24\n",
      "   ---------------------------- ----------- 89.9/124.9 MB 1.5 MB/s eta 0:00:24\n",
      "   ---------------------------- ----------- 90.2/124.9 MB 1.5 MB/s eta 0:00:24\n",
      "   ---------------------------- ----------- 90.4/124.9 MB 1.5 MB/s eta 0:00:24\n",
      "   ----------------------------- ---------- 90.7/124.9 MB 1.5 MB/s eta 0:00:23\n",
      "   ----------------------------- ---------- 91.0/124.9 MB 1.5 MB/s eta 0:00:23\n",
      "   ----------------------------- ---------- 91.0/124.9 MB 1.5 MB/s eta 0:00:23\n",
      "   ----------------------------- ---------- 91.0/124.9 MB 1.5 MB/s eta 0:00:23\n",
      "   ----------------------------- ---------- 91.0/124.9 MB 1.5 MB/s eta 0:00:23\n",
      "   ----------------------------- ---------- 91.2/124.9 MB 1.4 MB/s eta 0:00:24\n",
      "   ----------------------------- ---------- 91.2/124.9 MB 1.4 MB/s eta 0:00:24\n",
      "   ----------------------------- ---------- 91.5/124.9 MB 1.4 MB/s eta 0:00:24\n",
      "   ----------------------------- ---------- 91.8/124.9 MB 1.4 MB/s eta 0:00:24\n",
      "   ----------------------------- ---------- 91.8/124.9 MB 1.4 MB/s eta 0:00:24\n",
      "   ----------------------------- ---------- 92.0/124.9 MB 1.4 MB/s eta 0:00:24\n",
      "   ----------------------------- ---------- 92.0/124.9 MB 1.4 MB/s eta 0:00:24\n",
      "   ----------------------------- ---------- 92.3/124.9 MB 1.4 MB/s eta 0:00:24\n",
      "   ----------------------------- ---------- 92.5/124.9 MB 1.4 MB/s eta 0:00:24\n",
      "   ----------------------------- ---------- 92.8/124.9 MB 1.3 MB/s eta 0:00:24\n",
      "   ----------------------------- ---------- 92.8/124.9 MB 1.3 MB/s eta 0:00:24\n",
      "   ----------------------------- ---------- 93.1/124.9 MB 1.3 MB/s eta 0:00:24\n",
      "   ----------------------------- ---------- 93.3/124.9 MB 1.3 MB/s eta 0:00:24\n",
      "   ----------------------------- ---------- 93.3/124.9 MB 1.3 MB/s eta 0:00:24\n",
      "   ----------------------------- ---------- 93.6/124.9 MB 1.3 MB/s eta 0:00:25\n",
      "   ------------------------------ --------- 93.8/124.9 MB 1.3 MB/s eta 0:00:25\n",
      "   ------------------------------ --------- 94.1/124.9 MB 1.3 MB/s eta 0:00:24\n",
      "   ------------------------------ --------- 94.6/124.9 MB 1.3 MB/s eta 0:00:24\n",
      "   ------------------------------ --------- 94.9/124.9 MB 1.3 MB/s eta 0:00:24\n",
      "   ------------------------------ --------- 95.2/124.9 MB 1.3 MB/s eta 0:00:24\n",
      "   ------------------------------ --------- 95.4/124.9 MB 1.3 MB/s eta 0:00:24\n",
      "   ------------------------------ --------- 95.7/124.9 MB 1.2 MB/s eta 0:00:24\n",
      "   ------------------------------ --------- 95.9/124.9 MB 1.2 MB/s eta 0:00:24\n",
      "   ------------------------------ --------- 96.2/124.9 MB 1.2 MB/s eta 0:00:24\n",
      "   ------------------------------ --------- 96.5/124.9 MB 1.2 MB/s eta 0:00:24\n",
      "   ------------------------------ --------- 96.5/124.9 MB 1.2 MB/s eta 0:00:24\n",
      "   ------------------------------ --------- 96.7/124.9 MB 1.2 MB/s eta 0:00:23\n",
      "   ------------------------------- -------- 97.0/124.9 MB 1.2 MB/s eta 0:00:23\n",
      "   ------------------------------- -------- 97.3/124.9 MB 1.2 MB/s eta 0:00:23\n",
      "   ------------------------------- -------- 97.8/124.9 MB 1.2 MB/s eta 0:00:23\n",
      "   ------------------------------- -------- 98.3/124.9 MB 1.2 MB/s eta 0:00:22\n",
      "   ------------------------------- -------- 98.6/124.9 MB 1.2 MB/s eta 0:00:22\n",
      "   ------------------------------- -------- 98.8/124.9 MB 1.2 MB/s eta 0:00:22\n",
      "   ------------------------------- -------- 99.1/124.9 MB 1.2 MB/s eta 0:00:21\n",
      "   ------------------------------- -------- 99.4/124.9 MB 1.3 MB/s eta 0:00:21\n",
      "   ------------------------------- -------- 99.9/124.9 MB 1.3 MB/s eta 0:00:20\n",
      "   -------------------------------- ------- 100.1/124.9 MB 1.3 MB/s eta 0:00:20\n",
      "   -------------------------------- ------- 100.7/124.9 MB 1.3 MB/s eta 0:00:19\n",
      "   -------------------------------- ------- 100.9/124.9 MB 1.3 MB/s eta 0:00:19\n",
      "   -------------------------------- ------- 101.2/124.9 MB 1.3 MB/s eta 0:00:19\n",
      "   -------------------------------- ------- 101.7/124.9 MB 1.3 MB/s eta 0:00:18\n",
      "   -------------------------------- ------- 102.0/124.9 MB 1.3 MB/s eta 0:00:18\n",
      "   -------------------------------- ------- 102.2/124.9 MB 1.3 MB/s eta 0:00:18\n",
      "   -------------------------------- ------- 102.5/124.9 MB 1.3 MB/s eta 0:00:18\n",
      "   -------------------------------- ------- 102.8/124.9 MB 1.3 MB/s eta 0:00:17\n",
      "   --------------------------------- ------ 103.3/124.9 MB 1.3 MB/s eta 0:00:17\n",
      "   --------------------------------- ------ 103.5/124.9 MB 1.3 MB/s eta 0:00:17\n",
      "   --------------------------------- ------ 103.8/124.9 MB 1.3 MB/s eta 0:00:16\n",
      "   --------------------------------- ------ 104.3/124.9 MB 1.3 MB/s eta 0:00:16\n",
      "   --------------------------------- ------ 104.9/124.9 MB 1.3 MB/s eta 0:00:15\n",
      "   --------------------------------- ------ 105.4/124.9 MB 1.3 MB/s eta 0:00:15\n",
      "   --------------------------------- ------ 105.9/124.9 MB 1.3 MB/s eta 0:00:15\n",
      "   ---------------------------------- ----- 106.4/124.9 MB 1.3 MB/s eta 0:00:14\n",
      "   ---------------------------------- ----- 106.7/124.9 MB 1.4 MB/s eta 0:00:14\n",
      "   ---------------------------------- ----- 107.0/124.9 MB 1.4 MB/s eta 0:00:14\n",
      "   ---------------------------------- ----- 107.5/124.9 MB 1.3 MB/s eta 0:00:13\n",
      "   ---------------------------------- ----- 107.7/124.9 MB 1.3 MB/s eta 0:00:13\n",
      "   ---------------------------------- ----- 108.3/124.9 MB 1.4 MB/s eta 0:00:13\n",
      "   ---------------------------------- ----- 108.8/124.9 MB 1.4 MB/s eta 0:00:12\n",
      "   ---------------------------------- ----- 109.1/124.9 MB 1.4 MB/s eta 0:00:12\n",
      "   ----------------------------------- ---- 109.8/124.9 MB 1.4 MB/s eta 0:00:11\n",
      "   ----------------------------------- ---- 110.1/124.9 MB 1.4 MB/s eta 0:00:11\n",
      "   ----------------------------------- ---- 110.6/124.9 MB 1.4 MB/s eta 0:00:11\n",
      "   ----------------------------------- ---- 111.1/124.9 MB 1.4 MB/s eta 0:00:10\n",
      "   ----------------------------------- ---- 111.7/124.9 MB 1.4 MB/s eta 0:00:10\n",
      "   ----------------------------------- ---- 112.2/124.9 MB 1.4 MB/s eta 0:00:09\n",
      "   ------------------------------------ --- 112.5/124.9 MB 1.4 MB/s eta 0:00:09\n",
      "   ------------------------------------ --- 113.2/124.9 MB 1.5 MB/s eta 0:00:09\n",
      "   ------------------------------------ --- 113.5/124.9 MB 1.5 MB/s eta 0:00:08\n",
      "   ------------------------------------ --- 114.0/124.9 MB 1.5 MB/s eta 0:00:08\n",
      "   ------------------------------------ --- 114.6/124.9 MB 1.5 MB/s eta 0:00:08\n",
      "   ------------------------------------ --- 115.1/124.9 MB 1.5 MB/s eta 0:00:07\n",
      "   ------------------------------------ --- 115.3/124.9 MB 1.5 MB/s eta 0:00:07\n",
      "   ------------------------------------- -- 115.6/124.9 MB 1.5 MB/s eta 0:00:07\n",
      "   ------------------------------------- -- 115.6/124.9 MB 1.5 MB/s eta 0:00:07\n",
      "   ------------------------------------- -- 115.9/124.9 MB 1.4 MB/s eta 0:00:07\n",
      "   ------------------------------------- -- 116.1/124.9 MB 1.4 MB/s eta 0:00:07\n",
      "   ------------------------------------- -- 116.1/124.9 MB 1.4 MB/s eta 0:00:07\n",
      "   ------------------------------------- -- 116.4/124.9 MB 1.4 MB/s eta 0:00:07\n",
      "   ------------------------------------- -- 116.7/124.9 MB 1.4 MB/s eta 0:00:07\n",
      "   ------------------------------------- -- 117.2/124.9 MB 1.4 MB/s eta 0:00:06\n",
      "   ------------------------------------- -- 117.4/124.9 MB 1.3 MB/s eta 0:00:06\n",
      "   ------------------------------------- -- 117.4/124.9 MB 1.3 MB/s eta 0:00:06\n",
      "   ------------------------------------- -- 117.4/124.9 MB 1.3 MB/s eta 0:00:06\n",
      "   ------------------------------------- -- 117.7/124.9 MB 1.3 MB/s eta 0:00:06\n",
      "   ------------------------------------- -- 118.0/124.9 MB 1.3 MB/s eta 0:00:06\n",
      "   ------------------------------------- -- 118.2/124.9 MB 1.3 MB/s eta 0:00:06\n",
      "   ------------------------------------- -- 118.5/124.9 MB 1.3 MB/s eta 0:00:05\n",
      "   ------------------------------------- -- 118.5/124.9 MB 1.3 MB/s eta 0:00:05\n",
      "   -------------------------------------- - 118.8/124.9 MB 1.3 MB/s eta 0:00:05\n",
      "   -------------------------------------- - 119.0/124.9 MB 1.3 MB/s eta 0:00:05\n",
      "   -------------------------------------- - 119.3/124.9 MB 1.3 MB/s eta 0:00:05\n",
      "   -------------------------------------- - 119.3/124.9 MB 1.3 MB/s eta 0:00:05\n",
      "   -------------------------------------- - 119.5/124.9 MB 1.3 MB/s eta 0:00:05\n",
      "   -------------------------------------- - 119.8/124.9 MB 1.3 MB/s eta 0:00:04\n",
      "   -------------------------------------- - 120.1/124.9 MB 1.3 MB/s eta 0:00:04\n",
      "   -------------------------------------- - 120.1/124.9 MB 1.3 MB/s eta 0:00:04\n",
      "   -------------------------------------- - 120.3/124.9 MB 1.3 MB/s eta 0:00:04\n",
      "   -------------------------------------- - 120.6/124.9 MB 1.3 MB/s eta 0:00:04\n",
      "   -------------------------------------- - 120.8/124.9 MB 1.3 MB/s eta 0:00:04\n",
      "   -------------------------------------- - 121.1/124.9 MB 1.3 MB/s eta 0:00:03\n",
      "   -------------------------------------- - 121.4/124.9 MB 1.3 MB/s eta 0:00:03\n",
      "   -------------------------------------- - 121.6/124.9 MB 1.3 MB/s eta 0:00:03\n",
      "   ---------------------------------------  121.9/124.9 MB 1.3 MB/s eta 0:00:03\n",
      "   ---------------------------------------  122.2/124.9 MB 1.3 MB/s eta 0:00:03\n",
      "   ---------------------------------------  122.4/124.9 MB 1.3 MB/s eta 0:00:02\n",
      "   ---------------------------------------  122.7/124.9 MB 1.3 MB/s eta 0:00:02\n",
      "   ---------------------------------------  122.9/124.9 MB 1.3 MB/s eta 0:00:02\n",
      "   ---------------------------------------  123.2/124.9 MB 1.3 MB/s eta 0:00:02\n",
      "   ---------------------------------------  123.5/124.9 MB 1.3 MB/s eta 0:00:02\n",
      "   ---------------------------------------  123.5/124.9 MB 1.3 MB/s eta 0:00:02\n",
      "   ---------------------------------------  123.7/124.9 MB 1.3 MB/s eta 0:00:01\n",
      "   ---------------------------------------  124.0/124.9 MB 1.3 MB/s eta 0:00:01\n",
      "   ---------------------------------------  124.3/124.9 MB 1.3 MB/s eta 0:00:01\n",
      "   ---------------------------------------  124.3/124.9 MB 1.3 MB/s eta 0:00:01\n",
      "   ---------------------------------------  124.5/124.9 MB 1.3 MB/s eta 0:00:01\n",
      "   ---------------------------------------  124.8/124.9 MB 1.3 MB/s eta 0:00:01\n",
      "   ---------------------------------------  124.8/124.9 MB 1.3 MB/s eta 0:00:01\n",
      "   ---------------------------------------  124.8/124.9 MB 1.3 MB/s eta 0:00:01\n",
      "   ---------------------------------------- 124.9/124.9 MB 1.3 MB/s eta 0:00:00\n",
      "Installing collected packages: xgboost\n",
      "Successfully installed xgboost-2.1.2\n"
     ]
    }
   ],
   "source": [
    "!pip install xgboost"
   ]
  },
  {
   "cell_type": "code",
   "execution_count": 26,
   "metadata": {},
   "outputs": [],
   "source": [
    "from xgboost import XGBClassifier"
   ]
  },
  {
   "cell_type": "code",
   "execution_count": 27,
   "metadata": {},
   "outputs": [],
   "source": [
    "# Instancia un XGBoost Classifier con 100 estimadores y que el random state sea la seed que hemos creado\n",
    "xgb_reg = XGBClassifier(\n",
    "    random_state=seed,   # Semilla para reproducibilidad\n",
    "    n_estimators=100     # Número de árboles a construir\n",
    ")\n",
    "\n",
    "\n",
    "\n",
    "# Cálcula el cross validation score del XGBoost Classifier con X e y, y que el cv sea igual a kfold\n",
    "scores_xgb_reg = cross_val_score(xgb_reg, X, y, cv=kfold, scoring='accuracy')\n",
    "\n",
    "# Recuerda que el cross validation score se graba en una nueva variable, dale un nombre adecuado y no la borres, la necesitarás al final del ejercicio"
   ]
  },
  {
   "cell_type": "code",
   "execution_count": 28,
   "metadata": {},
   "outputs": [
    {
     "name": "stdout",
     "output_type": "stream",
     "text": [
      "Promedio de accuracy: 0.7421736158578265\n"
     ]
    }
   ],
   "source": [
    "# la mean de la wea que acabamos de hacer\n",
    "print(\"Promedio de accuracy:\", scores_xgb_reg.mean())"
   ]
  },
  {
   "cell_type": "code",
   "execution_count": 44,
   "metadata": {},
   "outputs": [
    {
     "data": {
      "text/plain": [
       "0.7395591250854407"
      ]
     },
     "execution_count": 44,
     "metadata": {},
     "output_type": "execute_result"
    }
   ],
   "source": []
  },
  {
   "cell_type": "markdown",
   "metadata": {},
   "source": [
    "### 8. Resultados\n",
    "Crea un series con los resultados y sus algoritmos, ordenándolos de mayor a menor"
   ]
  },
  {
   "cell_type": "code",
   "execution_count": 29,
   "metadata": {},
   "outputs": [
    {
     "data": {
      "text/plain": [
       "Random Forest       0.770762\n",
       "GradientBoosting    0.768199\n",
       "Ada Boost           0.748530\n",
       "XGBoost             0.742174\n",
       "Bagging DT          0.736962\n",
       "dtype: float64"
      ]
     },
     "execution_count": 29,
     "metadata": {},
     "output_type": "execute_result"
    }
   ],
   "source": [
    "result = [scores_bag_clf.mean(), scores_rnd_clf.mean(), scores_ada_clf.mean(), scores_gbct.mean(), scores_xgb_reg.mean()]\n",
    "models = ['Bagging DT', \"Random Forest\", \"Ada Boost\", \"GradientBoosting\", \"XGBoost\"]\n",
    "\n",
    "resultados = pd.Series(result, models).sort_values(ascending=False)\n",
    "resultados"
   ]
  },
  {
   "cell_type": "code",
   "execution_count": null,
   "metadata": {},
   "outputs": [
    {
     "data": {
      "text/plain": [
       "Random Forest       0.773377\n",
       "Bagging DT          0.772044\n",
       "GradientBoosting    0.768199\n",
       "Ada Boost           0.760458\n",
       "XGBoost             0.739559\n",
       "dtype: float64"
      ]
     },
     "execution_count": 45,
     "metadata": {},
     "output_type": "execute_result"
    }
   ],
   "source": [
    "result = [scores_bag_clf.mean(), scores_rnd_clf.mean(), scores_ada_clf.mean(), scores_gbct.mean(), scores_xgb_reg.mean()]\n",
    "models = ['Bagging DT', \"Random Forest\", \"Ada Boost\", \"GradientBoosting\", \"XGBoost\"]\n",
    "\n",
    "resultados = pd.Series(result, models).sort_values(ascending=False)\n",
    "resultados"
   ]
  },
  {
   "cell_type": "code",
   "execution_count": null,
   "metadata": {},
   "outputs": [],
   "source": [
    "# Si quieres seguir diviertiendote puedes hacer lo siguiente:\n",
    "\n",
    "# Continue with:\n",
    "# split train test\n",
    "# .fit\n",
    "# evaluation with test"
   ]
  }
 ],
 "metadata": {
  "kernelspec": {
   "display_name": "data_analysis_env",
   "language": "python",
   "name": "python3"
  },
  "language_info": {
   "codemirror_mode": {
    "name": "ipython",
    "version": 3
   },
   "file_extension": ".py",
   "mimetype": "text/x-python",
   "name": "python",
   "nbconvert_exporter": "python",
   "pygments_lexer": "ipython3",
   "version": "3.10.15"
  }
 },
 "nbformat": 4,
 "nbformat_minor": 4
}
