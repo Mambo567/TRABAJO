{
 "cells": [
  {
   "cell_type": "markdown",
   "metadata": {},
   "source": [
    "![imagen](./img/ejercicios.png)"
   ]
  },
  {
   "cell_type": "markdown",
   "metadata": {},
   "source": [
    "# Ejercicios funciones\n",
    "## Ejercicio 1\n",
    "Escribe una función que convierta números del 1 al 7 en nombres de los dias de la semana. La función constará de un único argumento numérico y una salida de tipo string"
   ]
  },
  {
   "cell_type": "code",
   "execution_count": 12,
   "metadata": {},
   "outputs": [
    {
     "name": "stdout",
     "output_type": "stream",
     "text": [
      "Lunes\n"
     ]
    }
   ],
   "source": [
    "def dia(numero):\n",
    "    dia = None\n",
    "    if numero == 1:\n",
    "        dia = \"Domingo\"\n",
    "    elif numero == 2:\n",
    "        dia = \"Lunes\"\n",
    "    elif numero == 3:\n",
    "        dia = \"Martes\"   \n",
    "    elif numero == 4:\n",
    "        dia = \"Miércoles\"\n",
    "    elif numero == 5:\n",
    "        dia = \"Jueves\"\n",
    "    elif numero == 6:\n",
    "        dia = \"Viernes\"\n",
    "    elif numero == 7:\n",
    "        dia = \"Sábado\"\n",
    "    else:\n",
    "        dia = \"Valor incorrecto\"\n",
    "    return(dia)\n",
    "\n",
    "print(dia(2))"
   ]
  },
  {
   "cell_type": "markdown",
   "metadata": {},
   "source": [
    "## Ejercicio 2\n",
    "En el ejercicio 8 de flujos de control, creábamos una pirámide invertida de números desde el 5. Crea una función que replique el comportamiento de la pirámide, y utiliza un único parámetro de entrada de la función para determinar el número de filas de la pirámide."
   ]
  },
  {
   "cell_type": "code",
   "execution_count": 74,
   "metadata": {},
   "outputs": [
    {
     "name": "stdout",
     "output_type": "stream",
     "text": [
      "[10, 9, 8, 7, 6, 5, 4, 3, 2, 1]\n",
      "<class 'list'>\n",
      "10  \n",
      "10 9  \n",
      "10 9 8  \n",
      "10 9 8 7  \n",
      "10 9 8 7 6  \n",
      "10 9 8 7 6 5  \n",
      "10 9 8 7 6 5 4  \n",
      "10 9 8 7 6 5 4 3  \n",
      "10 9 8 7 6 5 4 3 2  \n",
      "10 9 8 7 6 5 4 3 2 1  \n"
     ]
    }
   ],
   "source": [
    "def piramide(altura):\n",
    "    contador = 0\n",
    "\n",
    "    altura_lista = list(range(altura,0,-1))\n",
    "    print(altura_lista)\n",
    "    print(type(altura_lista))\n",
    "\n",
    "    while contador < altura:\n",
    "        for numero in altura_lista:\n",
    "            if altura_lista.index(numero) <= contador:\n",
    "                print(numero, end = \" \")\n",
    "        print(\" \")\n",
    "        contador = contador + 1\n",
    "    return None\n",
    "\n",
    "piramide(10)\n"
   ]
  },
  {
   "cell_type": "markdown",
   "metadata": {},
   "source": [
    "## Ejercicio 3\n",
    "Escribe una función que compare dos números. La función tiene dos argumentos y hay tres salidas posibles: que sean iguales, que el primero sea  mayor que el segundo, o que el segundo sea mayor que el primero"
   ]
  },
  {
   "cell_type": "code",
   "execution_count": 38,
   "metadata": {},
   "outputs": [
    {
     "name": "stdout",
     "output_type": "stream",
     "text": [
      "El segundo número es mayor que el primer número\n"
     ]
    }
   ],
   "source": [
    "def comparacion(numero1,numero2):\n",
    "\n",
    "    resultado = None\n",
    "    if numero1 > numero2:\n",
    "        resultado = \"El primer número es mayor que el segundo número\"\n",
    "    elif numero1 < numero2:\n",
    "        resultado = \"El segundo número es mayor que el primer número\"\n",
    "    elif numero1 == numero2:\n",
    "        resultado = \"Ambos números son iguales\"\n",
    "    return resultado\n",
    "\n",
    "print(comparacion(1,2))"
   ]
  },
  {
   "attachments": {},
   "cell_type": "markdown",
   "metadata": {},
   "source": [
    "## Ejercicio 4\n",
    "Escribe una función que sea un contador de letras. En el primer argumento tienes que introducir un texto, y el segundo que sea una letra que contar. La función tiene que devolver un entero con el número de veces que aparece esa letra, tanto mayúscula, como minúscula"
   ]
  },
  {
   "cell_type": "code",
   "execution_count": 67,
   "metadata": {},
   "outputs": [
    {
     "data": {
      "text/plain": [
       "3"
      ]
     },
     "execution_count": 67,
     "metadata": {},
     "output_type": "execute_result"
    }
   ],
   "source": [
    "def contador_letras(letra,texto):\n",
    "\n",
    "    nveces = 0\n",
    "    for elemento in texto:\n",
    "        if letra.lower() == elemento.lower():\n",
    "            nveces = nveces + 1\n",
    "    return nveces\n",
    "\n",
    "contador_letras(\"A\",\"MatemATIcas\")\n"
   ]
  },
  {
   "cell_type": "markdown",
   "metadata": {},
   "source": [
    "## Ejercicio 5\n",
    "Escribe una función que tenga un único argumento, un string. La salida de la función tiene que ser un diccionario con el conteo de todas las letras de ese string, siendo la clave la letra y el valor el conteo."
   ]
  },
  {
   "cell_type": "code",
   "execution_count": 81,
   "metadata": {},
   "outputs": [
    {
     "data": {
      "text/plain": [
       "{'a': 1, 'b': 2, 'c': 3, 'd': 4, 'e': 5}"
      ]
     },
     "execution_count": 81,
     "metadata": {},
     "output_type": "execute_result"
    }
   ],
   "source": [
    "def diccionario(cadena):\n",
    "    lista_cadena = list(enumerate(cadena))\n",
    "    dic = {}\n",
    "\n",
    "    for conteo, letra in lista_cadena:\n",
    "        dic[letra] = conteo + 1\n",
    "\n",
    "    return dic\n",
    "\n",
    "diccionario(\"abcde\")"
   ]
  },
  {
   "cell_type": "markdown",
   "metadata": {},
   "source": [
    "## Ejercicio 6\n",
    "Escribir una función que añada o elimine elementos en una lista. La función necesita los siguientes argumentos:\n",
    "* lista: la lista donde se añadirán o eliminarán los elementos\n",
    "* comando: \"add\" o \"remove\"\n",
    "* elemento: Por defecto es None.\n",
    "\n",
    "Tendrá como salida la lista"
   ]
  },
  {
   "cell_type": "code",
   "execution_count": 91,
   "metadata": {},
   "outputs": [
    {
     "name": "stdout",
     "output_type": "stream",
     "text": [
      "[1, 2, 3, 4, 5, None]\n"
     ]
    }
   ],
   "source": [
    "def add_remove(lista,elemento=None,accion=\"add\"):\n",
    "\n",
    "\n",
    "    if accion == \"add\":\n",
    "        lista.append(elemento)\n",
    "    elif accion == \"remove\":\n",
    "        lista.remove(elemento)\n",
    "    else:\n",
    "        print('Operación no permitida, por favor seleccione o \"add\" o \"remove\"')\n",
    "    return lista\n",
    "\n",
    "print(add_remove([1,2,3,4,5],))\n"
   ]
  },
  {
   "cell_type": "markdown",
   "metadata": {},
   "source": [
    "## Ejercicio 7\n",
    "Crea una función que reciba un número arbitrario de palabras, y devuelva una frase completa, separando las palabras con espacios."
   ]
  },
  {
   "cell_type": "code",
   "execution_count": 109,
   "metadata": {},
   "outputs": [
    {
     "name": "stdout",
     "output_type": "stream",
     "text": [
      " Hola mundo, soy Luis\n"
     ]
    }
   ],
   "source": [
    "def frase(*args):\n",
    "    texto = \"\"\n",
    "    for palabra in args:\n",
    "        texto = texto + \" \" + palabra\n",
    "    return texto\n",
    "\n",
    "\n",
    "print(frase(\"Hola\",\"mundo,\",\"soy\",\"Luis\"))\n"
   ]
  },
  {
   "cell_type": "code",
   "execution_count": 114,
   "metadata": {},
   "outputs": [
    {
     "name": "stdout",
     "output_type": "stream",
     "text": [
      "Esta opción es mucho mejor\n"
     ]
    }
   ],
   "source": [
    "#Alternativa mas eficiente\n",
    "def frase(*args):\n",
    "    texto = \" \".join(args)\n",
    "    return texto\n",
    "\n",
    "print(frase(\"Esta\",\"opción\",\"es\",\"mucho\",\"mejor\"))"
   ]
  },
  {
   "cell_type": "markdown",
   "metadata": {},
   "source": [
    "## Ejercicio 8\n",
    "Escribe un programa que obtenga el enésimo número de la [serie de Fibonacci](https://es.wikipedia.org/wiki/Sucesi%C3%B3n_de_Fibonacci). Tienes que crear una función recursiva con un único argumento.\n",
    "\n",
    "```Python\n",
    "fibonacci(2) = 1\n",
    "fibonacci(4) = 3\n",
    "fibonacci(5) = 5\n",
    "fibonacci(8) = 21\n",
    "```"
   ]
  },
  {
   "attachments": {},
   "cell_type": "markdown",
   "metadata": {},
   "source": [
    "fibonacci(n) = fibonacci(n-1) + fibonacci(n-2)"
   ]
  },
  {
   "cell_type": "code",
   "execution_count": 148,
   "metadata": {},
   "outputs": [
    {
     "name": "stdout",
     "output_type": "stream",
     "text": [
      "1 3 5 21\n"
     ]
    }
   ],
   "source": [
    "def fibonacci(numero):\n",
    "    if numero < 0:\n",
    "        print(\"Pon un número positivo, pelotudo\")\n",
    "        valor = None\n",
    "    else:\n",
    "        secuencia = [0,1]\n",
    "        for indice, elemento in list(enumerate(range(numero+1))):\n",
    "            if indice > 1:\n",
    "                secuencia.append(secuencia[indice-1]+secuencia[indice-2])\n",
    "        valor = secuencia[numero] \n",
    "    return valor\n",
    "\n",
    "print(fibonacci(2),fibonacci(4),fibonacci(5),fibonacci(8))"
   ]
  },
  {
   "cell_type": "code",
   "execution_count": 147,
   "metadata": {},
   "outputs": [
    {
     "name": "stdout",
     "output_type": "stream",
     "text": [
      "1 3 5 21\n"
     ]
    }
   ],
   "source": [
    "def fibonacci(numero):\n",
    "    if numero < 0:\n",
    "        print(\"Pon un número positivo, pelotudo\")\n",
    "        valor = None\n",
    "    elif numero == 0:\n",
    "        valor = 0\n",
    "    elif numero == 1:\n",
    "        valor = 1\n",
    "    else:\n",
    "        secuencia = [0,1]\n",
    "        for indice, elemento in list(enumerate(range(numero+1))):\n",
    "            if indice > 1:\n",
    "                secuencia.append(secuencia[indice-1]+secuencia[indice-2])\n",
    "        valor = secuencia[numero] \n",
    "    return valor\n",
    "\n",
    "print(fibonacci(2),fibonacci(4),fibonacci(5),fibonacci(8))"
   ]
  },
  {
   "cell_type": "code",
   "execution_count": 141,
   "metadata": {},
   "outputs": [
    {
     "data": {
      "text/plain": [
       "[(0, 0), (1, 1), (2, 2), (3, 3)]"
      ]
     },
     "execution_count": 141,
     "metadata": {},
     "output_type": "execute_result"
    }
   ],
   "source": [
    "numero = 4\n",
    "list(enumerate(range(numero)))"
   ]
  },
  {
   "attachments": {},
   "cell_type": "markdown",
   "metadata": {},
   "source": [
    "## Ejercicio 9\n",
    "Define en una única celda las siguientes funciones:\n",
    "* Función que calcule el área de un cuadrado\n",
    "* Función que calcule el área de un triángulo\n",
    "* Función que calcule el área de un círculo\n",
    "\n",
    "En otra celda, calcular el area de:\n",
    "* Dos círculos de radio 10 + un triángulo de base 3 y altura 7\n",
    "* Un cuadrado de lado = 10 + 3 círculos (uno de radio = 4 y los otros dos de radio = 6) + 5 triángulos de base = 2 + altura = 4"
   ]
  },
  {
   "cell_type": "code",
   "execution_count": 162,
   "metadata": {},
   "outputs": [],
   "source": [
    "#MULTIPLES FUNCIONES DINÁMICAS (USO DE KWARGS)\n",
    "def area(valor1,valor2=0,**kwargs):\n",
    "    resultado = {}\n",
    "\n",
    "    if \"triangulo\" in kwargs:\n",
    "        if kwargs[\"triangulo\"] == True:\n",
    "            resultado[\"triangulo\"] = (valor1 * valor2)/2\n",
    "    if \"cuadrado\" in kwargs:\n",
    "        if kwargs[\"cuadrado\"] == True:\n",
    "            resultado[\"cuadrado\"] = valor1 * valor1\n",
    "    if \"circulo\" in kwargs:\n",
    "        if kwargs[\"circulo\"] == True:\n",
    "            from math import pi\n",
    "            resultado[\"circulo\"] = ((valor1)**2) * pi\n",
    "\n",
    "    return resultado\n",
    "\n"
   ]
  },
  {
   "cell_type": "code",
   "execution_count": 168,
   "metadata": {},
   "outputs": [
    {
     "name": "stdout",
     "output_type": "stream",
     "text": [
      "{'circulo': 314.1592653589793}\n"
     ]
    }
   ],
   "source": [
    "print((area(10,circulo = True)))"
   ]
  },
  {
   "cell_type": "code",
   "execution_count": 171,
   "metadata": {},
   "outputs": [
    {
     "data": {
      "text/plain": [
       "25.0"
      ]
     },
     "execution_count": 171,
     "metadata": {},
     "output_type": "execute_result"
    }
   ],
   "source": [
    "#Forma fácil\n",
    "\n",
    "def triangulo(valor1,valor2):\n",
    "    return (valor1 * valor2)/2\n",
    "\n",
    "def cuadrado(valor):\n",
    "    return valor * valor\n",
    "\n",
    "def circulo(valor):\n",
    "    from math import pi\n",
    "    return ((valor)**2) * pi\n",
    "\n",
    "\n"
   ]
  },
  {
   "cell_type": "code",
   "execution_count": 177,
   "metadata": {},
   "outputs": [
    {
     "name": "stdout",
     "output_type": "stream",
     "text": [
      "638.8185307179587\n",
      "396.46015351590177\n"
     ]
    }
   ],
   "source": [
    "#Cálculo de áreas\n",
    "print((circulo(10))*2 + triangulo(7,3))\n",
    "print(cuadrado(10) + circulo(4) + 2*(circulo(6)) + 5*(triangulo(4,2)))\n"
   ]
  },
  {
   "cell_type": "markdown",
   "metadata": {},
   "source": [
    "# Importar funciones"
   ]
  },
  {
   "cell_type": "code",
   "execution_count": null,
   "metadata": {},
   "outputs": [],
   "source": []
  }
 ],
 "metadata": {
  "kernelspec": {
   "display_name": "Python 3.7.4 64-bit",
   "language": "python",
   "name": "python3"
  },
  "language_info": {
   "codemirror_mode": {
    "name": "ipython",
    "version": 3
   },
   "file_extension": ".py",
   "mimetype": "text/x-python",
   "name": "python",
   "nbconvert_exporter": "python",
   "pygments_lexer": "ipython3",
   "version": "3.11.9"
  },
  "vscode": {
   "interpreter": {
    "hash": "90139cb9a825bf3d63f6f6704e828dbd1ff7edbd4d0c6e906a71235d6efc74af"
   }
  }
 },
 "nbformat": 4,
 "nbformat_minor": 4
}
