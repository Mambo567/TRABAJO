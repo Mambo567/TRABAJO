{
 "cells": [
  {
   "cell_type": "markdown",
   "id": "683b4b11",
   "metadata": {},
   "source": [
    "## Ejercicio 1\n",
    "Escribe una función que convierta números del 1 al 12 en los nombres de los meses del año. La función tendrá un único argumento numérico y devolverá el nombre del mes correspondiente como una cadena de texto."
   ]
  },
  {
   "cell_type": "code",
   "execution_count": 31,
   "id": "72356d9e",
   "metadata": {},
   "outputs": [
    {
     "data": {
      "text/plain": [
       "'Octubre'"
      ]
     },
     "execution_count": 31,
     "metadata": {},
     "output_type": "execute_result"
    }
   ],
   "source": [
    "def meses(mes):\n",
    "    calendario = {\"Enero\":1,\"Febrero\":2,\"Marzo\":3,\"Abril\":4,\"Mayo\":5,\"Junio\":6,\"Julio\":7,\"Agosto\":8,\"Septiembre\":9,\"Octubre\":10,\"Noviembre\":11,\"Diciembre\":12}\n",
    "    for palabra, numero in calendario.items():\n",
    "        if numero == mes:\n",
    "            return palabra\n",
    "            break\n",
    "    return \"Valor no encontrado\"\n",
    "\n",
    "meses(10)\n",
    "    \n"
   ]
  },
  {
   "cell_type": "markdown",
   "id": "8e8a100b",
   "metadata": {},
   "source": [
    "## Ejercicio 2\n",
    "Crea una función que reciba un número entero y genere una pirámide creciente de estrellas (`*`). El número de filas de la pirámide estará determinado por el parámetro de entrada. Cada fila tendrá un número creciente de estrellas."
   ]
  },
  {
   "cell_type": "code",
   "execution_count": 28,
   "id": "0070e54e",
   "metadata": {},
   "outputs": [
    {
     "name": "stdout",
     "output_type": "stream",
     "text": [
      "* \n",
      "* * \n",
      "* * * \n",
      "* * * * \n",
      "* * * * * \n",
      "* * * * * * \n",
      "* * * * * * * \n",
      "* * * * * * * * \n",
      "* * * * * * * * * \n",
      "* * * * * * * * * * \n",
      "* * * * * * * * * * * \n",
      "* * * * * * * * * * * * \n",
      "* * * * * * * * * * * * * \n",
      "* * * * * * * * * * * * * * \n",
      "* * * * * * * * * * * * * * * \n",
      "* * * * * * * * * * * * * * * * \n",
      "* * * * * * * * * * * * * * * * * \n",
      "* * * * * * * * * * * * * * * * * * \n",
      "* * * * * * * * * * * * * * * * * * * \n",
      "* * * * * * * * * * * * * * * * * * * * \n"
     ]
    }
   ],
   "source": [
    "def piramide(altura):\n",
    "    for escalon  in list(range(1,altura+1)):\n",
    "        for estrella in list(range(1,altura+1)):\n",
    "            if estrella <= escalon:\n",
    "                print(\"*\", end = \" \")\n",
    "        print()\n",
    "    return None\n",
    "\n",
    "piramide(20)\n",
    "\n",
    "      \n"
   ]
  },
  {
   "cell_type": "markdown",
   "id": "c15a0113",
   "metadata": {},
   "source": [
    "## Ejercicio 3\n",
    "Escribe una función que reciba una lista de números y devuelva una nueva lista con los números elevados al cuadrado. Asegúrate de que la función sea capaz de manejar listas vacías o listas que contengan elementos no numéricos y devuelva un mensaje de error en esos casos."
   ]
  },
  {
   "cell_type": "code",
   "execution_count": 99,
   "id": "fef643f9",
   "metadata": {},
   "outputs": [
    {
     "name": "stdout",
     "output_type": "stream",
     "text": [
      "[1, 4, 9, 16, 25]\n"
     ]
    }
   ],
   "source": [
    "def alcuadrado(lista):\n",
    "    nueva_lista = []\n",
    "    if type(lista) != list:\n",
    "            print(\"Dato erróneo, por favor introduce una lista con números\")\n",
    "            return None\n",
    "    elif len(lista) == 0:\n",
    "            print(\"Por favor ingresa una lista con números dentro\")\n",
    "            return None\n",
    "    \n",
    "    for numero in lista:\n",
    "        if type(numero) == int:\n",
    "            nueva_lista.append(numero**2)\n",
    "        else:\n",
    "            print(\"Hay un elemento en la lista que no es un número, por favor revisa\")\n",
    "            return None\n",
    "    return nueva_lista\n",
    "\n",
    "print(alcuadrado([1,2,3,4,5]))\n"
   ]
  },
  {
   "cell_type": "markdown",
   "id": "20ee6ab7",
   "metadata": {},
   "source": [
    "## Ejercicio 4\n",
    "Crea una función que acepte dos argumentos: una cadena de texto y un número. La función deberá repetir la cadena tantas veces como lo indique el número, y devolver la cadena repetida. Si el número es negativo, devuelve un mensaje indicando que la repetición no es válida."
   ]
  },
  {
   "cell_type": "code",
   "execution_count": 116,
   "id": "d4b7cd9a",
   "metadata": {},
   "outputs": [
    {
     "name": "stdout",
     "output_type": "stream",
     "text": [
      "holahola\n"
     ]
    }
   ],
   "source": [
    "def ccadenas(texto,numero):\n",
    "\n",
    "\n",
    "    if type(texto) != str:\n",
    "        return \"El primer elemento debe ser un texto\"\n",
    "        \n",
    "    if type(numero) == int:\n",
    "            if numero >= 0:\n",
    "                 return texto * numero\n",
    "            else:\n",
    "                 return \"El número no es válido\"\n",
    "    else:\n",
    "        return \"El número no es válido\"\n",
    "    \n",
    "    \n",
    "\n",
    "\n",
    "print(ccadenas(\"hola\",2))"
   ]
  },
  {
   "cell_type": "markdown",
   "id": "9bf287a0",
   "metadata": {},
   "source": [
    "## Ejercicio 5\n",
    "Escribe una función que acepte una lista de cadenas de texto y devuelva la cadena más larga. Si hay dos o más cadenas con la misma longitud máxima, devuelve la primera que aparezca en la lista."
   ]
  },
  {
   "cell_type": "code",
   "execution_count": 142,
   "id": "d079b4a6",
   "metadata": {},
   "outputs": [
    {
     "data": {
      "text/plain": [
       "'JAJAJA'"
      ]
     },
     "execution_count": 142,
     "metadata": {},
     "output_type": "execute_result"
    }
   ],
   "source": [
    "def medicion(lista):\n",
    "    lista_longitud = []\n",
    "    if type(lista) != list:\n",
    "        return \"Por favor ingrese una lista con cadenas de texto\"\n",
    "    \n",
    "    elif len(lista) == 0:\n",
    "        return \"La lista tiene que contener elementos de texto\"\n",
    "\n",
    "    else:\n",
    "        for elemento in lista:\n",
    "            if type(elemento) == str:\n",
    "                lista_longitud.append(len(elemento))\n",
    "            else: \n",
    "                return\"Todos los elementos de la lista deben ser textos\"\n",
    "\n",
    "    return lista[lista_longitud.index(max(lista_longitud))]\n",
    "\n",
    "medicion([\"1\",\"123\",\"JAJAJA\",\"seguro\",\"12\"])"
   ]
  },
  {
   "cell_type": "markdown",
   "id": "63b48ddb",
   "metadata": {},
   "source": [
    "## Ejercicio 6\n",
    "Crea una función que reciba una palabra y devuelva `True` si la palabra es un palíndromo (es decir, si se lee igual hacia adelante y hacia atrás), y `False` en caso contrario. Ignora mayúsculas y espacios."
   ]
  },
  {
   "cell_type": "code",
   "execution_count": 193,
   "id": "5e5a6fd7",
   "metadata": {},
   "outputs": [
    {
     "data": {
      "text/plain": [
       "True"
      ]
     },
     "execution_count": 193,
     "metadata": {},
     "output_type": "execute_result"
    }
   ],
   "source": [
    "def es_palindromo(texto):\n",
    "    if type(texto) == str:\n",
    "        return texto.lower() ==  texto[::-1].lower()\n",
    "    else:\n",
    "        return \"Ingresa un texto\"\n",
    "    \n",
    "es_palindromo(\"ala\")\n"
   ]
  },
  {
   "cell_type": "markdown",
   "id": "09d543ae",
   "metadata": {},
   "source": [
    "## Ejercicio 7\n",
    "Escribe una función que convierta grados Celsius a grados Fahrenheit. La función debe aceptar un valor numérico y devolver el resultado de la conversión."
   ]
  },
  {
   "cell_type": "code",
   "execution_count": 198,
   "id": "9d15a634",
   "metadata": {},
   "outputs": [
    {
     "data": {
      "text/plain": [
       "50.9"
      ]
     },
     "execution_count": 198,
     "metadata": {},
     "output_type": "execute_result"
    }
   ],
   "source": [
    "def conversor(valor):\n",
    "\n",
    "    if type(valor) == int or type(valor) == float:\n",
    "        return (valor * 9/5) + 32\n",
    "    else:\n",
    "        return \"Por favor introduce un número\"\n",
    "    \n",
    "conversor(10.5)\n",
    "\n"
   ]
  },
  {
   "cell_type": "markdown",
   "id": "9e6ec810",
   "metadata": {},
   "source": [
    "## Ejercicio 8\n",
    "Crea una función que reciba un número y devuelva una lista con todos los divisores de ese número. La lista deberá estar ordenada de menor a mayor."
   ]
  },
  {
   "cell_type": "code",
   "execution_count": 207,
   "id": "58aa31c6",
   "metadata": {},
   "outputs": [
    {
     "name": "stdout",
     "output_type": "stream",
     "text": [
      "[1, 3, 9, 27]\n"
     ]
    }
   ],
   "source": [
    "def lista_divisores(numero):\n",
    "    divisores = []\n",
    "    if type(numero) == int:\n",
    "        for elemento in list(range(1,numero+1)):\n",
    "            if numero % elemento == 0:\n",
    "                divisores.append(elemento)\n",
    "    else:\n",
    "        return \"Por favor ingrese un número entero\"\n",
    "    return divisores\n",
    "\n",
    "\n",
    "print(lista_divisores(27))"
   ]
  },
  {
   "cell_type": "markdown",
   "id": "1419e750",
   "metadata": {},
   "source": [
    "## Ejercicio 9\n",
    "Escribe una función que acepte un número entero positivo y devuelva `True` si el número es primo, y `False` en caso contrario."
   ]
  },
  {
   "cell_type": "code",
   "execution_count": 221,
   "id": "7222f225",
   "metadata": {},
   "outputs": [
    {
     "name": "stdout",
     "output_type": "stream",
     "text": [
      "True\n"
     ]
    }
   ],
   "source": [
    "def es_primo(numero):\n",
    "    divisores = []\n",
    "    if type(numero) == int:\n",
    "        if numero >= 0:\n",
    "            if numero == 1:\n",
    "                return True\n",
    "            else:\n",
    "                for elemento in list(range(1,numero+1)):\n",
    "                    if numero % elemento == 0:\n",
    "                        divisores.append(elemento)\n",
    "        else:\n",
    "            return \"Por favor ingreso un número entero positivo\"\n",
    "    else:\n",
    "        return \"Por favor ingrese un número entero\"\n",
    "    return len(divisores) == 2\n",
    "\n",
    "\n",
    "print(es_primo(5))"
   ]
  },
  {
   "cell_type": "markdown",
   "id": "1703f1db",
   "metadata": {},
   "source": [
    "## Ejercicio 10\n",
    "Crea una función que tome una lista de números enteros y devuelva `True` si todos los números de la lista son pares, y `False` si al menos uno de los números no lo es."
   ]
  },
  {
   "cell_type": "code",
   "execution_count": 229,
   "id": "20c9592e",
   "metadata": {},
   "outputs": [
    {
     "name": "stdout",
     "output_type": "stream",
     "text": [
      "True\n"
     ]
    }
   ],
   "source": [
    "def es_par(lista):\n",
    "\n",
    "    if type(lista) != list:\n",
    "        return \"Dato erróneo, por favor introduce una lista con números\"\n",
    "    elif len(lista) == 0:\n",
    "        return \"Por favor ingresa una lista con números dentro\"\n",
    "        \n",
    "    for numero in lista:\n",
    "        if type(numero) == int:\n",
    "            if numero >= 0:\n",
    "                if numero % 2 == 0:\n",
    "                    True\n",
    "                else:\n",
    "                    return False\n",
    "            else:\n",
    "                return \"Por favor ingresa solo números enteros positivos\"\n",
    "        else:\n",
    "            return \"Por favor ingresa solo números enteros positivos\"\n",
    "    return True\n",
    "\n",
    "print(es_par([4,2,90,6,8]))"
   ]
  },
  {
   "cell_type": "code",
   "execution_count": null,
   "id": "66ea6aa0",
   "metadata": {},
   "outputs": [],
   "source": []
  }
 ],
 "metadata": {
  "kernelspec": {
   "display_name": "fundamentals_env",
   "language": "python",
   "name": "python3"
  },
  "language_info": {
   "codemirror_mode": {
    "name": "ipython",
    "version": 3
   },
   "file_extension": ".py",
   "mimetype": "text/x-python",
   "name": "python",
   "nbconvert_exporter": "python",
   "pygments_lexer": "ipython3",
   "version": "3.11.9"
  }
 },
 "nbformat": 4,
 "nbformat_minor": 5
}
