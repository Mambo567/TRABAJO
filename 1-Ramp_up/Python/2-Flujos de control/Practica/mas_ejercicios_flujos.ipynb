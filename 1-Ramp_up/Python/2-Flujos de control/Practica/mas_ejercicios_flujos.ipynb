{
 "cells": [
  {
   "cell_type": "markdown",
   "metadata": {},
   "source": [
    "### Ejercicio 1\n",
    "Declara una variable numérica que representará un día cualquiera de la semana (1 a 7). Implementa la siguiente casuística:\n",
    "\n",
    "- Si el número es 1 o 7, imprime \"Fin de semana\"\n",
    "- Si está entre 2 y 5, imprime \"Día laboral\"\n",
    "- Si el número es 6, imprime \"Medio descanso\"\n",
    "- En cualquier otro caso, imprime \"Valor no válido\"\n"
   ]
  },
  {
   "cell_type": "code",
   "execution_count": null,
   "metadata": {},
   "outputs": [],
   "source": [
    "while True:\n",
    "    dia = input(\"Introduce un día: \")\n",
    "    if (dia.isdigit()):\n",
    "        if 1 <= int(dia) <= 7:\n",
    "            dia = int(dia)\n",
    "            break\n",
    "        else:\n",
    "            print(\"Valor no válido. El valor tiene que estar entre 1-7, por favor introduce un valor válido\")\n",
    "    else:\n",
    "        print(\"Solo puedes introducir números, por favor introduce un valor válido\")\n",
    "\n",
    "\n",
    "if (dia == 1 or dia == 7):\n",
    "    print(\"Fin de semana\")\n",
    "elif ( 2 <= dia <= 5):\n",
    "    print(\"Día laboral\")\n",
    "elif (dia == 6):\n",
    "    print(\"Medio descanso\")\n",
    "else:\n",
    "    print(\"Valor no válido. El valor tiene que estar entre 1-7, por favor introduce un valor válido\")"
   ]
  },
  {
   "cell_type": "markdown",
   "metadata": {},
   "source": [
    "\n",
    "### Ejercicio 2\n",
    "Vamos a crear un clasificador de vehículos. Declara las siguientes variables:\n",
    "\n",
    "> peso  \n",
    "> tipo\n",
    "\n",
    "Implementa la siguiente casuística:\n",
    "\n",
    "1. Si el tipo es \"Camión\" y el peso es superior a 5000 kg, el vehículo es \"Vehículo pesado\"\n",
    "2. Si el tipo es \"Coche\" y el peso está entre 1000 kg y 2000 kg, el vehículo es \"Vehículo ligero\"\n",
    "3. Si el tipo no es \"Moto\" y el peso es menor de 500 kg, el vehículo es \"Vehículo muy ligero\"\n",
    "4. En cualquier otro caso, clasifica el vehículo como \"Sin clasificación\"\n"
   ]
  },
  {
   "cell_type": "code",
   "execution_count": null,
   "metadata": {},
   "outputs": [],
   "source": [
    "tipo = input(\"Introduce tipo: \")\n",
    "peso = input(\"Introduce peso (En toneladas): \")\n",
    "peso = int(peso)\n",
    "\n",
    "if (tipo.lower() == \"camion\" or tipo.lower() == \"camión\") and (peso > 5000):\n",
    "    print(\"Vehículo pesado\")\n",
    "elif (tipo.lower() == \"coche\") and (1000 <= peso <= 2000):\n",
    "    print(\"Vehículo ligero\")\n",
    "elif (tipo.lower() != \"moto\") and (peso < 500):\n",
    "    print(\"Vehículo muy ligero\")\n",
    "else:\n",
    "    print(\"Sin clasificación\")"
   ]
  },
  {
   "cell_type": "markdown",
   "metadata": {},
   "source": [
    "\n",
    "### Ejercicio 3\n",
    "Vamos a crear un sistema que determine si un alumno tiene derecho a una beca. Declara las siguientes variables:\n",
    "\n",
    "> nota  \n",
    "> ingresos\n",
    "\n",
    "Implementa la siguiente lógica:\n",
    "\n",
    "1. Si la nota es mayor de 8, imprime \"Posible candidato\"\n",
    "2. Si es así, comprueba si los ingresos son menores de 20000, en cuyo caso imprime \"Beca aprobada\". Si los ingresos son superiores, imprime \"No cumple los requisitos económicos\"\n",
    "3. Si la nota no es mayor de 8, imprime \"No cumple los requisitos académicos\"\n"
   ]
  },
  {
   "cell_type": "code",
   "execution_count": null,
   "metadata": {},
   "outputs": [],
   "source": [
    "while True:\n",
    "    nota = input(\"Ingresa tu nota: \")\n",
    "    if nota.isdigit():\n",
    "        if 0 <= int(nota) <= 10:\n",
    "            nota = int(nota)\n",
    "            if nota >= 8:\n",
    "                print(\"Posible candidato\")       \n",
    "            break\n",
    "        else:\n",
    "            print(\"Introduce un valor válido (0-10...¿De verdad? No es tan dificil....)\")\n",
    "    else:\n",
    "        print(\"Introduce un número válido... ¬¬\")\n",
    "\n",
    "while True:\n",
    "    ingresos = input(\"Introduce tus ingresos: \")\n",
    "    if ingresos.isdigit():\n",
    "         ingresos = int(ingresos)\n",
    "         break\n",
    "    else:\n",
    "        print(\"Introduce un número válido... ¬¬\")\n",
    "\n",
    "if nota >= 8:\n",
    "    if ingresos < 20000:\n",
    "        print(\"Beca aprobada\")\n",
    "    else:\n",
    "        print(\"No cumple los requisitos económicos\")\n",
    "else: \n",
    "    print(\"No cumple los requisitos académicos\")\n"
   ]
  },
  {
   "cell_type": "code",
   "execution_count": null,
   "metadata": {},
   "outputs": [],
   "source": [
    "##NOTA: int no tiene en cuenta enteros negativos \n",
    "a = \"-12\"\n",
    "a.isdigit()"
   ]
  },
  {
   "cell_type": "markdown",
   "metadata": {},
   "source": [
    "\n",
    "### Ejercicio 4\n",
    "Escribe un programa que tenga dos variables: un string y una lista de strings. El programa debe recorrer la lista e imprimir por pantalla cada elemento de la lista concatenado con el string.\n"
   ]
  },
  {
   "cell_type": "code",
   "execution_count": null,
   "metadata": {},
   "outputs": [],
   "source": [
    "texto = \"prima\"\n",
    "lista = [\"1\",\"2\",\"3\",\"4\",\"5\"]\n",
    "\n",
    "for elemento in lista:\n",
    "    print(texto + elemento)"
   ]
  },
  {
   "cell_type": "markdown",
   "metadata": {},
   "source": [
    "\n",
    "### Ejercicio 6\n",
    "Dada la siguiente lista:\n",
    "\n",
    "> list2 = [25, 35, 45, 55, 65, 75, 85, 95, 105, 115]\n",
    "\n",
    "Implementa un programa que los recorra e imprima por pantalla solo los divisibles por 15. Si nos encontramos con uno mayor que 100, detén el bucle.\n"
   ]
  },
  {
   "cell_type": "code",
   "execution_count": null,
   "metadata": {},
   "outputs": [],
   "source": [
    "list2 = [25, 35, 45, 55, 65, 75, 85, 95, 105, 115]\n",
    "\n",
    "for elemento in list2:\n",
    "    if elemento > 100:\n",
    "        break\n",
    "    if (elemento % 15 == 0):\n",
    "        print(elemento)"
   ]
  },
  {
   "cell_type": "markdown",
   "metadata": {},
   "source": [
    "\n",
    "### Ejercicio 7\n",
    "Escribe un programa que imprima por pantalla todos los números que sean múltiplos de 3 y de 4, dentro del rango de valores (50, 150).\n"
   ]
  },
  {
   "cell_type": "code",
   "execution_count": null,
   "metadata": {},
   "outputs": [],
   "source": [
    "list3 = list(range(50,151))\n",
    "\n",
    "for elemento in list3:\n",
    "    if (elemento % 3 == 0) and (elemento % 4 == 0):\n",
    "        print(elemento)"
   ]
  },
  {
   "cell_type": "markdown",
   "metadata": {},
   "source": [
    "\n",
    "### Ejercicio 8\n",
    "Implementa un programa que imprima por pantalla el siguiente patrón:\n",
    "\n",
    "```\n",
    "1 \n",
    "1 2 \n",
    "1 2 3 \n",
    "1 2 3 4 \n",
    "1 2 3 4 5\n",
    "```\n",
    "\n",
    "NOTA: No debe haber espacios al final de cada línea.\n"
   ]
  },
  {
   "cell_type": "code",
   "execution_count": null,
   "metadata": {},
   "outputs": [],
   "source": [
    "for limite in list(range(1,6)):\n",
    "    for numero in range(1, limite + 1):\n",
    "        print(numero, end = \" \")\n",
    "    print(\"\")\n",
    "\n"
   ]
  },
  {
   "cell_type": "code",
   "execution_count": null,
   "metadata": {},
   "outputs": [],
   "source": [
    "##Otra forma\n",
    "\n",
    "columnas = 5\n",
    "contador = 0\n",
    "lista = list(range(1,6))\n",
    "\n",
    "while contador < columnas:\n",
    "    for numero in lista:\n",
    "        if lista.index(numero) <= contador:\n",
    "            print(numero, end = \" \")\n",
    "    print(\"\")\n",
    "    contador = contador + 1"
   ]
  },
  {
   "cell_type": "markdown",
   "metadata": {},
   "source": [
    "\n",
    "### Ejercicio 9\n",
    "En este ejercicio vamos a crear otro juego sencillo. Se trata de intentar adivinar una palabra secreta entre dos intentos. Pasos a seguir:\n",
    "\n",
    "1. Declara la palabra secreta en una variable\n",
    "2. Declara una variable para el número de intentos, e implementa un bucle `while` que verifique que aún hay intentos restantes.\n",
    "3. Dentro del bucle, solicita al usuario que introduzca una palabra y compárala con la palabra secreta.\n",
    "4. Si el usuario acierta, imprime \"Has ganado\" y sal del bucle.\n",
    "5. Si se acaban los intentos sin acertar, imprime \"Lo siento, has perdido\".\n"
   ]
  },
  {
   "cell_type": "code",
   "execution_count": null,
   "metadata": {},
   "outputs": [],
   "source": [
    "secreta = \"windows>mac\"\n",
    "print(secreta)\n",
    "intentos = 2\n",
    "\n",
    "\n",
    "while intentos > 0:\n",
    "    palabra = input(f\"Introduce contraseña (Tienes {intentos} intento(s)): \")\n",
    "    if palabra == secreta:\n",
    "        print(\"Acceso permitido\")\n",
    "        break\n",
    "    elif intentos == 1:\n",
    "        intentos = intentos - 1\n",
    "        print(\"Fallos en todos los intentos, usuario bloqueado\")\n",
    "    else:\n",
    "        intentos = intentos -1\n",
    "        print(\"Contraseña incorrecta, inténtelo de nuevo\")\n",
    "\n",
    "\n",
    "\n"
   ]
  },
  {
   "cell_type": "markdown",
   "metadata": {},
   "source": [
    "\n",
    "### Ejercicio 10\n",
    "Crea un programa que divida dos números introducidos por el usuario. Utiliza `try` y `except` para manejar posibles errores de división por cero. Si se produce un error, imprime \"No se puede dividir por cero\". Si no, imprime el resultado."
   ]
  },
  {
   "cell_type": "code",
   "execution_count": null,
   "metadata": {},
   "outputs": [],
   "source": [
    "\n",
    "intentos = 0\n",
    "\n",
    "while True:\n",
    "    dividendo = input(\"Introduce el dividendo: \")\n",
    "    divisor = input(\"Introduce el divisor: \")\n",
    "\n",
    "    try:\n",
    "        operacion = int(dividendo) / int(divisor)\n",
    "        print(operacion)\n",
    "        break\n",
    "\n",
    "    except:\n",
    "        intentos = intentos + 1\n",
    "        if intentos > 4:\n",
    "            print(\"No se permiten mas intentos\")\n",
    "            break\n",
    "        print(\"No se puede dividir por cero\")\n",
    "        print(f\"{intentos} intento(s) fallido(s)\")\n"
   ]
  },
  {
   "cell_type": "code",
   "execution_count": null,
   "metadata": {},
   "outputs": [],
   "source": []
  }
 ],
 "metadata": {
  "kernelspec": {
   "display_name": "fundamentals_env",
   "language": "python",
   "name": "python3"
  },
  "language_info": {
   "codemirror_mode": {
    "name": "ipython",
    "version": 3
   },
   "file_extension": ".py",
   "mimetype": "text/x-python",
   "name": "python",
   "nbconvert_exporter": "python",
   "pygments_lexer": "ipython3",
   "version": "3.11.9"
  }
 },
 "nbformat": 4,
 "nbformat_minor": 2
}
