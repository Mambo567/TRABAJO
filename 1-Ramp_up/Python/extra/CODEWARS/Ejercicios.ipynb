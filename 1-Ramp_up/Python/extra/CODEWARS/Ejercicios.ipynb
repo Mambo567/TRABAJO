{
 "cells": [
  {
   "cell_type": "markdown",
   "metadata": {},
   "source": [
    "In this simple exercise, you will build a program that takes a value, integer , and returns a list of its multiples up to another value, limit . If limit is a multiple of integer, it should be included as well. There will only ever be positive integers passed into the function, not consisting of 0. The limit will always be higher than the base.\n",
    "\n",
    "For example, if the parameters passed are (2, 6), the function should return [2, 4, 6] as 2, 4, and 6 are the multiples of 2 up to 6."
   ]
  },
  {
   "cell_type": "code",
   "execution_count": null,
   "metadata": {},
   "outputs": [],
   "source": [
    "\n",
    "\n",
    "def multiples(value,limit):\n",
    "    return list(range(value,limit+1))[::value]\n",
    "\n",
    "value = 4\n",
    "limit = 28\n",
    "multiples(value,limit)\n",
    "\n",
    "\n"
   ]
  },
  {
   "cell_type": "markdown",
   "metadata": {},
   "source": [
    "Your task is to find the first element of an array that is not consecutive.\n",
    "\n",
    "By not consecutive we mean not exactly 1 larger than the previous element of the array.\n",
    "\n",
    "E.g. If we have an array [1,2,3,4,6,7,8] then 1 then 2 then 3 then 4 are all consecutive but 6 is not, so that's the first non-consecutive number.\n",
    "\n",
    "If the whole array is consecutive then return null2.\n",
    "\n",
    "The array will always have at least 2 elements1 and all elements will be numbers. The numbers will also all be unique and in ascending order. The numbers could be positive or negative and the first non-consecutive could be either too!\n",
    "\n",
    "If you like this Kata, maybe try this one next: https://www.codewars.com/kata/represent-array-of-numbers-as-ranges\n",
    "\n",
    "1 Can you write a solution that will return null2 for both [] and [ x ] though? (This is an empty array and one with a single number and is not tested for, but you can write your own example test. )\n",
    "\n",
    "2\n",
    "Swift, Ruby and Crystal: nil\n",
    "Haskell: Nothing\n",
    "Python, Rust, Scala: None\n",
    "Julia: nothing\n",
    "Nim: none(int) (See options)"
   ]
  },
  {
   "cell_type": "code",
   "execution_count": null,
   "metadata": {},
   "outputs": [],
   "source": [
    "def consecutive(array):\n",
    "\n",
    "    for numero in array:\n",
    "        if array.index(numero) == 0:\n",
    "            True\n",
    "        else:\n",
    "            if numero - 1 != array[(array.index(numero) -1)]:\n",
    "                return numero\n",
    "    return None\n",
    "    \n",
    "array = [1,2,3,4,6,7,8]\n",
    "print(consecutive(array))"
   ]
  },
  {
   "cell_type": "markdown",
   "metadata": {},
   "source": [
    "Task\n",
    "Sum all the numbers of a given array ( cq. list ), except the highest and the lowest element ( by value, not by index! ).\n",
    "\n",
    "The highest or lowest element respectively is a single element at each edge, even if there are more than one with the same value.\n",
    "\n",
    "Mind the input validation.\n",
    "\n",
    "Example\n",
    "{ 6, 2, 1, 8, 10 } => 16\n",
    "{ 1, 1, 11, 2, 3 } => 6\n",
    "Input validation\n",
    "If an empty value ( null, None, Nothing, nil etc. ) is given instead of an array, or the given array is an empty list or a list with only 1 element, return 0."
   ]
  },
  {
   "cell_type": "code",
   "execution_count": null,
   "metadata": {},
   "outputs": [],
   "source": [
    "def sum_no_limits(array):\n",
    "    return sum(array) - min(array) - max(array)\n",
    "\n",
    "\n",
    "array = [1, 1, 11, 2, 3]\n",
    "print(sum_no_limits(array))"
   ]
  },
  {
   "cell_type": "markdown",
   "metadata": {},
   "source": [
    "Trolls are attacking your comment section!\n",
    "\n",
    "A common way to deal with this situation is to remove all of the vowels from the trolls' comments, neutralizing the threat.\n",
    "\n",
    "Your task is to write a function that takes a string and return a new string with all vowels removed.\n",
    "\n",
    "For example, the string \"This website is for losers LOL!\" would become \"Ths wbst s fr lsrs LL!\".\n",
    "\n",
    "Note: for this kata y isn't considered a vowel."
   ]
  },
  {
   "cell_type": "code",
   "execution_count": null,
   "metadata": {},
   "outputs": [],
   "source": [
    "def disemvowel(text):\n",
    "    for letter in text:\n",
    "        if letter.lower() in [\"a\",\"e\",\"i\",\"o\",\"u\"]:\n",
    "            text = text.replace(letter,\"\")\n",
    "    \n",
    "    return text\n",
    "\n",
    "disemvowel(\"This website is for losers LOL!\")"
   ]
  },
  {
   "cell_type": "markdown",
   "metadata": {},
   "source": [
    "A square of squares\n",
    "You like building blocks. You especially like building blocks that are squares. And what you even like more, is to arrange them into a square of square building blocks!\n",
    "\n",
    "However, sometimes, you can't arrange them into a square. Instead, you end up with an ordinary rectangle! Those blasted things! If you just had a way to know, whether you're currently working in vain… Wait! That's it! You just have to check if your number of building blocks is a perfect square.\n",
    "\n",
    "Task\n",
    "Given an integral number, determine if it's a square number:\n",
    "\n",
    "In mathematics, a square number or perfect square is an integer that is the square of an integer; in other words, it is the product of some integer with itself.\n",
    "\n",
    "The tests will always use some integral number, so don't worry about that in dynamic typed languages.\n",
    "\n",
    "Examples\n",
    "-1  =>  false\n",
    " 0  =>  true\n",
    " 3  =>  false\n",
    " 4  =>  true\n",
    "25  =>  true\n",
    "26  =>  false"
   ]
  },
  {
   "cell_type": "code",
   "execution_count": 81,
   "metadata": {},
   "outputs": [],
   "source": [
    "# Opción sencilla\n",
    "from math import sqrt\n",
    "def is_square(n): \n",
    "    if sqrt(n) % 1 == 0:\n",
    "        return True\n",
    "\n",
    "    return False # fix me"
   ]
  },
  {
   "cell_type": "code",
   "execution_count": null,
   "metadata": {},
   "outputs": [],
   "source": [
    "is_square(4)"
   ]
  },
  {
   "cell_type": "code",
   "execution_count": 44,
   "metadata": {},
   "outputs": [],
   "source": [
    "# Alternativa 1\n",
    "def is_square(n):    \n",
    "    for numero in list(range(0,n+1)):\n",
    "        if numero * numero == n:\n",
    "            return True\n",
    "    \n",
    "    return False # fix me"
   ]
  },
  {
   "cell_type": "code",
   "execution_count": null,
   "metadata": {},
   "outputs": [],
   "source": [
    "is_square(81)"
   ]
  },
  {
   "cell_type": "code",
   "execution_count": 56,
   "metadata": {},
   "outputs": [],
   "source": [
    "# Alternativa 2\n",
    "def is_square(n):    \n",
    "    square = 0\n",
    "    while square <= n:\n",
    "        if square * square == n:\n",
    "            return True\n",
    "        else:\n",
    "            square += 1\n",
    "    \n",
    "    return False # fix me"
   ]
  },
  {
   "cell_type": "code",
   "execution_count": null,
   "metadata": {},
   "outputs": [],
   "source": [
    "n = 9\n",
    "is_square(n)"
   ]
  },
  {
   "cell_type": "code",
   "execution_count": 77,
   "metadata": {},
   "outputs": [],
   "source": [
    "# Alternativa mas eficiente (3)\n",
    "def is_square(n):    \n",
    "    if n == 0:\n",
    "        return True\n",
    "    else:\n",
    "        parameter = 1\n",
    "        value = 1\n",
    "        while value <= n:\n",
    "            if value == n:\n",
    "                return True\n",
    "            else:\n",
    "                parameter += 2\n",
    "                value += parameter\n",
    "    \n",
    "    return False # fix me\n"
   ]
  },
  {
   "cell_type": "markdown",
   "metadata": {},
   "source": [
    "Write a function that takes an integer as input, and returns the number of bits that are equal to one in the binary representation of that number. You can guarantee that input is non-negative.\n",
    "\n",
    "Example: The binary representation of 1234 is 10011010010, so the function should return 5 in this case"
   ]
  },
  {
   "cell_type": "code",
   "execution_count": 21,
   "metadata": {},
   "outputs": [
    {
     "data": {
      "text/plain": [
       "5"
      ]
     },
     "execution_count": 21,
     "metadata": {},
     "output_type": "execute_result"
    }
   ],
   "source": [
    "# Primera opción\n",
    "def count_bits(n):\n",
    "    counter = 0\n",
    "    for letter in (bin(1234)[2:]):\n",
    "        if letter == \"1\":\n",
    "            counter += 1\n",
    "    return counter\n",
    "\n",
    "count_bits(1234)"
   ]
  },
  {
   "cell_type": "code",
   "execution_count": 22,
   "metadata": {},
   "outputs": [
    {
     "data": {
      "text/plain": [
       "5"
      ]
     },
     "execution_count": 22,
     "metadata": {},
     "output_type": "execute_result"
    }
   ],
   "source": [
    "# Alternativa \n",
    "def count_bits(n):\n",
    "    return (bin(n)[2:]).count(\"1\")\n",
    "\n",
    "count_bits(1234)"
   ]
  },
  {
   "cell_type": "code",
   "execution_count": null,
   "metadata": {},
   "outputs": [],
   "source": [
    "lista = [3,4,7,6,5]\n",
    "lista_index = []\n",
    "\n",
    "for numero in list(range(min(lista),max(lista)+1)):\n",
    "    lista_index.append(lista.index(numero))\n",
    "\n",
    "lista_index"
   ]
  }
 ],
 "metadata": {
  "kernelspec": {
   "display_name": "fundamentals_env",
   "language": "python",
   "name": "python3"
  },
  "language_info": {
   "codemirror_mode": {
    "name": "ipython",
    "version": 3
   },
   "file_extension": ".py",
   "mimetype": "text/x-python",
   "name": "python",
   "nbconvert_exporter": "python",
   "pygments_lexer": "ipython3",
   "version": "3.11.9"
  }
 },
 "nbformat": 4,
 "nbformat_minor": 2
}
