{
 "cells": [
  {
   "cell_type": "markdown",
   "metadata": {},
   "source": [
    "### **Ejercicio 1 (1 punto)**  \n",
    "En este ejercicio trabajarás con variables de diferentes tipos. Sigue las instrucciones detalladas a continuación:\n",
    "\n",
    "1. Crea una variable llamada `capacidad_restaurante` de tipo Integer que represente el número máximo de personas que caben en el restaurante.\n",
    "2. Crea una variable llamada `nombre_chef` de tipo String que contenga el nombre del chef principal del restaurante.\n",
    "3. Crea una variable llamada `rating_restaurante` de tipo Float que represente la puntuación promedio del restaurante en una escala de 1 a 5.\n",
    "4. Crea una variable llamada `es_gastronomia_internacional` de tipo Boolean que sea True si el restaurante ofrece comida internacional, y False en caso contrario.\n",
    "5. Crea una variable llamada `platos_especiales` de tipo List que contenga tres platos principales que sean los más populares del menú.\n",
    "6. Crea una variable llamada `tupla_personal` que contenga dos tuplas. Cada tupla debe incluir el nombre de un empleado, su edad y su puesto de trabajo.\n",
    "7. Crea una variable llamada `dict_proveedores` con tres claves: `nombre`, `producto`, y `telefono`. Cada clave debe tener una lista de tres valores: nombres de los proveedores, productos que suministran y sus números de teléfono.\n",
    "8. Añade todos estos elementos a una lista llamada `detalles_restaurante` en el orden de aparición **usando una función de lista**.\n",
    "9. Responde en un comentario: ¿Cómo podrías verificar si un proveedor específico ya está en el diccionario antes de agregar uno nuevo?\n"
   ]
  },
  {
   "cell_type": "code",
   "execution_count": 49,
   "metadata": {},
   "outputs": [
    {
     "name": "stdout",
     "output_type": "stream",
     "text": [
      "[10, 'Gordon Ramsey', 4.5, True, ['Pollo al Curry', 'Baleadas', 'Tacos Hondureños'], (('Gordon Ramsay', 50, 'Chef'), ('Luis Vasquez', 28, 'Data Scientist')), {'nombre': ['Carnes SA', 'Tortillas SA', 'Frijoles SA'], 'producto': ['Carnes', 'Tortillas', 'Frijoles'], 'teléfono': [1111, 2222, 3333]}]\n",
      "['Carnes SA', 'Tortillas SA', 'Frijoles SA']\n"
     ]
    },
    {
     "data": {
      "text/plain": [
       "True"
      ]
     },
     "execution_count": 49,
     "metadata": {},
     "output_type": "execute_result"
    }
   ],
   "source": [
    "capacidad_restaurante = 10\n",
    "nombre_chef = \"Gordon Ramsey\"\n",
    "rating_restaurante = 4.5\n",
    "es_gastronomia_internacional = True\n",
    "platos_especiales = [\"Pollo al Curry\",\"Baleadas\",\"Tacos Hondureños\"]\n",
    "tupla_personal = ((\"Gordon Ramsay\",50,\"Chef\"),(\"Luis Vasquez\",28,\"Data Scientist\"))\n",
    "dict_proveedores = {\"nombre\": [\"Carnes SA\", \"Tortillas SA\",\"Frijoles SA\"], \"producto\": [\"Carnes\",\"Tortillas\",\"Frijoles\"], \"teléfono\":[1111,2222,3333]}\n",
    "detalles_restaurante = []\n",
    "detalles_restaurante.append(capacidad_restaurante)\n",
    "detalles_restaurante.append(nombre_chef)\n",
    "detalles_restaurante.append(rating_restaurante)\n",
    "detalles_restaurante.append(es_gastronomia_internacional)\n",
    "detalles_restaurante.append(platos_especiales)\n",
    "detalles_restaurante.append(tupla_personal)\n",
    "detalles_restaurante.append(dict_proveedores)\n",
    "\n",
    "print(detalles_restaurante)\n",
    "\n",
    "# Haciendo uso de \"in\" y de la ubicación de la lista de proveedores en el diccionario\n",
    "print(detalles_restaurante[6][\"nombre\"])\n",
    "\"Carnes SA\" in detalles_restaurante[6][\"nombre\"]\n"
   ]
  },
  {
   "cell_type": "markdown",
   "metadata": {},
   "source": [
    "\n",
    "\n",
    "### **Ejercicio 2 (2 puntos)**  \n",
    "\n",
    "Utiliza la lista `detalles_restaurante` creada en el ejercicio anterior. Lee cuidadosamente cada parte del ejercicio.\n",
    "\n",
    "1. Muestra por pantalla, sin usar funciones ni bucles:\n",
    "   - El nombre del chef y la capacidad del restaurante.\n",
    "   - El tercer plato del menú de platos especiales.\n",
    "   - Si el restaurante ofrece comida internacional, muestra el nombre de uno de los proveedores. Si no, muestra el producto que ese proveedor suministra.\n",
    "   - El número de teléfono del primer proveedor.\n",
    "\n",
    "2. Muestra por pantalla, usando un bucle `for`:\n",
    "   - Todos los elementos de `detalles_restaurante`.\n",
    "   - Los elementos de `detalles_restaurante` en orden inverso.\n",
    "   - Todos los platos especiales que tengan más de 10 caracteres en su nombre.\n",
    "   - El primer nombre del chef si su nombre empieza con vocal, y el último si empieza con consonante.\n",
    "\n",
    "3. Con un bucle `while`, elimina los platos especiales de la lista uno por uno hasta que queden solo dos. Guarda los platos eliminados en una lista llamada `platos_eliminados` y muestra el contenido de esta lista.\n",
    "\n"
   ]
  },
  {
   "cell_type": "code",
   "execution_count": 27,
   "metadata": {},
   "outputs": [
    {
     "name": "stdout",
     "output_type": "stream",
     "text": [
      "[10, 'Gordon Ramsey', 4.5, True, ['Pollo al Curry', 'Baleadas', 'Tacos Hondureños'], (('Gordon Ramsay', 50, 'Chef'), ('Luis Vasquez', 28, 'Data Scientist')), {'nombre': ['Carnes SA', 'Tortillas SA', 'Frijoles SA'], 'producto': ['Carnes', 'Tortillas', 'Frijoles'], 'teléfono': [1111, 2222, 3333]}]\n",
      "Gordon Ramsey 10\n",
      "Tacos Hondureños\n",
      "Carnes SA\n",
      "1111\n"
     ]
    }
   ],
   "source": [
    "print(detalles_restaurante)\n",
    "\n",
    "# 1 \n",
    "print(detalles_restaurante[1], detalles_restaurante[0])\n",
    "print(detalles_restaurante[4][2])\n",
    "if  detalles_restaurante[3]:\n",
    "    print(detalles_restaurante[6][\"nombre\"][0])\n",
    "else:\n",
    "    print(detalles_restaurante[6][\"producto\"][0])\n",
    "\n",
    "print(detalles_restaurante[6][\"teléfono\"][0])\n"
   ]
  },
  {
   "cell_type": "code",
   "execution_count": 43,
   "metadata": {},
   "outputs": [
    {
     "name": "stdout",
     "output_type": "stream",
     "text": [
      "10\n",
      "Gordon Ramsey\n",
      "4.5\n",
      "True\n",
      "['Pollo al Curry', 'Baleadas']\n",
      "(('Gordon Ramsay', 50, 'Chef'), ('Luis Vasquez', 28, 'Data Scientist'))\n",
      "{'nombre': ['Carnes SA', 'Tortillas SA', 'Frijoles SA'], 'producto': ['Carnes', 'Tortillas', 'Frijoles'], 'teléfono': [1111, 2222, 3333]}\n",
      "\n",
      "{'nombre': ['Carnes SA', 'Tortillas SA', 'Frijoles SA'], 'producto': ['Carnes', 'Tortillas', 'Frijoles'], 'teléfono': [1111, 2222, 3333]}\n",
      "(('Gordon Ramsay', 50, 'Chef'), ('Luis Vasquez', 28, 'Data Scientist'))\n",
      "['Pollo al Curry', 'Baleadas']\n",
      "True\n",
      "4.5\n",
      "Gordon Ramsey\n",
      "10\n",
      "Pollo al Curry\n",
      "Ramsey\n"
     ]
    }
   ],
   "source": [
    "# 2 \n",
    "for elemento in detalles_restaurante:\n",
    "    print(elemento)\n",
    "\n",
    "print()\n",
    "\n",
    "for elemento in detalles_restaurante[::-1]:\n",
    "    print(elemento)\n",
    "\n",
    "for elemento in detalles_restaurante[4]:\n",
    "    if len(elemento) > 10:\n",
    "        print(elemento)\n",
    "if detalles_restaurante[1][0] in [\"a\",\"e\",\"i\",\"o\",\"u\"]:\n",
    "    print(detalles_restaurante[1].split(\" \")[0])\n",
    "\n",
    "else:\n",
    "    print(detalles_restaurante[1].split(\" \")[1])\n",
    "\n"
   ]
  },
  {
   "cell_type": "code",
   "execution_count": 50,
   "metadata": {},
   "outputs": [
    {
     "name": "stdout",
     "output_type": "stream",
     "text": [
      "['Pollo al Curry', 'Baleadas']\n",
      "['Tacos Hondureños']\n"
     ]
    }
   ],
   "source": [
    "# 3\n",
    "platos_eliminados = []\n",
    "\n",
    "while len(detalles_restaurante[4]) > 2:\n",
    "    platos_eliminados.append(detalles_restaurante[4].pop())\n",
    "\n",
    "print(detalles_restaurante[4])\n",
    "print(platos_eliminados)"
   ]
  },
  {
   "cell_type": "markdown",
   "metadata": {},
   "source": [
    "\n",
    "\n",
    "### **Ejercicio 3: Cálculo de facturas en un restaurante (2 puntos)**  \n",
    "\n",
    "En este ejercicio, implementarás un sistema básico para calcular facturas de los clientes en un restaurante utilizando funciones.\n",
    "\n",
    "1. **Cálculo del total de la factura:**\n",
    "\n",
    "   Crea una función llamada `calcular_total_factura` que reciba dos parámetros: `precio_platos` (lista de floats con los precios de los platos consumidos) y `porcentaje_propina` (float). La función debe calcular el total de la factura sumando los precios de los platos y aplicando el porcentaje de propina.\n",
    "\n",
    "   **total_factura = sum(precio_platos) * (1 + porcentaje_propina / 100)**\n",
    "\n",
    "   Solicita al usuario que ingrese los precios de tres platos y el porcentaje de propina e invoca la función para mostrar el total de la factura.\n",
    "\n",
    "2. **Descuento para clientes VIP:**\n",
    "\n",
    "   Crea una función llamada `aplicar_descuento` que reciba como parámetros el `total_factura` (float) y `es_vip` (boolean). Si el cliente es VIP, se aplica un descuento del 10% sobre el total de la factura. Retorna el monto total a pagar después del descuento.\n",
    "\n",
    "3. **División de la factura entre comensales:**\n",
    "\n",
    "   Crea una función llamada `dividir_factura` que reciba como parámetros el `total_factura` (float) y el número de personas que van a compartir el pago. Retorna la cantidad que cada persona debe pagar.\n",
    "\n",
    "4. **Función final:**\n",
    "\n",
    "   Crea una función llamada `gestionar_factura` que combine las tres funciones anteriores. Solicita los precios de los platos, el porcentaje de propina, si el cliente es VIP y el número de personas que comparten la cuenta. Muestra el total de la factura y cuánto debe pagar cada persona.\n",
    "\n"
   ]
  },
  {
   "cell_type": "code",
   "execution_count": 67,
   "metadata": {},
   "outputs": [
    {
     "name": "stdout",
     "output_type": "stream",
     "text": [
      "33.0\n"
     ]
    }
   ],
   "source": [
    "def calcular_total_factura(precio_platos,porcentaje_propina): \n",
    "\n",
    "    return sum(precio_platos) * (1 + porcentaje_propina / 100)\n",
    "\n",
    "precio_platos = [10.0,10.0,10.0]\n",
    "porcentaje_propina = 10.0\n",
    "total_factura = calcular_total_factura(precio_platos,porcentaje_propina)\n",
    "print(total_factura)\n",
    "\n"
   ]
  },
  {
   "cell_type": "markdown",
   "metadata": {},
   "source": [
    "**Descuento para clientes VIP:**\n",
    "\n",
    "   Crea una función llamada `aplicar_descuento` que reciba como parámetros el `total_factura` (float) y `es_vip` (boolean). Si el cliente es VIP, se aplica un descuento del 10% sobre el total de la factura. Retorna el monto total a pagar después del descuento."
   ]
  },
  {
   "cell_type": "code",
   "execution_count": 68,
   "metadata": {},
   "outputs": [
    {
     "name": "stdout",
     "output_type": "stream",
     "text": [
      "29.7\n"
     ]
    }
   ],
   "source": [
    "def aplicar_descuento(total_factura,es_vip):\n",
    "    if es_vip:\n",
    "        descuento = 10\n",
    "    else:\n",
    "        descuento = 0\n",
    "    return total_factura * (1 - (descuento/100))\n",
    "\n",
    "es_vip = True\n",
    "total_factura = aplicar_descuento(total_factura,es_vip)\n",
    "print(total_factura)"
   ]
  },
  {
   "cell_type": "markdown",
   "metadata": {},
   "source": [
    "3. **División de la factura entre comensales:**\n",
    "\n",
    "   Crea una función llamada `dividir_factura` que reciba como parámetros el `total_factura` (float) y el número de personas que van a compartir el pago. Retorna la cantidad que cada persona debe pagar."
   ]
  },
  {
   "cell_type": "code",
   "execution_count": 69,
   "metadata": {},
   "outputs": [
    {
     "data": {
      "text/plain": [
       "2.9699999999999998"
      ]
     },
     "execution_count": 69,
     "metadata": {},
     "output_type": "execute_result"
    }
   ],
   "source": [
    "def dividir_factura(total_factura,num_personas):\n",
    "    return total_factura / num_personas\n",
    "\n",
    "num_personas = 10\n",
    "\n",
    "dividir_factura(total_factura,num_personas)"
   ]
  },
  {
   "cell_type": "markdown",
   "metadata": {},
   "source": [
    "4. **Función final:**\n",
    "\n",
    "   Crea una función llamada `gestionar_factura` que combine las tres funciones anteriores. Solicita los precios de los platos, el porcentaje de propina, si el cliente es VIP y el número de personas que comparten la cuenta. Muestra el total de la factura y cuánto debe pagar cada persona."
   ]
  },
  {
   "cell_type": "code",
   "execution_count": 73,
   "metadata": {},
   "outputs": [
    {
     "name": "stdout",
     "output_type": "stream",
     "text": [
      "El total de la factura es: 29.7\n",
      "El total de la factura por persona es: 2.9699999999999998\n"
     ]
    }
   ],
   "source": [
    "def gestionar_factura(precio_platos,porcentaje_propina,es_vip, num_personas):\n",
    "    total_factura = calcular_total_factura(precio_platos,porcentaje_propina)\n",
    "    total_factura = aplicar_descuento(total_factura,es_vip)\n",
    "    total_factura_persona = dividir_factura(total_factura,num_personas)\n",
    "    print(f\"El total de la factura es: {total_factura}\")\n",
    "    print(f\"El total de la factura por persona es: {total_factura_persona}\")\n",
    "\n",
    "precio_platos = [10.0,10.0,10.0]\n",
    "porcentaje_propina = 10.0\n",
    "es_vip = True\n",
    "num_personas = 10\n",
    "\n",
    "gestionar = gestionar_factura(precio_platos,porcentaje_propina,es_vip,num_personas)\n",
    "gestionar\n",
    "\n"
   ]
  },
  {
   "cell_type": "markdown",
   "metadata": {},
   "source": [
    "\n",
    "\n",
    "### **Ejercicio 4: Gestión de un restaurante con clases (2 puntos)**  \n",
    "\n",
    "En este ejercicio crearás una clase para gestionar un restaurante.\n",
    "\n",
    "1. **Nombre de la clase:** `Restaurante`\n",
    "\n",
    "   **Atributos:**\n",
    "   - `nombre`: Nombre del restaurante (str).\n",
    "   - `mesas_disponibles`: Número de mesas disponibles en el restaurante (int).\n",
    "   - `reservas`: Lista de diccionarios donde cada diccionario representa una reserva, con las claves: `nombre_cliente`, `numero_mesa`, `personas`, y `hora_reserva`.\n",
    "\n",
    "2. **Métodos:**\n",
    "   - `realizar_reserva(nombre_cliente, numero_mesa, personas, hora_reserva)`: Si hay mesas disponibles, crea una nueva reserva y añade el diccionario correspondiente a la lista de reservas. Si no hay mesas, muestra un mensaje indicando que no se puede realizar la reserva.\n",
    "   - `cancelar_reserva(nombre_cliente)`: Elimina la reserva de un cliente en la lista de reservas si existe. Si no existe, muestra un mensaje indicando que no se encontró la reserva.\n",
    "   - `disponibilidad_mesa(numero_mesa)`: Verifica si una mesa está disponible. Retorna True si está disponible, y False si ya está reservada.\n",
    "   - `mostrar_reservas()`: Muestra todas las reservas actuales con el nombre del cliente, número de mesa, número de personas y hora de la reserva.\n",
    "\n",
    "3. **Simulación:**\n",
    "\n",
    "   Crea una instancia de la clase `Restaurante` llamada `mi_restaurante`. Realiza al menos tres reservas diferentes, cancela una de ellas, y muestra la lista de reservas actualizada.\n",
    "\n"
   ]
  },
  {
   "cell_type": "code",
   "execution_count": 156,
   "metadata": {},
   "outputs": [],
   "source": [
    "class Restaurante(object):\n",
    "    \n",
    "    def __init__(self,nombre,mesas_disponibles,reservas):\n",
    "        self.nombre = nombre\n",
    "        self.mesas_disponibles = mesas_disponibles\n",
    "        self.reservas = reservas\n",
    "\n",
    "    def realizar_reserva(self,nombre_cliente,numero_mesa,personas,hora_reserva):\n",
    "        if self.mesas_disponibles > 0:\n",
    "            self.reservas.append({\"nombre_cliente\":nombre_cliente,\"numero_mesa\":numero_mesa,\"personas\":personas,\"hora_reserva\":hora_reserva})\n",
    "            self.mesas_disponibles -= 1\n",
    "            return self.reservas\n",
    "        else: return \"No hay mesas disponibles\"\n",
    "\n",
    "    def cancelar_reserva(self,nombre_cliente):\n",
    "        for reserva in self.reservas:\n",
    "            if reserva[\"nombre_cliente\"] == nombre_cliente:\n",
    "                self.reservas.remove(reserva)\n",
    "                self.mesas_disponibles += 1\n",
    "                return self.reservas\n",
    "            \n",
    "        return \"No se encontró la reserva\"\n",
    "    \n",
    "    def disponibilidad_mesa(self,numero_mesa):\n",
    "        for reserva in self.reservas:\n",
    "            if reserva[\"numero_mesa\"] == numero_mesa:\n",
    "                return False\n",
    "            \n",
    "        return True\n",
    "    \n",
    "    def mostrar_reservas(self):\n",
    "        print(self.reservas)\n",
    "    "
   ]
  },
  {
   "cell_type": "markdown",
   "metadata": {},
   "source": []
  },
  {
   "cell_type": "code",
   "execution_count": 157,
   "metadata": {},
   "outputs": [],
   "source": [
    "mi_restaurante = Restaurante(\"La Estafa\",5,[])"
   ]
  },
  {
   "cell_type": "code",
   "execution_count": 160,
   "metadata": {},
   "outputs": [
    {
     "data": {
      "text/plain": [
       "[{'nombre_cliente': 'Luis',\n",
       "  'numero_mesa': 1,\n",
       "  'personas': 5,\n",
       "  'hora_reserva': '17:30'},\n",
       " {'nombre_cliente': 'Juan',\n",
       "  'numero_mesa': 2,\n",
       "  'personas': 5,\n",
       "  'hora_reserva': '17:30'},\n",
       " {'nombre_cliente': 'Antonio',\n",
       "  'numero_mesa': 3,\n",
       "  'personas': 5,\n",
       "  'hora_reserva': '17:30'}]"
      ]
     },
     "execution_count": 160,
     "metadata": {},
     "output_type": "execute_result"
    }
   ],
   "source": [
    "mi_restaurante.realizar_reserva(\"Antonio\",3,5,\"17:30\")"
   ]
  },
  {
   "cell_type": "code",
   "execution_count": 161,
   "metadata": {},
   "outputs": [
    {
     "data": {
      "text/plain": [
       "[{'nombre_cliente': 'Luis',\n",
       "  'numero_mesa': 1,\n",
       "  'personas': 5,\n",
       "  'hora_reserva': '17:30'},\n",
       " {'nombre_cliente': 'Antonio',\n",
       "  'numero_mesa': 3,\n",
       "  'personas': 5,\n",
       "  'hora_reserva': '17:30'}]"
      ]
     },
     "execution_count": 161,
     "metadata": {},
     "output_type": "execute_result"
    }
   ],
   "source": [
    "mi_restaurante.cancelar_reserva(\"Juan\")"
   ]
  },
  {
   "cell_type": "code",
   "execution_count": 164,
   "metadata": {},
   "outputs": [
    {
     "data": {
      "text/plain": [
       "False"
      ]
     },
     "execution_count": 164,
     "metadata": {},
     "output_type": "execute_result"
    }
   ],
   "source": [
    "mi_restaurante.disponibilidad_mesa(1)"
   ]
  },
  {
   "cell_type": "code",
   "execution_count": 165,
   "metadata": {},
   "outputs": [
    {
     "data": {
      "text/plain": [
       "3"
      ]
     },
     "execution_count": 165,
     "metadata": {},
     "output_type": "execute_result"
    }
   ],
   "source": [
    "mi_restaurante.mesas_disponibles"
   ]
  },
  {
   "cell_type": "code",
   "execution_count": 166,
   "metadata": {},
   "outputs": [
    {
     "name": "stdout",
     "output_type": "stream",
     "text": [
      "[{'nombre_cliente': 'Luis', 'numero_mesa': 1, 'personas': 5, 'hora_reserva': '17:30'}, {'nombre_cliente': 'Antonio', 'numero_mesa': 3, 'personas': 5, 'hora_reserva': '17:30'}]\n"
     ]
    }
   ],
   "source": [
    "mi_restaurante.mostrar_reservas()"
   ]
  },
  {
   "cell_type": "code",
   "execution_count": null,
   "metadata": {},
   "outputs": [],
   "source": []
  }
 ],
 "metadata": {
  "kernelspec": {
   "display_name": "fundamentals_env",
   "language": "python",
   "name": "python3"
  },
  "language_info": {
   "codemirror_mode": {
    "name": "ipython",
    "version": 3
   },
   "file_extension": ".py",
   "mimetype": "text/x-python",
   "name": "python",
   "nbconvert_exporter": "python",
   "pygments_lexer": "ipython3",
   "version": "3.11.9"
  }
 },
 "nbformat": 4,
 "nbformat_minor": 2
}
