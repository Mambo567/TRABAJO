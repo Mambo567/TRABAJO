{
 "cells": [
  {
   "cell_type": "markdown",
   "metadata": {},
   "source": [
    "\n",
    "### Ejercicio 1 (1 punto)\n",
    "En este ejercicio trabajarás con variables de distintos tipos. Sigue las instrucciones detalladas a continuación:\n",
    "\n",
    "1. Crea una variable llamada `precio_habitacion` de tipo Integer que represente el costo por noche de una habitación en un hotel.\n",
    "2. Crea una variable llamada `nombre_cliente` de tipo String que contenga el nombre completo de un cliente que reserva la habitación.\n",
    "3. Crea una variable llamada `descuento` de tipo Float que contenga el porcentaje de descuento aplicado por reservar más de tres noches (por ejemplo, 15.5).\n",
    "4. Crea una variable llamada `es_vip` de tipo Boolean que sea True si el cliente es parte del programa VIP del hotel, y False en caso contrario.\n",
    "5. Crea una variable llamada `dias_estancia` de tipo Integer que contenga el número de días que el cliente se hospedará en el hotel.\n",
    "6. Crea una variable llamada `servicios_extras` de tipo List que contenga tres servicios adicionales que el cliente ha solicitado (por ejemplo, 'Desayuno', 'Gimnasio', 'Spa').\n",
    "7. Crea una variable llamada `tupla_contacto` de tipo Tuple que contenga el número de teléfono y la dirección de correo electrónico del cliente.\n",
    "8. Añade todas estas variables a una lista llamada `detalles_reserva` en el orden de aparición **usando una función de lista**.\n",
    "9. Responde en un comentario a la siguiente pregunta: ¿Cómo podrías calcular el total a pagar de la estancia si sabes el precio por noche, los días de estancia y el descuento?\n",
    "\n"
   ]
  },
  {
   "cell_type": "code",
   "execution_count": 26,
   "metadata": {},
   "outputs": [
    {
     "name": "stdout",
     "output_type": "stream",
     "text": [
      "[100, 'Luis Vasquez', 10.0, True, 5, ['Desayuno', 'Gimnasio', 'Piscina'], (11111, 'luisvasquez@gmail.com')]\n",
      "450.0\n"
     ]
    }
   ],
   "source": [
    "precio_habitacion = 100\n",
    "nombre_cliente = \"Luis Vasquez\"\n",
    "descuento = 10.0\n",
    "es_vip = True\n",
    "dias_estancia = 5\n",
    "servicios_extra = [\"Desayuno\",\"Gimnasio\",\"Piscina\"]\n",
    "tupla_contacto = (11111, \"luisvasquez@gmail.com\")\n",
    "detalles_reserva = []\n",
    "\n",
    "detalles_reserva.append(precio_habitacion,)\n",
    "detalles_reserva.append(nombre_cliente)\n",
    "detalles_reserva.append(descuento)\n",
    "detalles_reserva.append(es_vip)\n",
    "detalles_reserva.append(dias_estancia)\n",
    "detalles_reserva.append(servicios_extra)\n",
    "detalles_reserva.append(tupla_contacto)\n",
    "\n",
    "print(detalles_reserva)\n",
    "\n",
    "# De la siguiente forma:\n",
    "\n",
    "if dias_estancia > 3:\n",
    "    precio_aplicar = precio_habitacion * (1 - (descuento/100))\n",
    "else:\n",
    "    precio_aplicar = precio_habitacion\n",
    "\n",
    "total_pagar = precio_aplicar * dias_estancia\n",
    "\n",
    "print(total_pagar)\n",
    "\n"
   ]
  },
  {
   "cell_type": "markdown",
   "metadata": {},
   "source": [
    "\n",
    "\n",
    "### Ejercicio 2 (2 puntos)\n",
    "\n",
    "Para este ejercicio trabajarás con colecciones. Utiliza la lista `detalles_reserva` que has creado en el ejercicio anterior. Lee atentamente cada punto antes de comenzar.\n",
    "\n",
    "1. Mostrar por pantalla, sin uso de funciones (puedes usar `print`) ni bucles:\n",
    "   - Un mensaje de presentación que incluya el nombre del cliente y su número de teléfono.\n",
    "   - El precio de la habitación y el número de días de estancia.\n",
    "   - El segundo servicio adicional solicitado por el cliente.\n",
    "   - Si el cliente es VIP, muestra el descuento aplicado; en caso contrario, muestra un mensaje indicando que no tiene descuento.\n",
    "   - Muestra el correo electrónico del cliente.\n",
    "\n",
    "2. Mostrar por pantalla, con uso de un bucle `for`:\n",
    "   - Todos los elementos de `detalles_reserva`.\n",
    "   - Todos los elementos de `detalles_reserva` en orden inverso.\n",
    "   - Todos aquellos elementos que sean strings.\n",
    "   - El número de caracteres de cada servicio adicional solicitado por el cliente.\n",
    "\n",
    "3. Con uso de un bucle `while`, elimina los servicios extras de la lista uno por uno hasta que no queden más servicios en `detalles_reserva`, y guarda los eliminados en una lista llamada `servicios_eliminados`.\n",
    "\n"
   ]
  },
  {
   "cell_type": "code",
   "execution_count": 28,
   "metadata": {},
   "outputs": [
    {
     "name": "stdout",
     "output_type": "stream",
     "text": [
      "[100, 'Luis Vasquez', 10.0, True, 5, ['Desayuno', 'Gimnasio', 'Piscina'], (11111, 'luisvasquez@gmail.com')]\n",
      "El cliente Luis Vasquez de número de teléfono 11111\n",
      "El precio de la habitación es 100 por noche y la estancia de 5 días\n",
      "El segundo servicio solicitado fue Gimnasio\n",
      "El descuento aplicado es de 10.0%\n",
      "El correo electrónico del cliente es luisvasquez@gmail.com\n"
     ]
    }
   ],
   "source": [
    "# Parte 1\n",
    "\n",
    "print(detalles_reserva)\n",
    "print(f\"El cliente {detalles_reserva[1]} de número de teléfono {detalles_reserva[6][0]}\")\n",
    "print(f\"El precio de la habitación es {detalles_reserva[0]} por noche y la estancia de {detalles_reserva[4]} días\")\n",
    "print(f\"El segundo servicio solicitado fue {detalles_reserva[5][1]}\")\n",
    "\n",
    "if es_vip:\n",
    "    print(f\"El descuento aplicado es de {detalles_reserva[2]}%\")\n",
    "else:\n",
    "    print(\"El cliente no tiene descuento\")\n",
    "\n",
    "print(f\"El correo electrónico del cliente es {detalles_reserva[6][1]}\")"
   ]
  },
  {
   "cell_type": "code",
   "execution_count": 37,
   "metadata": {},
   "outputs": [
    {
     "name": "stdout",
     "output_type": "stream",
     "text": [
      "100\n",
      "Luis Vasquez\n",
      "10.0\n",
      "True\n",
      "5\n",
      "['Desayuno', 'Gimnasio', 'Piscina']\n",
      "(11111, 'luisvasquez@gmail.com')\n",
      "\n",
      "(11111, 'luisvasquez@gmail.com')\n",
      "['Desayuno', 'Gimnasio', 'Piscina']\n",
      "5\n",
      "True\n",
      "10.0\n",
      "Luis Vasquez\n",
      "100\n",
      "\n",
      "Luis Vasquez\n",
      "\n",
      "8\n",
      "8\n",
      "7\n"
     ]
    }
   ],
   "source": [
    "# Parte 2\n",
    "for elemento in detalles_reserva:\n",
    "    print(elemento)\n",
    "\n",
    "print()\n",
    "\n",
    "for elemento in detalles_reserva[::-1]:\n",
    "    print(elemento)\n",
    "\n",
    "print()\n",
    "\n",
    "for elemento in detalles_reserva:\n",
    "    if type(elemento) == str:\n",
    "        print(elemento)\n",
    "\n",
    "print()\n",
    "\n",
    "for elemento in detalles_reserva[5]:\n",
    "        print(len(elemento))"
   ]
  },
  {
   "cell_type": "code",
   "execution_count": 46,
   "metadata": {},
   "outputs": [
    {
     "name": "stdout",
     "output_type": "stream",
     "text": [
      "[100, 'Luis Vasquez', 10.0, True, 5, [], (11111, 'luisvasquez@gmail.com')]\n",
      "[]\n",
      "[]\n",
      "[100, 'Luis Vasquez', 10.0, True, 5, [], (11111, 'luisvasquez@gmail.com')]\n"
     ]
    }
   ],
   "source": [
    "# Parte 3\n",
    "print(detalles_reserva)\n",
    "\n",
    "\n",
    "servicios_eliminados = []\n",
    "while (len(detalles_reserva[5])) > 0:\n",
    "    servicios_eliminados.append(detalles_reserva[5].pop())\n",
    "\n",
    "print(detalles_reserva[5])\n",
    "print(servicios_eliminados)\n",
    "\n",
    "print(detalles_reserva)\n"
   ]
  },
  {
   "cell_type": "markdown",
   "metadata": {},
   "source": [
    "\n",
    "\n",
    "### Ejercicio 3: Simulación de préstamos bancarios (2 puntos)\n",
    "\n",
    "En este ejercicio, implementarás un sistema básico de cálculo de préstamos bancarios utilizando funciones.\n",
    "\n",
    "1. **Cálculo del monto total a pagar:**\n",
    "\n",
    "   Crea una función llamada `calcular_monto_total` que reciba tres parámetros: `monto_prestamo` (float), `tasa_interes` (float, en porcentaje) y `plazo_anios` (int). La función debe calcular el monto total a pagar por el préstamo utilizando la siguiente fórmula:\n",
    "\n",
    "   **monto_total = monto_prestamo * (1 + (tasa_interes / 100) * plazo_anios)**\n",
    "\n",
    "   Solicita al usuario que ingrese los valores de cada parámetro e invoca la función para mostrar el monto total a pagar.\n",
    "\n",
    "2. **Cálculo de la cuota mensual:**\n",
    "\n",
    "   Crea una función llamada `calcular_cuota_mensual` que reciba como parámetros el `monto_total` (float) calculado anteriormente y el `plazo_anios` (int). La función debe calcular y retornar la cuota mensual utilizando la fórmula:\n",
    "\n",
    "   **cuota_mensual = monto_total / (plazo_anios * 12)**\n",
    "\n",
    "   Muestra la cuota mensual que deberá pagar el usuario.\n",
    "\n",
    "3. **Simulación del pago del préstamo:**\n",
    "\n",
    "   Crea una función llamada `simular_pago` que reciba como parámetros `monto_total`, `cuota_mensual` y `ingresos_mensuales` (float). La función debe simular los pagos mensuales y calcular cuántos meses le llevará pagar el préstamo completamente. Si en algún mes la cuota mensual es superior al 40% de los ingresos mensuales del usuario, el préstamo se considerará \"incumplido\" y se mostrará un mensaje.\n",
    "\n",
    "4. **Función final:**\n",
    "\n",
    "   Crea una función llamada `evaluar_prestamo` que combine las anteriores. La función debe solicitar los datos del préstamo (monto, tasa de interés, plazo), calcular el monto total y la cuota mensual, y finalmente llamar a `simular_pago` para verificar si el usuario puede cumplir con los pagos.\n",
    "\n"
   ]
  },
  {
   "cell_type": "code",
   "execution_count": 54,
   "metadata": {},
   "outputs": [
    {
     "name": "stdout",
     "output_type": "stream",
     "text": [
      "125.0\n"
     ]
    }
   ],
   "source": [
    "# 1\n",
    "\n",
    "def calcular_monto_total(monto_prestamo,tasa_interes,plazo_anios):\n",
    "    monto_total = monto_prestamo * (1 + (tasa_interes/100) * plazo_anios)\n",
    "    return monto_total\n",
    "\n",
    "monto_prestamo = 100\n",
    "tasa_interes = 5.0\n",
    "plazo_anios = 5\n",
    "\n",
    "print(calcular_monto_total(monto_prestamo,tasa_interes,plazo_anios))\n"
   ]
  },
  {
   "cell_type": "code",
   "execution_count": 59,
   "metadata": {},
   "outputs": [
    {
     "name": "stdout",
     "output_type": "stream",
     "text": [
      "125.0\n",
      "2.0833333333333335\n"
     ]
    }
   ],
   "source": [
    "# 2\n",
    "\n",
    "def calcular_cuota_mensual(monto_total,plazo_anios):\n",
    "    cuota_mensual = monto_total / (plazo_anios * 12)\n",
    "    return cuota_mensual\n",
    "\n",
    "monto_total = calcular_monto_total(monto_prestamo,tasa_interes,plazo_anios)\n",
    "\n",
    "print(monto_total)\n",
    "plazo_anios = 5\n",
    "\n",
    "print(calcular_cuota_mensual(monto_total,plazo_anios))\n",
    "\n"
   ]
  },
  {
   "cell_type": "code",
   "execution_count": 73,
   "metadata": {},
   "outputs": [
    {
     "name": "stdout",
     "output_type": "stream",
     "text": [
      "122.91666666666667\n"
     ]
    }
   ],
   "source": [
    "# 3\n",
    "def simular_pago(monto_total,cuota_mensual,ingresos_mensuales):\n",
    "    if cuota_mensual > (ingresos_mensuales * 0.4):\n",
    "        return \"El préstamo se considera incumplido\"\n",
    "    else:\n",
    "        monto_total = monto_total - cuota_mensual\n",
    "        return monto_total\n",
    "\n",
    "monto_total = calcular_monto_total(monto_prestamo,tasa_interes,plazo_anios)\n",
    "cuota_mensual = calcular_cuota_mensual(monto_total,plazo_anios)\n",
    "ingresos_mensuales = 100\n",
    "\n",
    "print(simular_pago(monto_total,cuota_mensual,10))\n",
    "\n",
    "\n"
   ]
  },
  {
   "cell_type": "code",
   "execution_count": 81,
   "metadata": {},
   "outputs": [
    {
     "name": "stdout",
     "output_type": "stream",
     "text": [
      "El monto total es 125.0, la cuota mensual es de 2.0833333333333335, y el resultado del primer pago es 122.91666666666667\n"
     ]
    }
   ],
   "source": [
    "def evaluar_prestamo(monto,tasa_interes,plazo,ingreso):\n",
    "    monto_total = calcular_monto_total(monto,tasa_interes,plazo)\n",
    "    cuota_mensual = calcular_cuota_mensual(monto_total,plazo)\n",
    "    pago_simulado = simular_pago(monto_total,cuota_mensual,ingreso)\n",
    "    return f\"El monto total es {monto_total}, la cuota mensual es de {cuota_mensual}, y el resultado del primer pago es {pago_simulado}\"\n",
    "\n",
    "\n",
    "monto_prestamo = 100\n",
    "tasa_interes = 5.0\n",
    "plazo_anios = 5\n",
    "\n",
    "print(evaluar_prestamo(monto_prestamo,tasa_interes,plazo_anios,10))\n",
    "\n"
   ]
  },
  {
   "cell_type": "markdown",
   "metadata": {},
   "source": [
    "\n",
    "### Ejercicio 4: Gestión de un hotel (2 puntos)\n",
    "\n",
    "En este ejercicio crearás una clase para gestionar un hotel.\n",
    "\n",
    "1. **Nombre de la clase:** `Hotel`\n",
    "\n",
    "   **Atributos:**\n",
    "   COMUNES\n",
    "   - `reservas`: Lista de diccionarios donde cada diccionario representa una reserva, con las claves: `nombre_cliente`, `numero_habitacion/es`, `dias_reserva`, y `costo_total`.\n",
    "   - `precio_habitacion` = 100\n",
    "   - `capacidad_habitacion` = 2\n",
    "   VARIABLES\n",
    "   - `nombre`: Nombre del hotel (str).\n",
    "   - `habitaciones_disponibles`: Número de habitaciones disponibles en el hotel (int).\n",
    "\n",
    "\n",
    "2. **Métodos:**\n",
    "   - `realizar_reserva(nombre_cliente, personas, dias_reserva)`: Si hay habitaciones disponibles (en funcion de las personas), crea una nueva reserva, calcula el costo total (número de días por precio por noche), y añade la reserva a la lista de `reservas`. Si no hay habitaciones disponibles, muestra un mensaje indicando que no se puede realizar la reserva.\n",
    "   - `cancelar_reserva(nombre_cliente)`: Elimina la reserva de un cliente en la lista de reservas si existe. Si no existe, muestra un mensaje indicando que no hay reserva a cancelar.\n",
    "   - `mostrar_reservas()`: Muestra todas las reservas actuales con el nombre del cliente, número de habitación y costo total.\n",
    "\n",
    "3. **Simulación:**\n",
    "   Crea una instancia de la clase `Hotel` llamada `mi_hotel`. Realiza al menos tres reservas diferentes, cancela una de ellas, y muestra la lista de reservas actualizada.\n",
    "\n"
   ]
  },
  {
   "cell_type": "code",
   "execution_count": 242,
   "metadata": {},
   "outputs": [],
   "source": [
    "class Hotel(object):\n",
    "    reservas = [] #{\"nombre_cliente\":None,\"numero_habitacion/es\":None,\"dias_reserva\":None,\"costo_total\":None}\n",
    "    precio_habitacion = 100\n",
    "    capacidad_habitacion = 2\n",
    "\n",
    "    def __init__(self,nombre,habitaciones_disponibles):\n",
    "        self.nombre = nombre\n",
    "        self.habitaciones_disponibles = habitaciones_disponibles\n",
    "\n",
    "    def realizar_reserva(self,nombre_cliente, personas, dias_reserva):\n",
    "        from math import ceil\n",
    "        habitaciones_solicitadas = ceil(personas/self.capacidad_habitacion)\n",
    "        if habitaciones_solicitadas > self.habitaciones_disponibles:\n",
    "            return \"No hay suficiente habitaciones disponibles\"\n",
    "        \n",
    "        else:\n",
    "            costo_total = habitaciones_solicitadas * self.precio_habitacion * dias_reserva\n",
    "            self.habitaciones_disponibles -= habitaciones_solicitadas\n",
    "            self.reservas.append({f\"nombre_cliente\":nombre_cliente,\"numero_habitacion/es\":habitaciones_solicitadas,\"dias_reserva\":dias_reserva,\"costo_total\":costo_total})\n",
    "        \n",
    "        return self.reservas[-1]\n",
    "        \n",
    "    def cancelar_reserva(self,nombre_cliente):\n",
    "        for reserva in self.reservas:\n",
    "            if reserva[\"nombre_cliente\"] == nombre_cliente:\n",
    "                self.habitaciones_disponibles = self.habitaciones_disponibles + reserva[\"numero_habitacion/es\"]\n",
    "                self.reservas.remove(reserva)\n",
    "                return self.reservas\n",
    "               \n",
    "        return \"No hay reserva a cancelar\"\n",
    "\n",
    "\n",
    "\n",
    "\n"
   ]
  },
  {
   "cell_type": "code",
   "execution_count": 243,
   "metadata": {},
   "outputs": [],
   "source": [
    "hotel = Hotel(\"Mi Tercera Ilusión\",10)"
   ]
  },
  {
   "cell_type": "code",
   "execution_count": 246,
   "metadata": {},
   "outputs": [
    {
     "name": "stdout",
     "output_type": "stream",
     "text": [
      "{'nombre_cliente': 'Andres', 'numero_habitacion/es': 1, 'dias_reserva': 2, 'costo_total': 200}\n",
      "[{'nombre_cliente': 'Alexis', 'numero_habitacion/es': 1, 'dias_reserva': 2, 'costo_total': 200}, {'nombre_cliente': 'Luis', 'numero_habitacion/es': 3, 'dias_reserva': 2, 'costo_total': 600}, {'nombre_cliente': 'Andres', 'numero_habitacion/es': 1, 'dias_reserva': 2, 'costo_total': 200}]\n"
     ]
    }
   ],
   "source": [
    "print(hotel.realizar_reserva(\"Jose\", 1, 2))\n",
    "print(hotel.reservas)"
   ]
  },
  {
   "cell_type": "code",
   "execution_count": 247,
   "metadata": {},
   "outputs": [
    {
     "name": "stdout",
     "output_type": "stream",
     "text": [
      "[{'nombre_cliente': 'Luis', 'numero_habitacion/es': 3, 'dias_reserva': 2, 'costo_total': 600}, {'nombre_cliente': 'Andres', 'numero_habitacion/es': 1, 'dias_reserva': 2, 'costo_total': 200}]\n"
     ]
    }
   ],
   "source": [
    "print(hotel.cancelar_reserva(\"Alexis\"))"
   ]
  },
  {
   "cell_type": "code",
   "execution_count": 249,
   "metadata": {},
   "outputs": [
    {
     "name": "stdout",
     "output_type": "stream",
     "text": [
      "[{'nombre_cliente': 'Luis', 'numero_habitacion/es': 3, 'dias_reserva': 2, 'costo_total': 600}, {'nombre_cliente': 'Andres', 'numero_habitacion/es': 1, 'dias_reserva': 2, 'costo_total': 200}]\n",
      "6\n"
     ]
    }
   ],
   "source": [
    "print(hotel.reservas)\n",
    "print(hotel.habitaciones_disponibles)"
   ]
  },
  {
   "cell_type": "code",
   "execution_count": null,
   "metadata": {},
   "outputs": [],
   "source": []
  }
 ],
 "metadata": {
  "kernelspec": {
   "display_name": "fundamentals_env",
   "language": "python",
   "name": "python3"
  },
  "language_info": {
   "codemirror_mode": {
    "name": "ipython",
    "version": 3
   },
   "file_extension": ".py",
   "mimetype": "text/x-python",
   "name": "python",
   "nbconvert_exporter": "python",
   "pygments_lexer": "ipython3",
   "version": "3.11.9"
  }
 },
 "nbformat": 4,
 "nbformat_minor": 2
}
