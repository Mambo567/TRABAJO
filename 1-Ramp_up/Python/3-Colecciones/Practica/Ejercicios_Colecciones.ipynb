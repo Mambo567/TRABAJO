{
 "cells": [
  {
   "cell_type": "markdown",
   "metadata": {},
   "source": [
    "![imagen](./img/ejercicios.png)"
   ]
  },
  {
   "cell_type": "markdown",
   "metadata": {},
   "source": [
    "## Ejercicio 1\n",
    "Dada la siguiente lista:\n",
    "> ```ejer_1 = [1,2,3,4,5]```\n",
    "\n",
    "Inviértela para que quede de la siguiente manera\n",
    "> ```ejer_1 = [5,4,3,2,1]```"
   ]
  },
  {
   "cell_type": "code",
   "execution_count": 18,
   "metadata": {},
   "outputs": [
    {
     "name": "stdout",
     "output_type": "stream",
     "text": [
      "[5, 4, 3, 2, 1]\n",
      "[5, 4, 3, 2, 1]\n"
     ]
    }
   ],
   "source": [
    "##OPCIÓN 1 (Solo muestra)\n",
    "ejer_1 = [1,2,3,4,5]\n",
    "\n",
    "print(ejer_1[::-1])\n",
    "\n",
    "##OPCIÓN 2 (Cambia y muestra)\n",
    "ejer_1.sort(key = None,reverse = True)\n",
    "print(ejer_1)"
   ]
  },
  {
   "cell_type": "markdown",
   "metadata": {},
   "source": [
    "## Ejercicio 2\n",
    "Eleva todos los elementos de la lista al cuadrado\n",
    "> ```ejer_2 = [1,2,3,4,5]```"
   ]
  },
  {
   "cell_type": "code",
   "execution_count": 15,
   "metadata": {},
   "outputs": [
    {
     "name": "stdout",
     "output_type": "stream",
     "text": [
      "[1, 4, 9, 16, 25]\n"
     ]
    }
   ],
   "source": [
    "#Opción 1\n",
    "ejer_2 = [1,2,3,4,5]\n",
    "ejer_2_cuadrado = []\n",
    "\n",
    "for numero in ejer_2:\n",
    "    ejer_2_cuadrado.append(numero**2)\n",
    "\n",
    "print(ejer_2_cuadrado)"
   ]
  },
  {
   "cell_type": "code",
   "execution_count": 19,
   "metadata": {},
   "outputs": [
    {
     "name": "stdout",
     "output_type": "stream",
     "text": [
      "[1, 2, 3, 4, 5]\n"
     ]
    }
   ],
   "source": [
    "#Opción 2 --> Por qué no funciona?\n",
    "ejer_2 = [1,2,3,4,5]\n",
    "\n",
    "for numero in ejer_2:\n",
    "    numero = numero**2\n",
    "\n",
    "print(ejer_2)"
   ]
  },
  {
   "cell_type": "markdown",
   "metadata": {},
   "source": [
    "## Ejercicio 3\n",
    "Crea una lista nueva con todas las combinaciones de las siguientes dos listas:\n",
    "> ```ejer_3_1 = [\"Hola\", \"amigo\"]```\n",
    ">\n",
    "> ```ejer_3_2 = [\"Que\", \"tal\"]```\n",
    "\n",
    "Obten el siguiente output:\n",
    "\n",
    "```['Hola Que', 'Hola tal', 'amigo Que', 'amigo tal']```"
   ]
  },
  {
   "cell_type": "code",
   "execution_count": 1,
   "metadata": {},
   "outputs": [
    {
     "name": "stdout",
     "output_type": "stream",
     "text": [
      "['Hola', 'amigo', 'Que', 'tal']\n",
      "['Hola Que', 'Hola tal', 'amigo Que', 'amigo tal']\n"
     ]
    }
   ],
   "source": [
    "ejer_3_1 = [\"Hola\", \"amigo\"]\n",
    "ejer_3_2 = [\"Que\", \"tal\"]\n",
    "\n",
    "ejer_total = ejer_3_1 + ejer_3_2\n",
    "print(ejer_total)\n",
    "\n",
    "ordenado = [ejer_total[0]+\" \"+ejer_total[2], ejer_total[0]+\" \"+ejer_total[3], ejer_total[1]+\" \"+ejer_total[2], ejer_total[1]+\" \"+ejer_total[3]]\n",
    "print(ordenado)\n",
    "\n"
   ]
  },
  {
   "attachments": {},
   "cell_type": "markdown",
   "metadata": {},
   "source": [
    "## Ejercicio 4\n",
    "Dada la siguiente lista, encuentra por el índice el valor 45 y sustitúyelo por el 0\n",
    "> ```ejer_4 = [20, 47, 19, 29, 45, 67, 78, 90]```"
   ]
  },
  {
   "cell_type": "code",
   "execution_count": 6,
   "metadata": {},
   "outputs": [
    {
     "name": "stdout",
     "output_type": "stream",
     "text": [
      "4\n",
      "[20, 47, 19, 29, 0, 67, 78, 90]\n"
     ]
    }
   ],
   "source": [
    "ejer_4 = [20, 47, 19, 29, 45, 67, 78, 90]\n",
    "for indice, valor in enumerate(ejer_4):\n",
    "    if valor == 45:\n",
    "        print(indice)\n",
    "        sustituir = indice\n",
    "\n",
    "ejer_4[sustituir] = 0\n",
    "\n",
    "print(ejer_4)\n"
   ]
  },
  {
   "cell_type": "code",
   "execution_count": 1,
   "metadata": {},
   "outputs": [
    {
     "name": "stdout",
     "output_type": "stream",
     "text": [
      "[20, 47, 19, 29, 0, 67, 78, 90]\n"
     ]
    }
   ],
   "source": [
    "##Otra Forma\n",
    "ejer_4 = [20, 47, 19, 29, 45, 67, 78, 90]\n",
    "indice = ejer_4.index(45)\n",
    "ejer_4[indice] = 0\n",
    "print(ejer_4)"
   ]
  },
  {
   "cell_type": "markdown",
   "metadata": {},
   "source": [
    "## Ejercicio 5\n",
    "Dada la siguiente lista, elimina todos los valores iguales a 3\n",
    "> ```ejer_5 = [3, 20, 3, 47, 19, 3, 29, 45, 67, 78, 90, 3, 3]```\n",
    "\n",
    "TIP: No intentes eliminar elementos sobre la lista que estás iterando. Haz una copia con `ejer_5.copy()`."
   ]
  },
  {
   "cell_type": "code",
   "execution_count": 7,
   "metadata": {},
   "outputs": [
    {
     "name": "stdout",
     "output_type": "stream",
     "text": [
      "[20, 47, 19, 29, 45, 67, 78, 90]\n"
     ]
    }
   ],
   "source": [
    "##Alternativa sencilla\n",
    "ejer_5 = [3, 20, 3, 47, 19, 3, 29, 45, 67, 78, 90, 3, 3]\n",
    "\n",
    "ejer_5_res = []\n",
    "\n",
    "for numero in ejer_5:\n",
    "    if numero != 3:\n",
    "        ejer_5_res.append(numero)\n",
    "\n",
    "print(ejer_5_res)\n"
   ]
  },
  {
   "cell_type": "code",
   "execution_count": 35,
   "metadata": {},
   "outputs": [
    {
     "name": "stdout",
     "output_type": "stream",
     "text": [
      "[20, 47, 19, 29, 45, 67, 78, 90, 3]\n",
      "[20, 47, 19, 29, 45, 67, 78, 90, 3]\n"
     ]
    }
   ],
   "source": [
    "#Alternativa eliminando -> Qué carajo?\n",
    "ejer_5 = [3, 20, 3, 47, 19, 3, 29, 45, 67, 78, 90, 3, 3]\n",
    "\n",
    "#print(ejer_5)\n",
    "\n",
    "ejer_5_res = ejer_5\n",
    "\n",
    "#print(ejer_5_res)\n",
    "\n",
    "for numero in ejer_5:\n",
    "    if numero == 3:\n",
    "        ejer_5_res.remove(numero)\n",
    "\n",
    "\n",
    "\n",
    "print(ejer_5)\n",
    "print(ejer_5_res)\n"
   ]
  },
  {
   "cell_type": "code",
   "execution_count": 5,
   "metadata": {},
   "outputs": [
    {
     "name": "stdout",
     "output_type": "stream",
     "text": [
      "[3, 20, 3, 47, 19, 3, 29, 45, 67, 78, 90, 3, 3]\n",
      "[20, 47, 19, 29, 45, 67, 78, 90]\n"
     ]
    }
   ],
   "source": [
    "#Alternativa eliminando\n",
    "ejer_5 = [3, 20, 3, 47, 19, 3, 29, 45, 67, 78, 90, 3, 3]\n",
    "\n",
    "ejer_5_res = []\n",
    "\n",
    "for numero in ejer_5:\n",
    "    ejer_5_res.append(numero)\n",
    "\n",
    "for numero in ejer_5:\n",
    "    if numero == 3:\n",
    "        ejer_5_res.remove(numero)\n",
    "\n",
    "\n",
    "\n",
    "print(ejer_5)\n",
    "print(ejer_5_res)\n"
   ]
  },
  {
   "attachments": {},
   "cell_type": "markdown",
   "metadata": {},
   "source": [
    "## Ejercicio 6\n",
    "1. Crea una tupla con 3 elementos\n",
    "2. Crea otra tupla con un elemento y comprueba su tipo\n",
    "3. Crea una tupla con elementos de diferentes tipos\n",
    "4. Imprime por pantalla el primer y último elemento de la tupla del apartado 3. Usa `len` para el último\n",
    "5. Añade un elemento a la tupla del apartado 3.\n",
    "6. Eliminar un elemento de la tupla del apartado 5, que se encuentre más o menos en la mitad.\n",
    "7. Convierte la tupla del apartado 5 en una lista"
   ]
  },
  {
   "cell_type": "code",
   "execution_count": 57,
   "metadata": {},
   "outputs": [
    {
     "name": "stdout",
     "output_type": "stream",
     "text": [
      "<class 'str'>\n",
      "<class 'tuple'>\n",
      "ja 4\n",
      "(1, 'ja', True, 4, 'ja')\n",
      "(1, 'ja', 4, 'ja')\n",
      "[1, 'ja', 4, 'ja']\n"
     ]
    }
   ],
   "source": [
    "#1\n",
    "mitupla = (1,2,3)\n",
    "\n",
    "#2\n",
    "mituplatipo1 = (\"ups\")\n",
    "mituplatipo2 = (\"ja\",)\n",
    "print(type(mituplatipo1))\n",
    "print(type(mituplatipo2))\n",
    "\n",
    "#3\n",
    "tuplamix = (1,\"ja\",True,4)\n",
    "\n",
    "#4\n",
    "print(tuplamix[1],tuplamix[len(tuplamix)-1])\n",
    "\n",
    "#5\n",
    "tuplamix = tuplamix + (\"ja\",)\n",
    "print(tuplamix)\n",
    "\n",
    "#6 REMOVE ME QUITA 1 si quiero eliminar el TRUE\n",
    "tuplamix2 = list(tuplamix)\n",
    "tuplamix2.pop(2)\n",
    "tuplamix = tuple(tuplamix2)\n",
    "print(tuplamix)\n",
    "\n",
    "#7\n",
    "tuplamix2= list(tuplamix)\n",
    "print(tuplamix2)\n"
   ]
  },
  {
   "attachments": {},
   "cell_type": "markdown",
   "metadata": {},
   "source": [
    "## Ejercicio 7\n",
    "Concatena todos los elementos de la tupla en un único string. Para ello utiliza el metodo `.join()` de los Strings\n",
    "> ```ejer_7 = (\"cien\", \"cañones\", \"por\", \"banda\")```\n",
    "\n",
    "Resultado: `cien cañones por banda`"
   ]
  },
  {
   "cell_type": "code",
   "execution_count": 73,
   "metadata": {},
   "outputs": [
    {
     "name": "stdout",
     "output_type": "stream",
     "text": [
      "('cien', 'cañones', 'por', 'banda')\n",
      "cien cañones por banda\n",
      "<class 'str'>\n"
     ]
    }
   ],
   "source": [
    "ejer_7 = (\"cien\", \"cañones\", \"por\", \"banda\")\n",
    "print(ejer_7)\n",
    "ejer_7_sol = ' '.join(ejer_7)\n",
    "print(ejer_7_sol)\n",
    "print(type(ejer_7_sol))\n"
   ]
  },
  {
   "cell_type": "markdown",
   "metadata": {},
   "source": [
    "## Ejercicio 8\n",
    "Obten el tercer elemento de la siguiente tupla, y el tercero empezando por la cola\n",
    "> ```ejer_8 = (3, 20, 3, 47, 19, 3, 29, 45, 67, 78, 90, 3, 3)```"
   ]
  },
  {
   "cell_type": "code",
   "execution_count": 72,
   "metadata": {},
   "outputs": [
    {
     "name": "stdout",
     "output_type": "stream",
     "text": [
      "3\n",
      "90\n"
     ]
    }
   ],
   "source": [
    "ejer_8 = (3, 20, 3, 47, 19, 3, 29, 45, 67, 78, 90, 3, 3)\n",
    "print(ejer_8[2])\n",
    "print(ejer_8[-3])"
   ]
  },
  {
   "attachments": {},
   "cell_type": "markdown",
   "metadata": {},
   "source": [
    "## Ejercicio 9\n",
    "1. ¿Cuántas veces se repite el 3 en la siguiente tupla?\n",
    "2. Crea una tupla nueva con los elementos desde la posición 5 a la 10.\n",
    "3. ¿Cuántos elementos tiene la tupla `ejer_9`?\n",
    "4. Comprueba si el numero 60 está en la tupla\n",
    "> ```ejer_9 = (3, 20, 3, 47, 19, 3, 29, 45, 67, 78, 90, 3, 3, 5, 2, 4, 7, 9, 4, 2, 4, 3, 3, 4, 6, 7)```"
   ]
  },
  {
   "cell_type": "code",
   "execution_count": 86,
   "metadata": {},
   "outputs": [
    {
     "name": "stdout",
     "output_type": "stream",
     "text": [
      "1.El número 3 se repite 7 veces\n",
      "2.  (3, 29, 45, 67, 78, 90)\n",
      "3.Tiene 26 elementos\n",
      "El elemento 60 esta en la tupla? =  False\n"
     ]
    }
   ],
   "source": [
    "ejer_9 = (3, 20, 3, 47, 19, 3, 29, 45, 67, 78, 90, 3, 3, 5, 2, 4, 7, 9, 4, 2, 4, 3, 3, 4, 6, 7)\n",
    "contador = 0\n",
    "\n",
    "for elemento in ejer_9:\n",
    "    if elemento == 3:\n",
    "        contador = contador + 1\n",
    "\n",
    "print(f\"1.El número 3 se repite {contador} veces\")\n",
    "\n",
    "tupla_9 = ejer_9[5:11]\n",
    "print(\"2. \",tupla_9)\n",
    "\n",
    "print(f\"3.Tiene {len(ejer_9)} elementos\")\n",
    "\n",
    "print(\"El elemento 60 esta en la tupla? = \", 60 in ejer_9)\n",
    "\n"
   ]
  },
  {
   "cell_type": "code",
   "execution_count": 93,
   "metadata": {},
   "outputs": [
    {
     "name": "stdout",
     "output_type": "stream",
     "text": [
      "4\n",
      "3\n"
     ]
    }
   ],
   "source": [
    "ejer_9 = (3, 20, 3, 47)\n",
    "print(len(ejer_9))\n",
    "\n",
    "colores2 = {\"rojo\", \"azul\", \"blanco\", \"rojo\"}\n",
    "print(len(colores2))"
   ]
  },
  {
   "attachments": {},
   "cell_type": "markdown",
   "metadata": {},
   "source": [
    "## Ejercicio 10\n",
    "1. Convierte la tupla del ejercicio 9 en una lista\n",
    "2. Convierte la tupla del ejercicio 9 en un set\n",
    "3. Convierte la tupla del ejercicio 9 en un diccionario. Usa también los índices"
   ]
  },
  {
   "cell_type": "code",
   "execution_count": 91,
   "metadata": {},
   "outputs": [
    {
     "name": "stdout",
     "output_type": "stream",
     "text": [
      "1. [3, 20, 3, 47, 19, 3, 29, 45, 67, 78, 90, 3, 3, 5, 2, 4, 7, 9, 4, 2, 4, 3, 3, 4, 6, 7]\n",
      "2.  {2, 3, 67, 5, 4, 7, 6, 9, 45, 78, 47, 19, 20, 90, 29}\n",
      "3. {0: 3, 1: 20, 2: 3, 3: 47, 4: 19, 5: 3, 6: 29, 7: 45, 8: 67, 9: 78, 10: 90, 11: 3, 12: 3, 13: 5, 14: 2, 15: 4, 16: 7, 17: 9, 18: 4, 19: 2, 20: 4, 21: 3, 22: 3, 23: 4, 24: 6, 25: 7}\n"
     ]
    }
   ],
   "source": [
    "ejer_9 = (3, 20, 3, 47, 19, 3, 29, 45, 67, 78, 90, 3, 3, 5, 2, 4, 7, 9, 4, 2, 4, 3, 3, 4, 6, 7)\n",
    "#1\n",
    "lista_10 = list(ejer_9)\n",
    "print(\"1.\",lista_10)\n",
    "\n",
    "#2\n",
    "set_10 = set(ejer_9)\n",
    "print(\"2. \",set_10)\n",
    "\n",
    "#3\n",
    "diccionario10 = dict(enumerate(ejer_9))\n",
    "print(\"3.\",diccionario10)\n"
   ]
  },
  {
   "cell_type": "code",
   "execution_count": 106,
   "metadata": {},
   "outputs": [
    {
     "name": "stdout",
     "output_type": "stream",
     "text": [
      "range(0, 4)\n",
      "['chorizo', 'jamon', 'queso', 'hamb']\n"
     ]
    }
   ],
   "source": [
    "#REVISAR (ESTE EJERCICIO NO ES POSIBLE PORQUE LA LISTA SE QUEDA SIN ELEMENTOS EN LA LISTA, POR ESO SIEMPRE HAY QUE PONER EL ULTIMO AL USAR POP)\n",
    "comida = [\"hamb\", \"queso\", \"jamon\", \"chorizo\"]\n",
    "intestino = []\n",
    "\n",
    "print(range(len_comida))\n",
    "len_comida = len(comida)\n",
    "for i in range(len_comida):\n",
    "    intestino.append(comida.pop(-1))\n",
    "print(intestino)"
   ]
  },
  {
   "cell_type": "markdown",
   "metadata": {},
   "source": [
    "## Ejercicio 11\n",
    "Convierte la siguiente lista en un diccionario\n",
    "> ```ejer_11 = [(\"x\", 1), (\"x\", 2), (\"x\", 3), (\"y\", 1), (\"y\", 2), (\"z\", 1)]```\n",
    "\n",
    "TIP: Puedes usar dos variables de control en un bucle `for`. Una por cada valor de las tuplas."
   ]
  },
  {
   "cell_type": "code",
   "execution_count": 108,
   "metadata": {},
   "outputs": [
    {
     "name": "stdout",
     "output_type": "stream",
     "text": [
      "{'x': 3, 'y': 2, 'z': 1}\n"
     ]
    }
   ],
   "source": [
    "ejer_11 = [(\"x\", 1), (\"x\", 2), (\"x\", 3), (\"y\", 1), (\"y\", 2), (\"z\", 1)]\n",
    "dic_11 = dict(ejer_11)\n",
    "print(dic_11)\n"
   ]
  },
  {
   "cell_type": "code",
   "execution_count": 111,
   "metadata": {},
   "outputs": [
    {
     "name": "stdout",
     "output_type": "stream",
     "text": [
      "{'x': 3, 'y': 2, 'z': 1}\n"
     ]
    }
   ],
   "source": [
    "##OTRA FORMA\n",
    "\n",
    "ejer_11 = [(\"x\", 1), (\"x\", 2), (\"x\", 3), (\"y\", 1), (\"y\", 2), (\"z\", 1)]\n",
    "dic_11 = {}\n",
    "\n",
    "for clave, valor in ejer_11:\n",
    "    dic_11[clave] = valor\n",
    "    \n",
    "print(dic_11)"
   ]
  },
  {
   "cell_type": "code",
   "execution_count": 116,
   "metadata": {},
   "outputs": [
    {
     "name": "stdout",
     "output_type": "stream",
     "text": [
      "{'x': 3, 'y': 2, 'z': 1}\n"
     ]
    }
   ],
   "source": [
    "##FORMA IDEAL\n",
    "\n",
    "ejer_11 = [(\"x\", 1), (\"x\", 2), (\"x\", 3), (\"y\", 1), (\"y\", 2), (\"z\", 1)]\n",
    "dic_11 = {}\n",
    "\n",
    "for clave, valor in ejer_11:\n",
    "     dic_11.update({clave : valor})\n",
    "    \n",
    "print(dic_11)"
   ]
  },
  {
   "attachments": {},
   "cell_type": "markdown",
   "metadata": {},
   "source": [
    "## Ejercicio 12\n",
    "1. Crea una lista ordenada ascendente con las claves del diccionario\n",
    "2. Crea otra lista ordenada descendente con los valores\n",
    "3. Añade una nueva clave/valor\n",
    "4. Busca la clave igual 2 dentro del diccionario\n",
    "5. Itera la clave y el valor del diccionario con un único for\n",
    "> ```ejer_12 = {4:78, 2:98, 8:234, 5:29}```"
   ]
  },
  {
   "cell_type": "code",
   "execution_count": 136,
   "metadata": {},
   "outputs": [
    {
     "name": "stdout",
     "output_type": "stream",
     "text": [
      "1. [2, 4, 5, 8]\n",
      "[(4, 78), (2, 98), (8, 234), (5, 29)]\n",
      "2. [234, 98, 78, 29]\n",
      "3. {4: 78, 2: 98, 8: 234, 5: 29, 'Que alguien': 'me mate'}\n",
      "4. 98\n",
      "5. 4 78\n",
      "5. 2 98\n",
      "5. 8 234\n",
      "5. 5 29\n",
      "5. Que alguien me mate\n",
      "{4: 78, 2: 98, 8: 234, 5: 29, 'Que alguien': 'me mate'}\n",
      "dict_items([(4, 78), (2, 98), (8, 234), (5, 29), ('Que alguien', 'me mate')])\n"
     ]
    }
   ],
   "source": [
    "#1\n",
    "ejer_12 = {4:78, 2:98, 8:234, 5:29}\n",
    "ejer_12_lista = list(ejer_12)\n",
    "print(\"1.\",sorted(ejer_12_lista))\n",
    "\n",
    "#2\n",
    "lista_duplas = list(ejer_12.items())\n",
    "print(lista_duplas)\n",
    "lista_valores = []\n",
    "\n",
    "for pareja in lista_duplas:\n",
    "    lista_valores.append(pareja[1])\n",
    "\n",
    "print(\"2.\",sorted(lista_valores,reverse = True))\n",
    "\n",
    "#3\n",
    "ejer_12[\"Que alguien\"] = \"me mate\"\n",
    "print(\"3.\",ejer_12)\n",
    "\n",
    "#4\n",
    "print(\"4.\",ejer_12[2])\n",
    "\n",
    "#5\n",
    "for clave, valor in ejer_12.items():\n",
    "    print(\"5.\",clave,valor)\n",
    "\n",
    "print(ejer_12)\n",
    "print(ejer_12.items())"
   ]
  },
  {
   "cell_type": "markdown",
   "metadata": {},
   "source": [
    "## Ejercicio 13\n",
    "Junta ambos diccionarios. Para ello, utiliza `update`\n",
    "> ```ejer_13_1 = {1: 11, 2: 22}```\n",
    ">\n",
    "> ```ejer_13_2 = {3: 33, 4: 44}```"
   ]
  },
  {
   "cell_type": "code",
   "execution_count": 142,
   "metadata": {},
   "outputs": [
    {
     "name": "stdout",
     "output_type": "stream",
     "text": [
      "dict_items([(3, 33), (4, 44)])\n",
      "RESULTADO:  {1: 11, 2: 22, 3: 33, 4: 44}\n"
     ]
    }
   ],
   "source": [
    "ejer_13_1 = {1: 11, 2: 22}\n",
    "ejer_13_2 = {3: 33, 4: 44}\n",
    "\n",
    "print(ejer_13_2.items())\n",
    "\n",
    "\n",
    "for clave,valor in ejer_13_2.items():\n",
    "    ejer_13_1.update({clave : valor})\n",
    "\n",
    "print(\"RESULTADO: \",ejer_13_1)\n",
    "    "
   ]
  },
  {
   "cell_type": "markdown",
   "metadata": {},
   "source": [
    "## Ejercicio 14\n",
    "Suma todos los valores del dicionario\n",
    "> ```ejer_14 = {1: 11, 2: 22, 3: 33, 4: 44, 5: 55}```"
   ]
  },
  {
   "cell_type": "code",
   "execution_count": 143,
   "metadata": {},
   "outputs": [
    {
     "name": "stdout",
     "output_type": "stream",
     "text": [
      "165\n"
     ]
    }
   ],
   "source": [
    "ejer_14 = {1: 11, 2: 22, 3: 33, 4: 44, 5: 55}\n",
    "suma = 0\n",
    "\n",
    "for clave, valor in ejer_14.items():\n",
    "    suma = suma + valor\n",
    "\n",
    "print(suma)"
   ]
  },
  {
   "cell_type": "markdown",
   "metadata": {},
   "source": [
    "## Ejercicio 15\n",
    "Multiplica todos los valores del diccionario\n",
    "> ```ejer_15 = {1: 11, 2: 22, 3: 33, 4: 44, 5: 55}```"
   ]
  },
  {
   "cell_type": "code",
   "execution_count": 145,
   "metadata": {},
   "outputs": [
    {
     "name": "stdout",
     "output_type": "stream",
     "text": [
      "19326120\n"
     ]
    }
   ],
   "source": [
    "ejer_14 = {1: 11, 2: 22, 3: 33, 4: 44, 5: 55}\n",
    "mult = 1\n",
    "\n",
    "for clave, valor in ejer_14.items():\n",
    "    mult = mult * valor\n",
    "\n",
    "print(mult)"
   ]
  },
  {
   "cell_type": "markdown",
   "metadata": {},
   "source": [
    "## Ejercicio 16\n",
    "1. Crea un set de tres elementos\n",
    "2. Añade un cuarto\n",
    "3. Elimina el último elemento añadido\n",
    "4. Elimina el elemento 10, si está presente. Usa `discard()`"
   ]
  },
  {
   "cell_type": "code",
   "execution_count": 178,
   "metadata": {},
   "outputs": [
    {
     "name": "stdout",
     "output_type": "stream",
     "text": [
      "1. {'azul', 'rojo', 'blanco'}\n",
      "2. {'azul', 'rojo', 'verde', 'blanco'}\n",
      "3. {'rojo', 'verde', 'blanco'}\n",
      "4. {'rojo', 'verde', 'blanco'}\n",
      "[(0, 'rojo'), (1, 'verde'), (2, 'blanco')]\n"
     ]
    },
    {
     "data": {
      "text/plain": [
       "set"
      ]
     },
     "execution_count": 178,
     "metadata": {},
     "output_type": "execute_result"
    }
   ],
   "source": [
    "#Por que lo agrega en la tercera posición?\n",
    "colores = {\"rojo\", \"azul\", \"blanco\"}\n",
    "colores_set = set(colores)\n",
    "print(\"1.\",colores_set)\n",
    "colores_set.add(\"verde\")\n",
    "print(\"2.\",colores_set)\n",
    "colores_set.pop()\n",
    "print(\"3.\",colores_set)\n",
    "\n",
    "for posicion, color in list(enumerate(colores_set)):\n",
    "        if posicion == 10:\n",
    "            colores.remove(color)\n",
    "print(\"4.\",colores_set)\n",
    "\n",
    "print(list(enumerate(colores_set)))\n",
    "type(colores_set)\n",
    "\n",
    "    "
   ]
  },
  {
   "cell_type": "code",
   "execution_count": null,
   "metadata": {},
   "outputs": [],
   "source": []
  }
 ],
 "metadata": {
  "kernelspec": {
   "display_name": "Python 3.7.4 64-bit",
   "language": "python",
   "name": "python3"
  },
  "language_info": {
   "codemirror_mode": {
    "name": "ipython",
    "version": 3
   },
   "file_extension": ".py",
   "mimetype": "text/x-python",
   "name": "python",
   "nbconvert_exporter": "python",
   "pygments_lexer": "ipython3",
   "version": "3.11.9"
  },
  "vscode": {
   "interpreter": {
    "hash": "90139cb9a825bf3d63f6f6704e828dbd1ff7edbd4d0c6e906a71235d6efc74af"
   }
  }
 },
 "nbformat": 4,
 "nbformat_minor": 4
}
