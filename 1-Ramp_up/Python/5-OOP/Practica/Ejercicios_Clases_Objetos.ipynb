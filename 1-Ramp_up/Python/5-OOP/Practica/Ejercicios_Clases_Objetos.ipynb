{
 "cells": [
  {
   "cell_type": "markdown",
   "metadata": {},
   "source": [
    "![imagen](./img/ejercicios.png)\n",
    "\n",
    "# Ejercicios Clases y Objetos"
   ]
  },
  {
   "attachments": {},
   "cell_type": "markdown",
   "metadata": {},
   "source": [
    "## Ejercicio 1\n",
    "Somos una empresa que tiene varias tiendas de electrodomésticos. Necesitamos un programa para manejar las tiendas, ver las ventas que han tenido, cuántos empleados hay, etc... Para ello vamos a modelizar la tienda en una clase, que tendrá las siguientes características:\n",
    "* Nombre clase: \"Tienda\"\n",
    "* Atributos comunes:\n",
    "    * Tipo: \"Electrodomésticos\"\n",
    "    * Abierta: True\n",
    "* Atributos propios de cada tienda:\n",
    "    * Nombre - String\n",
    "    * Dirección - String\n",
    "    * Número de empleados - int\n",
    "    * Ventas últimos 3 meses - Lista de 3 numeros\n",
    "* Método para calcular las ventas de todos los meses, que devuelva un número con todas las ventas.\n",
    "* Método que calcula la media de ventas de los últimos meses, por empleado\n",
    "* Método que devuelve en un string el nombre de la tienda, junto con su dirección.\n",
    "* Método que obtiene las ventas del último mes.\n",
    "* Método para dar una proyección de las ventas en caso de haber invertido X dinero en marketing en esa tienda. Siendo X el parámetro de entrada. Si X es menor de 1000, las ventas de los ultimos 3 meses hubiesen sido de (1.2 x ventas), si es mayor o igual de 1000, las ventas hubiesen sido de (1.5 x venta). El método reescribe el atributo de ventas en los últimos 3 meses, y además devuelve las ventas con el aumento.\n",
    "\n",
    "Se pide:\n",
    "1. Implementar la clase \"Tienda\"\n",
    "2. Crear tres tiendas con datos inventados\n",
    "3. Comprueba en al menos una de ellas, todo lo implementado en la clase tienda (sus atributos, media de ventas, ventas/empleado...)\n",
    "3. Calcular las ventas del último mes de todas las tiendas. Para ello usa el bucle `for`\n",
    "4. Imprime por pantalla los nombres de las tiendas cuya dirección lleve el string \"Avenida\"\n",
    "5. Seguro que ya has hecho este apartado... Documenta la clase :)"
   ]
  },
  {
   "cell_type": "code",
   "execution_count": 2,
   "metadata": {},
   "outputs": [],
   "source": [
    "class Tienda(object):\n",
    "    tipo = \"Electrodomésticos\"\n",
    "    abierta = True\n",
    "\n",
    "    def __init__(self,nombre,direccion,n_emp,ventas_3m):\n",
    "        self.nombre = nombre\n",
    "        self.direccion = direccion\n",
    "        self.n_emp = n_emp\n",
    "        self.ventas_3m = ventas_3m\n",
    "\n",
    "    def total_ventas(self):\n",
    "        sumatoria = 0\n",
    "        for valor in self.ventas_3m:\n",
    "            sumatoria = sumatoria + valor\n",
    "        return sumatoria\n",
    "    \n",
    "    def ventas_promedio(self):\n",
    "        return self.total_ventas() / len(self.ventas_3m) / self.n_emp\n",
    "    \n",
    "    def nombre_direccion(self):\n",
    "        return self.nombre + \" \" + self.direccion\n",
    "    \n",
    "    def ultimo_mes(self):\n",
    "        return self.ventas_3m[-1]\n",
    "    \n",
    "    def proyeccion(self,inversion):\n",
    "        ventas_copia = self.ventas_3m.copy()\n",
    "\n",
    "        if inversion < 0:\n",
    "            return \"Por favor introduce un valor válido\"\n",
    "        elif inversion < 1000:\n",
    "            self.ventas_3m.clear()\n",
    "            for valor in ventas_copia:\n",
    "                self.ventas_3m.append(valor*1.2)\n",
    "        else:\n",
    "            self.ventas_3m.clear()\n",
    "            for valor in ventas_copia:\n",
    "                self.ventas_3m.append(valor*1.5)\n",
    "        return self.ventas_3m\n",
    "    \n"
   ]
  },
  {
   "cell_type": "code",
   "execution_count": 3,
   "metadata": {},
   "outputs": [],
   "source": [
    "# Definición de 3 tiendas distintas\n",
    "\n",
    "tienda1 = Tienda(\"Mobitec\",\"Blasco Ibanez\",3,[1000,2000,3000])\n",
    "tienda2 = Tienda(\"Kebab 'Jelicobacter' \",\"Avenida de tumadre\",4,[100,200,300])\n",
    "tienda3 = Tienda(\"Pastisseria 'La Salmonella'\",\"Avenida del fin del mundo\",5,[100,200,300])"
   ]
  },
  {
   "cell_type": "code",
   "execution_count": 4,
   "metadata": {},
   "outputs": [
    {
     "name": "stdout",
     "output_type": "stream",
     "text": [
      "Electrodomésticos\n",
      "Mobitec\n",
      "Blasco Ibanez\n",
      "3\n",
      "[1000, 2000, 3000]\n",
      "{'nombre': 'Mobitec', 'direccion': 'Blasco Ibanez', 'n_emp': 3, 'ventas_3m': [1000, 2000, 3000]}\n"
     ]
    }
   ],
   "source": [
    "# Prueba de atributos de tienda 1\n",
    "print(tienda1.tipo)\n",
    "print(tienda1.nombre)\n",
    "print(tienda1.direccion)\n",
    "print(tienda1.n_emp)\n",
    "print(tienda1.ventas_3m)\n",
    "print(tienda1.__dict__)"
   ]
  },
  {
   "cell_type": "code",
   "execution_count": 103,
   "metadata": {},
   "outputs": [
    {
     "name": "stdout",
     "output_type": "stream",
     "text": [
      "6000\n",
      "666.6666666666666\n",
      "Mobitec Blasco Ibanez\n",
      "3000\n",
      "[1200.0, 2400.0, 3600.0]\n"
     ]
    }
   ],
   "source": [
    "# Prueba de funciones de tienda 1\n",
    "print(tienda1.total_ventas())\n",
    "print(tienda1.ventas_promedio())\n",
    "print(tienda1.nombre_direccion())\n",
    "print(tienda1.ultimo_mes())\n",
    "print(tienda1.proyeccion(100))"
   ]
  },
  {
   "cell_type": "code",
   "execution_count": 110,
   "metadata": {},
   "outputs": [
    {
     "name": "stdout",
     "output_type": "stream",
     "text": [
      "El total de ventas general de las 3 tiendas es 3600\n"
     ]
    }
   ],
   "source": [
    "# Suma de último mes de todas las tiendas\n",
    "lista_tiendas = [tienda1,tienda2,tienda3]\n",
    "total_ventas_general = 0\n",
    "\n",
    "for tienda in lista_tiendas:\n",
    "    total_ventas_general += tienda.ultimo_mes()\n",
    "\n",
    "print(f\"El total de ventas general de las 3 tiendas es {total_ventas_general}\")"
   ]
  },
  {
   "cell_type": "code",
   "execution_count": 5,
   "metadata": {},
   "outputs": [
    {
     "name": "stdout",
     "output_type": "stream",
     "text": [
      "Kebab 'Jelicobacter' \n",
      "Pastisseria 'La Salmonella'\n"
     ]
    }
   ],
   "source": [
    "# Imprime por pantalla los nombres de las tiendas cuya dirección lleve el string \"Avenida\"\n",
    "\n",
    "lista_dic_tiendas = [tienda1, tienda2, tienda3]\n",
    "\n",
    "for tienda in lista_dic_tiendas:\n",
    "    if \"Avenida\" in tienda.direccion:\n",
    "        print(tienda.nombre)"
   ]
  },
  {
   "cell_type": "code",
   "execution_count": 106,
   "metadata": {},
   "outputs": [
    {
     "name": "stdout",
     "output_type": "stream",
     "text": [
      "{'nombre': 'Mobitec', 'direccion': 'Blasco Ibanez', 'n_emp': 3, 'ventas_3m': [1200.0, 2400.0, 3600.0]}\n"
     ]
    }
   ],
   "source": [
    "# Seguro que ya has hecho este apartado... Documenta la clase :)\n",
    "class Tienda(object):\n",
    "    \"\"\"\n",
    "    Clase que representa una tienda de electrodomésticos.\n",
    "    \n",
    "    Atributos:\n",
    "    tipo (str): Tipo de tienda, por defecto \"Electrodomésticos\".\n",
    "    abierta (bool): Indica si la tienda está abierta, por defecto True.\n",
    "    \"\"\"\n",
    "\n",
    "    tipo = \"Electrodomésticos\"\n",
    "    abierta = True\n",
    "\n",
    "    def __init__(self, nombre, direccion, n_emp, ventas_3m):\n",
    "        \"\"\"\n",
    "        Inicializa una instancia de la clase Tienda.\n",
    "        \n",
    "        Args:\n",
    "        nombre (str): Nombre de la tienda.\n",
    "        direccion (str): Dirección de la tienda.\n",
    "        n_emp (int): Número de empleados en la tienda.\n",
    "        ventas_3m (list): Lista de las ventas de los últimos 3 meses.\n",
    "        \"\"\"\n",
    "        self.nombre = nombre\n",
    "        self.direccion = direccion\n",
    "        self.n_emp = n_emp\n",
    "        self.ventas_3m = ventas_3m\n",
    "\n",
    "    def total_ventas(self):\n",
    "        \"\"\"\n",
    "        Calcula el total de ventas en los últimos 3 meses.\n",
    "        \n",
    "        Returns:\n",
    "        float: Sumatoria total de las ventas en los últimos 3 meses.\n",
    "        \"\"\"\n",
    "        sumatoria = 0\n",
    "        for valor in self.ventas_3m:\n",
    "            sumatoria = sumatoria + valor\n",
    "        return sumatoria\n",
    "\n",
    "    def ventas_promedio(self):\n",
    "        \"\"\"\n",
    "        Calcula el promedio de ventas por empleado.\n",
    "        \n",
    "        Returns:\n",
    "        float: Promedio de ventas por empleado en los últimos 3 meses.\n",
    "        \"\"\"\n",
    "        return self.total_ventas() / len(self.ventas_3m) / self.n_emp\n",
    "\n",
    "    def nombre_direccion(self):\n",
    "        \"\"\"\n",
    "        Devuelve el nombre y la dirección de la tienda.\n",
    "        \n",
    "        Returns:\n",
    "        str: Cadena con el nombre y la dirección de la tienda.\n",
    "        \"\"\"\n",
    "        return self.nombre + \" \" + self.direccion\n",
    "\n",
    "    def ultimo_mes(self):\n",
    "        \"\"\"\n",
    "        Devuelve las ventas del último mes.\n",
    "        \n",
    "        Returns:\n",
    "        float: Ventas correspondientes al último mes.\n",
    "        \"\"\"\n",
    "        return self.ventas_3m[-1]\n",
    "\n",
    "    def proyeccion(self, inversion):\n",
    "        \"\"\"\n",
    "        Proyecta el crecimiento de las ventas basado en la inversión realizada.\n",
    "        \n",
    "        Si la inversión es menor a 1000, se incrementan las ventas un 20%. Si la inversión es mayor o igual a 1000, las ventas se incrementan un 50%.\n",
    "        \n",
    "        Args:\n",
    "        inversion (float): Monto de la inversión.\n",
    "        \n",
    "        Returns:\n",
    "        list: Lista actualizada de ventas proyectadas.\n",
    "        str: Mensaje de error si la inversión es un valor inválido.\n",
    "        \"\"\"\n",
    "        ventas_copia = self.ventas_3m.copy()\n",
    "\n",
    "        if inversion < 0:\n",
    "            return \"Por favor introduce un valor válido\"\n",
    "        elif inversion < 1000:\n",
    "            self.ventas_3m.clear()\n",
    "            for valor in ventas_copia:\n",
    "                self.ventas_3m.append(valor * 1.2)\n",
    "        else:\n",
    "            self.ventas_3m.clear()\n",
    "            for valor in ventas_copia:\n",
    "                self.ventas_3m.append(valor * 1.5)\n",
    "        \n",
    "        return self.ventas_3m\n"
   ]
  },
  {
   "cell_type": "markdown",
   "metadata": {},
   "source": [
    "## Ejercicio 2\n",
    "En este ejercicio vamos a implementar una clase *Perro* en Python. La clase tiene las siguientes características:\n",
    "* Cosas que sabemos seguro que tiene un perro\n",
    "    * Tiene 4 patas\n",
    "    * 2 orejas\n",
    "    * 2 ojos\n",
    "    * Una velocidad de 0. Por defecto, el perro está parado\n",
    "* Cuando se inicialice:\n",
    "    * El perro será de una determinada raza\n",
    "    * Por defecto tendrá pelo \"Marrón\", a no ser que se diga lo contrario.\n",
    "    * Por defecto no tendrá dueño, a no ser que se diga lo contrario.\n",
    "    \n",
    "* Dispondrá también de un método llamado andar, que tiene un argumento de entrada (aumento_velocidad). Este valor se le sumará a la velocidad que ya llevaba el perro.\n",
    "* Necesita otro método (parar), donde pondremos la velocidad a 0.\n",
    "* Otro método llamado \"ladrar\", que tendrá un argumento de entrada, y la salida será el siguiente string: \"GUAU!\" + el argumento de entrada.\n",
    "\n",
    "\n",
    "Se pide:\n",
    "* Implementa la clase *Perro*\n",
    "* Crea un objeto de tipo *Perro*, sin dueño\n",
    "* Comprueba que están bien todos sus atributos\n",
    "* Prueba que ande, y comprueba su velocidad\n",
    "* Páralo\n",
    "* Documenta la clase *Perro*"
   ]
  },
  {
   "cell_type": "code",
   "execution_count": 142,
   "metadata": {},
   "outputs": [],
   "source": [
    "class Perro(object):\n",
    "    patas = 4\n",
    "    orejas = 2\n",
    "    ojos = 2\n",
    "    velocidad = 0\n",
    "\n",
    "    def __init__(self,raza,color=\"Marrón\",dueno=False):\n",
    "        self.raza = raza\n",
    "        self.color = color\n",
    "        self.dueno = dueno\n",
    "\n",
    "    def andar(self,aumento):\n",
    "        self.velocidad = self.velocidad + aumento\n",
    "\n",
    "    def parar(self):\n",
    "        self.velocidad = 0\n",
    "\n",
    "    def ladrar(self,ladrido):\n",
    "        return \"GUAU!\" + ladrido\n"
   ]
  },
  {
   "cell_type": "code",
   "execution_count": 143,
   "metadata": {},
   "outputs": [],
   "source": [
    "# * Crea un objeto de tipo *Perro*, sin dueño\n",
    "perro = Perro(\"Chihuahua\")\n"
   ]
  },
  {
   "cell_type": "code",
   "execution_count": 141,
   "metadata": {},
   "outputs": [
    {
     "name": "stdout",
     "output_type": "stream",
     "text": [
      "4\n",
      "2\n",
      "2\n",
      "15\n",
      "{'raza': 'Chihuahua', 'color': 'Marrón', 'dueno': False, 'velocidad': 15}\n",
      "Chihuahua\n",
      "Marrón\n",
      "False\n"
     ]
    }
   ],
   "source": [
    "# * Comprueba que están bien todos sus atributos\n",
    "print(perro.patas)\n",
    "print(perro.orejas)\n",
    "print(perro.ojos)\n",
    "print(perro.velocidad)\n",
    "print(perro.__dict__)\n",
    "print(perro.raza)\n",
    "print(perro.color)\n",
    "print(perro.dueno)\n"
   ]
  },
  {
   "cell_type": "code",
   "execution_count": 150,
   "metadata": {},
   "outputs": [
    {
     "name": "stdout",
     "output_type": "stream",
     "text": [
      "5\n",
      "10\n"
     ]
    }
   ],
   "source": [
    "# * Prueba que ande, y comprueba su velocidad\n",
    "print(perro.velocidad)\n",
    "perro.andar(5)\n",
    "print(perro.velocidad)"
   ]
  },
  {
   "cell_type": "code",
   "execution_count": 152,
   "metadata": {},
   "outputs": [
    {
     "name": "stdout",
     "output_type": "stream",
     "text": [
      "0\n",
      "5\n",
      "0\n"
     ]
    }
   ],
   "source": [
    "#* Páralo\n",
    "print(perro.velocidad)\n",
    "perro.andar(5)\n",
    "print(perro.velocidad)\n",
    "perro.parar()\n",
    "print(perro.velocidad)"
   ]
  },
  {
   "cell_type": "code",
   "execution_count": 153,
   "metadata": {},
   "outputs": [],
   "source": [
    "# * Documenta la clase *Perro*\n",
    "class Perro(object):\n",
    "    \"\"\"\n",
    "    Clase que representa un perro.\n",
    "    \n",
    "    Atributos:\n",
    "    patas (int): Número de patas del perro, por defecto 4.\n",
    "    orejas (int): Número de orejas del perro, por defecto 2.\n",
    "    ojos (int): Número de ojos del perro, por defecto 2.\n",
    "    velocidad (int): Velocidad actual del perro, por defecto 0.\n",
    "    \"\"\"\n",
    "\n",
    "    patas = 4\n",
    "    orejas = 2\n",
    "    ojos = 2\n",
    "    velocidad = 0\n",
    "\n",
    "    def __init__(self, raza, color=\"Marrón\", dueno=False):\n",
    "        \"\"\"\n",
    "        Inicializa una instancia de la clase Perro.\n",
    "        \n",
    "        Args:\n",
    "        raza (str): Raza del perro.\n",
    "        color (str, opcional): Color del perro, por defecto \"Marrón\".\n",
    "        dueno (bool, opcional): Indica si el perro tiene dueño, por defecto False.\n",
    "        \"\"\"\n",
    "        self.raza = raza\n",
    "        self.color = color\n",
    "        self.dueno = dueno\n",
    "\n",
    "    def andar(self, aumento):\n",
    "        \"\"\"\n",
    "        Aumenta la velocidad del perro.\n",
    "        \n",
    "        Args:\n",
    "        aumento (int): Incremento en la velocidad del perro.\n",
    "        \"\"\"\n",
    "        self.velocidad = self.velocidad + aumento\n",
    "\n",
    "    def parar(self):\n",
    "        \"\"\"\n",
    "        Detiene al perro, poniendo su velocidad en 0.\n",
    "        \"\"\"\n",
    "        self.velocidad = 0\n",
    "\n",
    "    def ladrar(self, ladrido):\n",
    "        \"\"\"\n",
    "        Hace que el perro ladre.\n",
    "        \n",
    "        Args:\n",
    "        ladrido (str): El sonido que acompaña al ladrido.\n",
    "\n",
    "        Returns:\n",
    "        str: El ladrido del perro seguido del sonido proporcionado.\n",
    "        \"\"\"\n",
    "        return \"GUAU!\" + ladrido\n"
   ]
  },
  {
   "cell_type": "markdown",
   "metadata": {},
   "source": [
    "# EJERCICIO DE RECURSIVIDAD"
   ]
  },
  {
   "cell_type": "code",
   "execution_count": 5,
   "metadata": {},
   "outputs": [
    {
     "data": {
      "text/plain": [
       "[0, 1, 3, 4, 5, 6, 7, 9]"
      ]
     },
     "execution_count": 5,
     "metadata": {},
     "output_type": "execute_result"
    }
   ],
   "source": [
    "sorted([1,4,3,6,7,9,5,0])"
   ]
  },
  {
   "cell_type": "code",
   "execution_count": 7,
   "metadata": {},
   "outputs": [
    {
     "name": "stdout",
     "output_type": "stream",
     "text": [
      "aqui!\n",
      "derecha\n",
      "aqui!\n",
      "izquierda\n",
      "aqui!\n",
      "Encontrado\n"
     ]
    },
    {
     "data": {
      "text/plain": [
       "6"
      ]
     },
     "execution_count": 7,
     "metadata": {},
     "output_type": "execute_result"
    }
   ],
   "source": [
    "arr = [1,4,3,6,7,9,5,0]\n",
    "num_a_buscar = 6\n",
    "\n",
    "\n",
    "def binary_search(arr, num_a_buscar):\n",
    "    print(\"aqui!\")\n",
    "    arr = sorted(arr)\n",
    "    \n",
    "    if arr == []:\n",
    "        print(\"No encontrado\")\n",
    "        return None\n",
    "    else:\n",
    "        punto_medio = len(arr)//2\n",
    "        numero_a_comparar = arr[punto_medio]\n",
    "        # print(punto_medio)\n",
    "        # print(num_a_buscar)\n",
    "        # print(arr)\n",
    "        if num_a_buscar == numero_a_comparar:\n",
    "            print(\"Encontrado\")\n",
    "            return num_a_buscar\n",
    "        else:\n",
    "            if num_a_buscar > numero_a_comparar:\n",
    "                print(\"derecha\")\n",
    "                return binary_search(arr[punto_medio+1:], num_a_buscar)\n",
    "            else:\n",
    "                print(\"izquierda\")\n",
    "                return binary_search(arr[:punto_medio], num_a_buscar)\n",
    "            \n",
    "binary_search(arr, num_a_buscar)"
   ]
  },
  {
   "cell_type": "code",
   "execution_count": null,
   "metadata": {},
   "outputs": [],
   "source": []
  }
 ],
 "metadata": {
  "kernelspec": {
   "display_name": "fundamentals_env",
   "language": "python",
   "name": "python3"
  },
  "language_info": {
   "codemirror_mode": {
    "name": "ipython",
    "version": 3
   },
   "file_extension": ".py",
   "mimetype": "text/x-python",
   "name": "python",
   "nbconvert_exporter": "python",
   "pygments_lexer": "ipython3",
   "version": "3.11.9"
  }
 },
 "nbformat": 4,
 "nbformat_minor": 4
}
