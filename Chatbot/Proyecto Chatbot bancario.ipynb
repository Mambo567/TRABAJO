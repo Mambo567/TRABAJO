{
 "cells": [
  {
   "cell_type": "markdown",
   "id": "ba20010d-88b3-4503-9e8c-2f968c7b4376",
   "metadata": {},
   "source": [
    "![Sample Image](Banco_Logo.jpg)\n",
    "\n",
    "\n",
    "# Asistente Virtual Bancario - Banco de tu Prima\n",
    "\n",
    "El **Asistente Virtual Bancario** desarrollado para **Banco de tu Prima** está diseñado para **revolucionar la experiencia** de sus clientes, brindando rapidez, simplicidad y seguridad en las operaciones bancarias diarias. Nuestro producto se adapta perfectamente a las necesidades modernas de los usuarios, quienes buscan soluciones eficientes y de fácil acceso.\n",
    "\n",
    "## Características Destacadas\n",
    "\n",
    "### • Acceso Inmediato y Sin Espera:\n",
    "- Ofrece una **respuesta inmediata** para realizar operaciones bancarias sin necesidad de acudir a una sucursal o esperar largos tiempos en línea.\n",
    "- Disponible **24/7** para que los usuarios puedan acceder en cualquier momento, sin importar dónde se encuentren.\n",
    "\n",
    "### • Funciones Esenciales Simplificadas:\n",
    "- **Consulta de saldo** en segundos: Los clientes pueden consultar su saldo actual de manera inmediata con un simple comando.\n",
    "- **Transferencias rápidas y seguras**: Realiza transferencias entre cuentas de forma instantánea, minimizando errores con comprobaciones de saldo antes de cada operación.\n",
    "- **Pago de servicios con un solo paso**: Paga facturas de servicios esenciales como luz, agua o internet de forma rápida y eficiente.\n",
    "\n",
    "### • Interfaz Amigable y Conversacional:\n",
    "- Permite a los clientes interactuar en **lenguaje natural**, seleccionando opciones mediante palabras comunes como \"uno\", \"dos\", \"tres\", etc.\n",
    "- Diseño **intuitivo y fácil de usar**, adecuado para todo tipo de usuarios, desde novatos hasta clientes experimentados.\n",
    "\n",
    "### • Seguridad Garantizada:\n",
    "- **Verificaciones automáticas** de saldo para evitar transferencias fallidas o pagos con fondos insuficientes.\n",
    "- **Seguridad en cada transacción**, protegiendo los datos y el dinero de los clientes.\n",
    "\n",
    "## Beneficios para el Cliente\n",
    "\n",
    "- **Ahorro de Tiempo**: Realiza las operaciones bancarias más importantes en menos de un minuto, sin tener que navegar por complicados menús.\n",
    "- **Comodidad**: No más viajes a la sucursal o largas llamadas telefónicas. Todo lo necesario está al alcance de la mano, disponible en cualquier momento.\n",
    "- **Confianza**: El sistema asegura que cada operación se realiza de forma segura y eficiente, eliminando errores y preocupaciones.\n",
    "\n",
    "## Conclusión\n",
    "\n",
    "Con el **Asistente Virtual Bancario** de **Banco de tu Prima**, la relación entre el banco y el cliente alcanza un nuevo nivel de eficiencia y satisfacción. Este sistema no solo mejora la **experiencia del usuario**, sino que también **optimiza los procesos internos**, haciendo del banco una entidad más moderna, ágil y adaptada a las necesidades del futuro.\n"
   ]
  },
  {
   "cell_type": "code",
   "execution_count": 1,
   "id": "48e85dbe-cb88-4dbb-b052-3b81d5243f3d",
   "metadata": {},
   "outputs": [
    {
     "name": "stdout",
     "output_type": "stream",
     "text": [
      "¡Bienvenido al Banco DeTuPrima!\n",
      "¡Banco en el que puedes confiar como si fuera tu familia!\n",
      "\n",
      "¿En qué puedo ayudarte :)?\n",
      "1. Consultar mi saldo\n",
      "2. Realizar una transferencia\n",
      "3. Pagar un servicio\n",
      "4. Tengo un problemilla :(\n",
      "5. Salir\n"
     ]
    },
    {
     "name": "stdin",
     "output_type": "stream",
     "text": [
      "\n",
      "Seleccione una opción (1-4):  3\n",
      "Ingrese el nombre del servicio (luz, agua, internet):  luz\n",
      "Ingrese el monto a pagar:  50\n"
     ]
    },
    {
     "name": "stdout",
     "output_type": "stream",
     "text": [
      "Pago de EUR 50.0  al servicio de  luz  realizado con éxito ;) \n"
     ]
    }
   ],
   "source": [
    "saldo = 1000.00  # Saldo inicial\n",
    "print(\"¡Bienvenido al Banco DeTuPrima!\")\n",
    "print(\"¡Banco en el que puedes confiar como si fuera tu familia!\")\n",
    "print(\"\\n¿En qué puedo ayudarte :)?\")\n",
    "print(\"1. Consultar mi saldo\")\n",
    "print(\"2. Realizar una transferencia\")\n",
    "print(\"3. Pagar un servicio\")\n",
    "print(\"4. Tengo un problemilla :(\")\n",
    "print(\"5. Salir\")\n",
    "\n",
    "opcion = input(\"\\nSeleccione una opción (1-4): \")\n",
    "\n",
    "if opcion == \"1\":\n",
    "    print(\"\\n Tranquilo que tienes pasta todavia :) Tu saldo actual es de: EUR\",saldo)\n",
    "\n",
    "elif opcion == \"2\":\n",
    "    cuenta_destino = input(\"Ingrese el número de cuenta de destino: \")\n",
    "    monto = float(input(\"Ingrese el monto a transferir (En euros): \"))\n",
    "    if monto > saldo:\n",
    "        print(\"¡Epa! ¡Lo siento, prim@, pero los fondos son insuficientes. :(\")\n",
    "    else:\n",
    "        saldo = saldo - monto\n",
    "        print(\"Transferencia exitosa de EUR \", monto,  \" a la cuenta \", cuenta_destino, \" ;) \")\n",
    "        \n",
    "elif opcion == \"3\":\n",
    "    servicio = input(\"Ingrese el nombre del servicio (luz, agua, internet): \")\n",
    "    monto = float(input(\"Ingrese el monto a pagar: \"))\n",
    "    if monto > saldo:\n",
    "        print(\"¡Epa! ¡Lo siento, prim@, pero los fondos son insuficientes. :(\")\n",
    "    else:\n",
    "        saldo = saldo - monto\n",
    "        print(\"Pago de EUR\", monto, \" al servicio de \", servicio, \" realizado con éxito ;) \")\n",
    "\n",
    "elif opcion == \"4\":\n",
    "    respuesta = input(\"¿Es una emergencia? (si/no)\")\n",
    "    if respuesta == \"si\":\n",
    "        print(\"¡No te preocupes, prim@! ¡Te atendemos de inmediato! ¡Llámanos a nuestro número de emergencias +11 123456789 para atenderte como se debe! :)\")\n",
    "    elif respuesta == \"no\":\n",
    "        print(\"¡Que alivio, prim@! :) ¡Pásate por nuestra pagina en www.bancodetuprima/consultas y mira si tu consulta esta resuelta allí!\")\n",
    "    else:\n",
    "         print(\"Ehhh, lo siento pero ese comando no lo conozco, prim@ :( avisame si puedo ayudarte en algo más :)\" )\n",
    "        \n",
    "elif opcion == \"5\":\n",
    "    print(\"¿Te has arrepentido? ¡No pasa nada!, aqui estamos para lo que necesites, prim@ :) \")\n",
    "\n",
    "else:\n",
    "    print(\"Ehhh, lo siento pero ese comando no lo conozco, prim@ :( avisame si puedo ayudarte en algo más :)\" )"
   ]
  },
  {
   "cell_type": "code",
   "execution_count": null,
   "id": "f21272cc-38c3-4ffd-a66f-0db3cd7c6830",
   "metadata": {},
   "outputs": [],
   "source": []
  }
 ],
 "metadata": {
  "kernelspec": {
   "display_name": "Python 3 (ipykernel)",
   "language": "python",
   "name": "python3"
  },
  "language_info": {
   "codemirror_mode": {
    "name": "ipython",
    "version": 3
   },
   "file_extension": ".py",
   "mimetype": "text/x-python",
   "name": "python",
   "nbconvert_exporter": "python",
   "pygments_lexer": "ipython3",
   "version": "3.12.4"
  }
 },
 "nbformat": 4,
 "nbformat_minor": 5
}
